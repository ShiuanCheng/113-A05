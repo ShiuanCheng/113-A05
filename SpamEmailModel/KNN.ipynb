{
 "cells": [
  {
   "cell_type": "code",
   "execution_count": 1,
   "id": "cb811122",
   "metadata": {},
   "outputs": [
    {
     "data": {
      "application/vnd.microsoft.datawrangler.viewer.v0+json": {
       "columns": [
        {
         "name": "index",
         "rawType": "int64",
         "type": "integer"
        },
        {
         "name": "subject",
         "rawType": "object",
         "type": "string"
        },
        {
         "name": "message",
         "rawType": "object",
         "type": "string"
        },
        {
         "name": "label",
         "rawType": "int64",
         "type": "integer"
        }
       ],
       "conversionMethod": "pd.DataFrame",
       "ref": "dda04d9c-3719-4dff-ae0e-a1ce7c2e1407",
       "rows": [
        [
         "0",
         "The FuelCell Rebel",
         "全新顏色\n\nNew Balance\nhttps://link.email.newbalance.com.tw/u/nrd.php?p=C2npfZ9AQq_63341_8871928_1_2&ems_l=15716152&i=1&d=Njc0NDU2NDE3%7CQzJucGZaOUFRcQ%3D%3D%7CZjYzMjc1MTNkMGRhYjU0YzE%3D%7CMjAyNTAzMTdfUmViZWxfVjRfVFc%3D%7C&_esuh=_11_ad0721048baddef75cbbbd0c4889b135f43a9790ee8ea8a05a5522dfe191c1e0\n\n\n男裝\nhttps://link.email.newbalance.com.tw/u/nrd.php?p=C2npfZ9AQq_63341_8871928_1_4&ems_l=15716152&i=1&d=Njc0NDU2NDE5%7CQzJucGZaOUFRcQ%3D%3D%7CZjYzMjc1MTNkMGRhYjU0YzE%3D%7CMjAyNTAzMTdfUmViZWxfVjRfVFc%3D%7C&_esuh=_11_393cec62b6f140ea6450b7595692e17e886eb75d7263379318baafb00abb7204\n\n女裝\nhttps://link.email.newbalance.com.tw/u/nrd.php?p=C2npfZ9AQq_63341_8871928_1_6&ems_l=15716152&i=1&d=Njc0NDU2NDIx%7CQzJucGZaOUFRcQ%3D%3D%7CZjYzMjc1MTNkMGRhYjU0YzE%3D%7CMjAyNTAzMTdfUmViZWxfVjRfVFc%3D%7C&_esuh=_11_2d6f5e12e363f3f9a0fa2a736c2bb509cfd1d3c76418dd6ef57154f437027ff4\n\n兒童\nhttps://link.email.newbalance.com.tw/u/nrd.php?p=C2npfZ9AQq_63341_8871928_1_8&ems_l=15716152&i=1&d=Njc0NDU2NDIz%7CQzJucGZaOUFRcQ%3D%3D%7CZjYzMjc1MTNkMGRhYjU0YzE%3D%7CMjAyNTAzMTdfUmViZWxfVjRfVFc%3D%7C&_esuh=_11_12f43a5ddcaa33bf32de1274173d9cd68a3dbbe3dddc6713b183c77b48078749\n\n\nhttps://link.email.newbalance.com.tw/u/nrd.php?p=C2npfZ9AQq_63341_8871928_1_10&ems_l=15716152&i=1&d=Njc0NDU2NDI1%7CQzJucGZaOUFRcQ%3D%3D%7CZjYzMjc1MTNkMGRhYjU0YzE%3D%7CMjAyNTAzMTdfUmViZWxfVjRfVFc%3D%7C&_esuh=_11_9565c77012ddb61d42503651860dfee5ee0b7ae5d35c627d604fcf5f8c7f8c9c\n\n\n專為速度而打造。為跑步補充能量。\n\n立即選購\nhttps://link.email.newbalance.com.tw/u/nrd.php?p=C2npfZ9AQq_63341_8871928_1_12&ems_l=15716152&i=1&d=Njc0NDU2NDI3%7CQzJucGZaOUFRcQ%3D%3D%7CZjYzMjc1MTNkMGRhYjU0YzE%3D%7CMjAyNTAzMTdfUmViZWxfVjRfVFc%3D%7C&_esuh=_11_c71f0fdeaca2b24c07dd198a8820386b4c5e49771bea678cc0c7fa5af25c039f\n\n\n立即選購\nhttps://link.email.newbalance.com.tw/u/nrd.php?p=C2npfZ9AQq_63341_8871928_1_14&ems_l=15716152&i=1&d=Njc0NDU2NDI5%7CQzJucGZaOUFRcQ%3D%3D%7CZjYzMjc1MTNkMGRhYjU0YzE%3D%7CMjAyNTAzMTdfUmViZWxfVjRfVFc%3D%7C&_esuh=_11_2fbe0084fb6a17d4766c0dc35f7bc83acdfbcbc50ccf5160d57c783d4572e1b1\n\n\nhttps://link.email.newbalance.com.tw/u/nrd.php?p=C2npfZ9AQq_63341_8871928_1_16&ems_l=15716152&i=1&d=Njc0NDU2NDMx%7CQzJucGZaOUFRcQ%3D%3D%7CZjYzMjc1MTNkMGRhYjU0YzE%3D%7CMjAyNTAzMTdfUmViZWxfVjRfVFc%3D%7C&_esuh=_11_a07a40fba923ed398c9113bbf01b3d61b2ec99587c2e64786913b95e2f90a64a\n\n\nhttps://link.email.newbalance.com.tw/u/nrd.php?p=C2npfZ9AQq_63341_8871928_1_18&ems_l=15716152&i=1&d=Njc0NDU2NDMz%7CQzJucGZaOUFRcQ%3D%3D%7CZjYzMjc1MTNkMGRhYjU0YzE%3D%7CMjAyNTAzMTdfUmViZWxfVjRfVFc%3D%7C&_esuh=_11_c968f1bf656825fe24ee790c967483ccd5987acd4d50c095921e939e769e800f\n\n\nShipping\n\nShipping\n\nhttps://link.email.newbalance.com.tw/u/nrd.php?p=C2npfZ9AQq_63341_8871928_1_20&ems_l=15716152&i=1&d=Njc0NDU2NDM1%7CQzJucGZaOUFRcQ%3D%3D%7CZjYzMjc1MTNkMGRhYjU0YzE%3D%7CMjAyNTAzMTdfUmViZWxfVjRfVFc%3D%7C&_esuh=_11_9e664a9aa5fab48439c08ce2c15dd7ffa29d89a7595a9a0f2e0207024742fe0b\n\n\n會員購物滿2,400元可享免運費\n\nhttps://link.email.newbalance.com.tw/u/nrd.php?p=C2npfZ9AQq_63341_8871928_1_30&ems_l=15716152&i=1&d=Njc0NDU2NDQ1%7CQzJucGZaOUFRcQ%3D%3D%7CZjYzMjc1MTNkMGRhYjU0YzE%3D%7CMjAyNTAzMTdfUmViZWxfVjRfVFc%3D%7C&_esuh=_11_3c2ce361b833494e0d4dea6648b317bf575214526e033d9087014cef95b7d1a2\n\n\nStore\n\nStore\n\nhttps://link.email.newbalance.com.tw/u/nrd.php?p=C2npfZ9AQq_63341_8871928_1_22&ems_l=15716152&i=1&d=Njc0NDU2NDM3%7CQzJucGZaOUFRcQ%3D%3D%7CZjYzMjc1MTNkMGRhYjU0YzE%3D%7CMjAyNTAzMTdfUmViZWxfVjRfVFc%3D%7C&_esuh=_11_2eac86d5ad56e971991ba046268ed5b0158dbf06aa51e6af7e08ca14aaeabcfa\n\n\n門市資訊\n\nhttps://link.email.newbalance.com.tw/u/nrd.php?p=C2npfZ9AQq_63341_8871928_1_24&ems_l=15716152&i=1&d=Njc0NDU2NDM5%7CQzJucGZaOUFRcQ%3D%3D%7CZjYzMjc1MTNkMGRhYjU0YzE%3D%7CMjAyNTAzMTdfUmViZWxfVjRfVFc%3D%7C&_esuh=_11_5ef0e7b076b221b61acc3916e360f0be6ea4f600ac624ea057cfc607d015c21f\n\n\nShipping\n\nShipping\n\nhttps://link.email.newbalance.com.tw/u/nrd.php?p=C2npfZ9AQq_63341_8871928_1_32&ems_l=15716152&i=1&d=Njc0NDU2NDQ3%7CQzJucGZaOUFRcQ%3D%3D%7CZjYzMjc1MTNkMGRhYjU0YzE%3D%7CMjAyNTAzMTdfUmViZWxfVjRfVFc%3D%7C&_esuh=_11_1499bed474654fa199b35dd3f11b2b203007d96d5c6c2ae3bc0df54da1a1c541\n\n\n會員購物滿2,400元可享免運費\n\nhttps://link.email.newbalance.com.tw/u/nrd.php?p=C2npfZ9AQq_63341_8871928_1_34&ems_l=15716152&i=1&d=Njc0NDU2NDQ5%7CQzJucGZaOUFRcQ%3D%3D%7CZjYzMjc1MTNkMGRhYjU0YzE%3D%7CMjAyNTAzMTdfUmViZWxfVjRfVFc%3D%7C&_esuh=_11_b5e9d5c12adbbaf85d18e12c23f25dec1766537984462d849b621e0b3fbb5a92\n\n\nhttps://link.email.newbalance.com.tw/u/nrd.php?p=C2npfZ9AQq_63341_8871928_1_26&ems_l=15716152&i=1&d=Njc0NDU2NDQx%7CQzJucGZaOUFRcQ%3D%3D%7CZjYzMjc1MTNkMGRhYjU0YzE%3D%7CMjAyNTAzMTdfUmViZWxfVjRfVFc%3D%7C&_esuh=_11_b8eb139ab9f5bbfbd5ae63c518eb140bf0f964b1514eab512ad577b0f92caa4e\n\n\n門市資訊\n\nhttps://link.email.newbalance.com.tw/u/nrd.php?p=C2npfZ9AQq_63341_8871928_1_28&ems_l=15716152&i=1&d=Njc0NDU2NDQz%7CQzJucGZaOUFRcQ%3D%3D%7CZjYzMjc1MTNkMGRhYjU0YzE%3D%7CMjAyNTAzMTdfUmViZWxfVjRfVFc%3D%7C&_esuh=_11_f4c69ff1dec0f6555250ebf58b22c9f1ef024292abe96342f3489844b4209f4b\n\n\n熱銷商品\nhttps://link.email.newbalance.com.tw/u/nrd.php?p=C2npfZ9AQq_63341_8871928_1_36&ems_l=15716152&i=1&d=Njc0NDU2NDUx%7CQzJucGZaOUFRcQ%3D%3D%7CZjYzMjc1MTNkMGRhYjU0YzE%3D%7CMjAyNTAzMTdfUmViZWxfVjRfVFc%3D%7C&_esuh=_11_36b84197e745f9d301b1df3b31543be0d26725623ef35a91852dad1e9a69b80b\n\n\nRun Your Way\nhttps://link.email.newbalance.com.tw/u/nrd.php?p=C2npfZ9AQq_63341_8871928_1_38&ems_l=15716152&i=1&d=Njc0NDU2NDUz%7CQzJucGZaOUFRcQ%3D%3D%7CZjYzMjc1MTNkMGRhYjU0YzE%3D%7CMjAyNTAzMTdfUmViZWxfVjRfVFc%3D%7C&_esuh=_11_3ce7b7db2302a918670d469f0ed88cb39520aac7a698d09df0c4ccf25402600f\n\n\n優惠商品\nhttps://link.email.newbalance.com.tw/u/nrd.php?p=C2npfZ9AQq_63341_8871928_1_40&ems_l=15716152&i=1&d=Njc0NDU2NDU1%7CQzJucGZaOUFRcQ%3D%3D%7CZjYzMjc1MTNkMGRhYjU0YzE%3D%7CMjAyNTAzMTdfUmViZWxfVjRfVFc%3D%7C&_esuh=_11_17a4126d8713364b9f330b49994cf7766d63e0ff4f1c0756bb628378021f3907\n\n\nInstagram\n\nInstagram\n\nhttps://link.email.newbalance.com.tw/u/nrd.php?p=C2npfZ9AQq_63341_8871928_1_42&ems_l=15716152&i=1&d=Njc0NDU2NDU3%7CQzJucGZaOUFRcQ%3D%3D%7CZjYzMjc1MTNkMGRhYjU0YzE%3D%7CMjAyNTAzMTdfUmViZWxfVjRfVFc%3D%7C&_esuh=_11_a1c052db1866aa942351e9f4c4250c59d188c32f2625434fe0a0019ddeca6334\n\n\nFacebook\n\nFacebook\n\nhttps://link.email.newbalance.com.tw/u/nrd.php?p=C2npfZ9AQq_63341_8871928_1_44&ems_l=15716152&i=1&d=Njc0NDU2NDU5%7CQzJucGZaOUFRcQ%3D%3D%7CZjYzMjc1MTNkMGRhYjU0YzE%3D%7CMjAyNTAzMTdfUmViZWxfVjRfVFc%3D%7C&_esuh=_11_6a11620fa7bffb1fa59967ff827da0225a3ef00c4710be17e2ca18a5b82234bf\n\n\nTwitter\n\nTwitter\n\nhttps://link.email.newbalance.com.tw/u/nrd.php?p=C2npfZ9AQq_63341_8871928_1_46&ems_l=15716152&i=1&d=Njc0NDU2NDYx%7CQzJucGZaOUFRcQ%3D%3D%7CZjYzMjc1MTNkMGRhYjU0YzE%3D%7CMjAyNTAzMTdfUmViZWxfVjRfVFc%3D%7C&_esuh=_11_30e7897b7f66923cedc7018a67de00a1c5bfc896e6480fee5d10544117d66913\n\n\nTikTok\n\nTikTok\n\nhttps://link.email.newbalance.com.tw/u/nrd.php?p=C2npfZ9AQq_63341_8871928_1_48&ems_l=15716152&i=1&d=Njc0NDU2NDYz%7CQzJucGZaOUFRcQ%3D%3D%7CZjYzMjc1MTNkMGRhYjU0YzE%3D%7CMjAyNTAzMTdfUmViZWxfVjRfVFc%3D%7C&_esuh=_11_c3f23f793a666f5f1cd4947bfdbe949d55977aace5991dd0ad36d4720ad99809\n\n\n在瀏覽器檢閱\nhttps://link.email.newbalance.com.tw/u/gm.php?prm=C2npfZ9AQq_815352253_8871928_63341&_esuh=_11_80b838e856eb6391725f53e6baf7fcbc1dbb955a96ac1fa26f66f78b6e1f7721\n\n取消訂閱\nhttps://link.email.newbalance.com.tw/u/un.php?par=C2npfZ9AQq_8871928_63341_$sid$&_esuh=_11_04884f1ed7f5ab7af4fbd69c3931d83647867554364cf33d4c58d13396e3ab1b\n\n隱私權政策\nhttps://link.email.newbalance.com.tw/u/nrd.php?p=C2npfZ9AQq_63341_8871928_1_50&ems_l=15716152&i=1&d=Njc0NDU2NDY1%7CQzJucGZaOUFRcQ%3D%3D%7CZjYzMjc1MTNkMGRhYjU0YzE%3D%7CMjAyNTAzMTdfUmViZWxfVjRfVFc%3D%7C&_esuh=_11_08560927cf314d41046297eb4a67da7ec47a1ec303d04ffe5e9f249ca2065f05\n\n條款與細則\nhttps://link.email.newbalance.com.tw/u/nrd.php?p=C2npfZ9AQq_63341_8871928_1_52&ems_l=15716152&i=1&d=Njc0NDU2NDY3%7CQzJucGZaOUFRcQ%3D%3D%7CZjYzMjc1MTNkMGRhYjU0YzE%3D%7CMjAyNTAzMTdfUmViZWxfVjRfVFc%3D%7C&_esuh=_11_0dcfd70a5a3ec5a4735e63709b4f825f033924d87702c3d6916c7b00824aaccd\n\n尋求協助\nhttps://link.email.newbalance.com.tw/u/nrd.php?p=C2npfZ9AQq_63341_8871928_1_54&ems_l=15716152&i=1&d=Njc0NDU2NDY5%7CQzJucGZaOUFRcQ%3D%3D%7CZjYzMjc1MTNkMGRhYjU0YzE%3D%7CMjAyNTAzMTdfUmViZWxfVjRfVFc%3D%7C&_esuh=_11_351f2083c2428baf0018a4016d67c3ce269be305c17bcab309728217b92577e1\n\n\n 2025, New Balance\n\n確保不錯過任何特別優惠，請在您的電子信箱上新增聯絡人\nnewbalance@email.newbalance.com.tw\n\n如果您不願意再收到我們的電子郵件通知，請到訪我們的取消訂閱頁面\nhttps://link.email.newbalance.com.tw/u/un.php?par=C2npfZ9AQq_8871928_63341_$sid$&_esuh=_11_04884f1ed7f5ab7af4fbd69c3931d83647867554364cf33d4c58d13396e3ab1b\n。\n\n© 2025, New Balance\n確保不錯過任何特別優惠，請在您的電子信箱上新增聯絡人 newbalance@email.newbalance.com.tw\n如果您不願意再收到我們的電子郵件通知，請到訪我們的取消訂閱頁面。",
         "5"
        ],
        [
         "1",
         "1111人力銀行推薦 -【桃園台茂店【涮乃葉】兼職人員及大專院校實習】",
         "\n    \n    轉寄履歷-簡式版\n\n    \n        \n            本信無任何惡意連結或程式，您可放心開啟，請務必顯示圖片，以檢視完整信件\n         \n                    \n                         \n                        1111人力銀行 推薦您  推薦職缺 \n                         \n\n                         \n                        雲雀國際股份有限公司徵才中，若有興趣，請點擊「我要應徵」，或點此連結看更多職缺。 \n                         \n                    \n      \n                        職務簡介 \n                        公司名稱 \n                        雲雀國際股份有限公司 \n                        我要應徵 \n                         \n  \n                         \n                        職缺名稱 \n                        桃園台茂店【涮乃葉】兼職人員及大專院校實習 \n                         \n\n                         \n                        工作內容 \n                        誠徵兼職人員及大專院校實習生\n歡迎對外場服務或內場廚務調理有興趣者加入我們的行列\n依需求彈性排班4～7小時\n早班、中班、晚班、全日班、假日班皆有缺額\n日夜間部學生工讀、二度就業、上班族兼差皆可\n福利相關:\n1.職代敬業津貼。\n2.區域津貼。\n3.早、晚班津貼。\n4.月/季/年度 優秀社員獎勵制度。\n5.業績/年中/年終獎金制度 (須經評價並通過考核)。\n6.國定假日雙倍薪。\n7.介紹獎金、留任獎金。\n8.勞保、健保、勞工退休金提撥、員工團體保險。\n享有多重獎勵，努力看的見 !!! \n                         \n\n                    \n                         \n                        求才條件 \n                        工作地點 \n                        桃園市蘆竹區 \n                         \n  \n                         \n                        工作待遇 \n                        時薪 207 元  ~ 281 元  \n                         \n\n                         \n                        工作時間 \n                        日班 , 中班 , 晚班 , 假日班 , 輪班 說明：AM 9:00~PM 23:00 依需求彈性排班4~7小時 \n                         \n\n                         \n                        身份類別 \n                        原住民 \n                         \n       \n                        學歷限制 \n                        高中職,專科,大學 \n                         \n\n                         \n                        科系限制 \n                        不拘 \n                         \n                                             \n                        工作經驗 \n                        不拘 \n                         \n   \n                          \n                        我要應徵 \n                          \n  \n                            ●定期更新履歷，讓您求職大加分：立即更新履歷。\n                            ●想收到更精準的職缺配對：調整配對條件。\n                            ●已無求職需求，建議您：關閉所有履歷。\n                            ●不需此職務推薦信，您可以：取消收取推薦信。\n                            ●此信件為 1111人力銀行系統發送，請勿直接回覆。\n                         \n\n                        \n                            企業徵才服務\n                            週一 ~ 週五8:30 ~ 21:00，週六、週日、國定假日 9:00 ~ 21:00\n                            苗栗以北：(02) 8787-1111　中部地區：(04) 2203-1111　南部地區：(07) 958-1111\n                            © 2017 1111 Job Bank All Rights Reserved.\n                         \n\n\n\n轉寄履歷-簡式版\n\n\n\n本信無任何惡意連結或程式，您可放心開啟，請務必顯示圖片，以檢視完整信件\n\n\n\n1111人力銀行 推薦您  推薦職缺\n\n\n\n雲雀國際股份有限公司徵才中，若有興趣，請點擊「我要應徵」，或點此連結看更多職缺。\n\n\n\n職務簡介\n公司名稱\n雲雀國際股份有限公司\n我要應徵\n\n\n職缺名稱\n桃園台茂店【涮乃葉】兼職人員及大專院校實習\n\n\n工作內容\n誠徵兼職人員及大專院校實習生\n歡迎對外場服務或內場廚務調理有興趣者加入我們的行列\n依需求彈性排班4～7小時\n早班、中班、晚班、全日班、假日班皆有缺額\n日夜間部學生工讀、二度就業、上班族兼差皆可\n福利相關:\n1.職代敬業津貼。\n2.區域津貼。\n3.早、晚班津貼。\n4.月/季/年度 優秀社員獎勵制度。\n5.業績/年中/年終獎金制度 (須經評價並通過考核)。\n6.國定假日雙倍薪。\n7.介紹獎金、留任獎金。\n8.勞保、健保、勞工退休金提撥、員工團體保險。\n享有多重獎勵，努力看的見 !!!\n\n\n\n求才條件\n工作地點\n桃園市蘆竹區\n\n\n工作待遇\n時薪 207 元  ~ 281 元 \n\n\n工作時間\n日班 , 中班 , 晚班 , 假日班 , 輪班 說明：AM 9:00~PM 23:00 依需求彈性排班4~7小時\n\n\n身份類別\n原住民\n\n\n學歷限制\n高中職,專科,大學\n\n\n科系限制\n不拘\n\n\n工作經驗\n不拘\n\n\n \n我要應徵\n \n\n\n●定期更新履歷，讓您求職大加分：立即更新履歷。\n●想收到更精準的職缺配對：調整配對條件。\n●已無求職需求，建議您：關閉所有履歷。\n●不需此職務推薦信，您可以：取消收取推薦信。\n●此信件為 1111人力銀行系統發送，請勿直接回覆。\n\n\n\n                            企業徵才服務\n                            週一 ~ 週五8:30 ~ 21:00，週六、週日、國定假日 9:00 ~ 21:00\n                            苗栗以北：(02) 8787-1111　中部地區：(04) 2203-1111　南部地區：(07) 958-1111\n                            © 2017 1111 Job Bank All Rights Reserved.\n",
         "3"
        ],
        [
         "2",
         "陳任璿-2025/03/16 履歷職缺配對通知",
         "\n  職缺配對                  \n                      \n                                    嗨！陳任璿，為您寄送您期待的配對職缺，這些職位符合您履歷的大部分期望條件。趕快點進職缺查看內容，或許您即將找到理想的工作！1111人力銀行是您職場成功的合作夥伴，我們為您提供更多工作機會。祝福您求職成功！ \n               \n                     履歷/自訂條件配對職缺\n                                                                                                                    配對條件                                                                        餐飲服務人員、餐廚助手、洗碗人員、生鮮處理人員、冷熱飲調製人員                                \n                                                   \n                                                                                                    最新符合                                                                3 筆 更多                            \n                                           \n小提示：適度放寬配對條件，能讓我們推薦更多職缺給您！修改配對條件 \n               \n                                                            餐飲服務人員                                     \n                         \n                                                                                                                                                                                    饞鬥鍋物【南崁店】外場工讀                                 \n                                                                                                                                                                                                                                            饞鬥本格鍋物(饞鬥鍋物)                                                 \n                                                                                                    桃園市蘆竹區                                                 \n                                                                                                    時薪 190 以上                                                  \n                                                                                                                                                         \n                                                                                                                                                                                                                                                            1.為顧客帶位或安排座位\n2.將菜單遞交顧客，答覆有關餐飲問題，必要時提供建議\n3.記錄顧客所點菜餚，並通知廚房或內場做餐送餐\n4.上菜並提供有關用餐的服務.......more                                                 \n                                                                                                                                                     \n                                                                                                                                         \n                                                                                                                                                                                                                                                            準確率回報                                                       應 徵                                                 \n                                                                                                                                                         \n                                                                                         \n                         \n                                                                                                                                                                                    【築田便當蘆竹店】外送人員                                 \n                                                                                                                                                                                                                                            億展餐飲食品有限公司(築田便當連鎖餐飲店)                                                 \n                                                                                                    桃園市蘆竹區                                                 \n                                                                                                    時薪 200 以上                                                  \n                                                                                                                                                         \n                                                                                                                                                                                                                                                            將餐盒送到客戶手中，並請客戶進行簽收\n自備機車100cc~125cc(提供油資津貼)\n有供餐.......more                                                 \n                                                                                                                                                     \n                                                                                                                                         \n                                                                                                                                                                                                                                                            準確率回報                                                       應 徵                                                 \n                                                                                                                                                         \n                                                                                         \n                         \n                                                                                                                                                                                    『最高時薪265元！』乾杯品牌-台茂外場計時社員 聯合募集 -KLCD4                                 \n                                                                                                                                                                                                                                            乾杯股份有限公司                                                 \n                                                                                                    桃園市蘆竹區                                                 \n                                                                                                    時薪 190 ~ 265                                                 \n                                                                                                                                                         \n                                                                                                                                                                                                                                                            205元 (含10元PT津貼為215元)\n視經驗調整起薪，最高可達265元(含10元津貼)\n\n【工作內容】\n外場店員：接待及引導、餐點酒水介紹、協助顧客點餐、桌邊服務及維護環境。\n主管交辦事項等。\n\n【工作需求】\n班別分為早、中、晚班\n9:00~00:00 區間排班；每週排班，可彈性調整(假日可配合排班佳)\n歡迎詢問討論排班時間!\n\n【福利】\n三節獎金、每年健檢健康諮詢、員工餐、不定期部門聚餐等。.......more                                                 \n                                                                                                       幸福企業      知名企業                                                     \n                                                                                                                                         \n                                                                                                                                                                                                                                                            準確率回報                                                       應 徵                                                 \n                                                                                                                                                         \n                                                                                         \n                         \n                                                                                                                                                                                    這些職缺符合您的需求嗎？請告訴我們                                 \n                                                                                         \n                         \n\n                                                              其他職缺                                                                                                                              \n                                                                                           \n 桃園台茂-上菜片皮鴨專賣店 領檯人員 \n漢來美食股份有限公司 \n桃園市蘆竹區 \n月薪 32,000 ~ 34,000 \n詳細內容 \n \n \n \n超夯川麻辣鍋/燒肉(蘆竹店)-外場服務人員起薪33000-43500元 \n聖保羅餐廳股份有限公司 \n桃園市蘆竹區 \n月薪 33,000 ~ 43,500 \n詳細內容 \n \n \n \n饞鬥鍋物【南崁店】外場工讀 \n饞鬥本格鍋物 \n桃園市蘆竹區 \n時薪 190 以上  \n詳細內容 \n \n \n \n饅饅好食 專櫃銷售工讀生(桃園台茂購物中心) \nMum,Mum 饅饅好食_好心情國際事業有限公司 \n桃園市蘆竹區 \n時薪 190 ~ 197 \n詳細內容 \n \n \n \n餐廳服務員 \n永漢開發股份有限公司桃園營業所 \n桃園市蘆竹區 \n月薪 28,590 ~ 30,000 \n詳細內容 \n \n \n \n【MAGiC TOUCH点爭鮮】台茂店-正職人員 \n爭鮮股份有限公司 \n桃園市蘆竹區 \n月薪 38,500 ~ 40,500 \n詳細內容 \n \n \n \n【築田便當蘆竹店】餐飲工作人員 \n億展餐飲食品有限公司 \n桃園市蘆竹區 \n月薪 35,000 以上  \n詳細內容 \n \n \n \n【點水樓】南崁店-洗滌清潔員 \n點水樓餐飲事業股份有限公司 \n桃園市蘆竹區 \n月薪 30,000 ~ 38,000 \n詳細內容 \n \n \n \n『最高時薪265元！』乾杯品牌-台茂外場計時社員 聯合募集 -KLCD4 \n乾杯股份有限公司 \n桃園市蘆竹區 \n時薪 190 ~ 265 \n詳細內容 \n \n \n \n早安美芝城 （蘆竹長春概念店）早餐 門市正職人員 \n早安美芝城桃園莊一概念店_齊樂科技企業社 \n桃園市蘆竹區 \n月薪 36,000 ~ 50,000 \n詳細內容 \n \n \n \n                                                                                                                                                                                      搜尋更多職缺                                  \n                                                                                         \n                         \n\n\t\t\t\t\t                        職場升級包         \n                                                        ． 提升競爭力➤ 學習六大外語，快來領取最高20,000元補助！ → \n． 【郵局招考】招募1620名新血！月薪上勘＄5萬5↗ → \n． 想轉職綠能產業？政府新尖兵計畫助攻→成為ESG人才！ → \n                                                         \n         \n\t\t\t\t\t\n                        進修再出發         \n                                    ． 【SCA CSP 國際證照】成就你的咖啡夢想 → \n． 【烘焙家必修】各式烘焙教學｜證照課 → \n． 【饕客必學本領】系統學習餐廳英文 → \n． 【政府力挺，免費學】3D設計與AI繪圖跨界應用 → \n                                                         \n                                                                                                                                                                                                                                                                    看更多                                          \n                                                                                                                                                  \n                                                                                    \n                                                     \n                                                                                                                                                            求職服務中心                                 \n                                                                                                     \n                                                                                                            服務時間\n                                        週一至週五 8:30 ~ 21:00\n                                        週六、日、國定假日  9:00 ~ 17:30                                \n                                                                                                                                                                                                    服務電話\n                                        免費專線  0800 - 09 - 1111                                         \n                                        電話  02 - 8787 - 1111 轉 8                                                     \n                                                                                                                                 \n                                                                                                                                                            下載找工作App                                                      \n                                                                                                                                                                                                                                                               \n                                                                                         \n                                                                     \n                                                                                                                                                                            ‧ 提醒您此信件為1111人力銀行系統自動發送，請勿直接回覆，謝謝。                                 \n                                                                    ‧ 第一流的人才，第一好的工作，通通都在1111人力銀行                                 \n                                                                    意見反應 取消訂閱                                   \n                                                                    全球華人股份有限公司版權所有? 2023．1111 Job Bank All Rights Reserved.                                 \n                                                                                         \n\n有職缺配對\n\n\n        職缺配對         嗨！陳任璿，為您寄送您期待的配對職缺，這些職位符合您履歷的大部分期望條件。趕快點進職缺查看內容，或許您即將找到理想的工作！1111人力銀行是您職場成功的合作夥伴，我們為您提供更多工作機會。祝福您求職成功！     履歷/自訂條件配對職缺    配對條件  餐飲服務人員、餐廚助手、洗碗人員、生鮮處理人員、冷熱飲調製人員       最新符合  3 筆 更多   小提示：適度放寬配對條件，能讓我們推薦更多職缺給您！修改配對條件       餐飲服務人員                                 饞鬥鍋物【南崁店】外場工讀       饞鬥本格鍋物(饞鬥鍋物)   桃園市蘆竹區   時薪 190 以上            1.為顧客帶位或安排座位\n2.將菜單遞交顧客，答覆有關餐飲問題，必要時提供建議\n3.記錄顧客所點菜餚，並通知廚房或內場做餐送餐\n4.上菜並提供有關用餐的服務.......more              準確率回報  應 徵                     【築田便當蘆竹店】外送人員       億展餐飲食品有限公司(築田便當連鎖餐飲店)   桃園市蘆竹區   時薪 200 以上            將餐盒送到客戶手中，並請客戶進行簽收\n自備機車100cc~125cc(提供油資津貼)\n有供餐.......more              準確率回報  應 徵                     『最高時薪265元！』乾杯品牌-台茂外場計時社員 聯合募集 -KLCD4       乾杯股份有限公司   桃園市蘆竹區   時薪 190 ~ 265           205元 (含10元PT津貼為215元)\n視經驗調整起薪，最高可達265元(含10元津貼)\n\n【工作內容】\n外場店員：接待及引導、餐點酒水介紹、協助顧客點餐、桌邊服務及維護環境。\n主管交辦事項等。\n\n【工作需求】\n班別分為早、中、晚班\n9:00~00:00 區間排班；每週排班，可彈性調整(假日可配合排班佳)\n歡迎詢問討論排班時間!\n\n【福利】\n三節獎金、每年健檢健康諮詢、員工餐、不定期部門聚餐等。.......more      幸福企業      知名企業               準確率回報  應 徵                     這些職缺符合您的需求嗎？請告訴我們        \n       其他職缺     桃園台茂-上菜片皮鴨專賣店 領檯人員漢來美食股份有限公司桃園市蘆竹區月薪 32,000 ~ 34,000詳細內容超夯川麻辣鍋/燒肉(蘆竹店)-外場服務人員起薪33000-43500元聖保羅餐廳股份有限公司桃園市蘆竹區月薪 33,000 ~ 43,500詳細內容饞鬥鍋物【南崁店】外場工讀饞鬥本格鍋物桃園市蘆竹區時薪 190 以上 詳細內容饅饅好食 專櫃銷售工讀生(桃園台茂購物中心)Mum,Mum 饅饅好食_好心情國際事業有限公司桃園市蘆竹區時薪 190 ~ 197詳細內容餐廳服務員永漢開發股份有限公司桃園營業所桃園市蘆竹區月薪 28,590 ~ 30,000詳細內容【MAGiC TOUCH点爭鮮】台茂店-正職人員爭鮮股份有限公司桃園市蘆竹區月薪 38,500 ~ 40,500詳細內容【築田便當蘆竹店】餐飲工作人員億展餐飲食品有限公司桃園市蘆竹區月薪 35,000 以上 詳細內容【點水樓】南崁店-洗滌清潔員點水樓餐飲事業股份有限公司桃園市蘆竹區月薪 30,000 ~ 38,000詳細內容『最高時薪265元！』乾杯品牌-台茂外場計時社員 聯合募集 -KLCD4乾杯股份有限公司桃園市蘆竹區時薪 190 ~ 265詳細內容早安美芝城 （蘆竹長春概念店）早餐 門市正職人員早安美芝城桃園莊一概念店_齊樂科技企業社桃園市蘆竹區月薪 36,000 ~ 50,000詳細內容          搜尋更多職缺         \n   職場升級包     ．提升競爭力➤ 學習六大外語，快來領取最高20,000元補助！ →．【郵局招考】招募1620名新血！月薪上勘＄5萬5↗ →．想轉職綠能產業？政府新尖兵計畫助攻→成為ESG人才！ →      \n   進修再出發    ．【SCA CSP 國際證照】成就你的咖啡夢想 →．【烘焙家必修】各式烘焙教學｜證照課 →．【饕客必學本領】系統學習餐廳英文 →．【政府力挺，免費學】3D設計與AI繪圖跨界應用 →              看更多            \n                         求職服務中心       服務時間 週一至週五 8:30 ~ 21:00 週六、日、國定假日  9:00 ~ 17:30        服務電話 免費專線  0800 - 09 - 1111   電話  02 - 8787 - 1111 轉 8               下載找工作App                        ‧ 提醒您此信件為1111人力銀行系統自動發送，請勿直接回覆，謝謝。   ‧ 第一流的人才，第一好的工作，通通都在1111人力銀行   意見反應 取消訂閱    全球華人股份有限公司版權所有? 2023．1111 Job Bank All Rights Reserved.        ",
         "3"
        ],
        [
         "3",
         "你的 Apple 開立發票通知",
         "\n \n開立發票通知\n\n\n            APPLE 帳號dana4326172@gmail.com\n                      \n\n付款方\n            遠傳電信 ....5498            ChenDana\n            南平街Taoyuan City, TWN                                                        \n\n\n日期2025年03月15日\n\n\n訂單 IDMSHMBJDYB4\n文件編號215928413023\n\n\n發票期別202503-202504\n發票號碼LD50874043\n\n\n\nApp Store\n\n\n                  LINE\n                        \n50 LINE Coin \n          App 內購買項目        \n我就爛 \n回報問題 \n\n\n\nNT$ 35\n\n\n總計         NT$ 35\n                      \n\n    Apple Distribution International Ltd. 以網路銷售電子勞務予中華民國境內個人買受人，自2019年11月6日起開立雲端發票，為方便你查詢雲端發票及兌領統一發票中獎獎金，請使用「財政部統一發票兌獎 APP」或「財政部電子發票整合服務平台」，將連結雲端發票之載具（即消費者之電子郵件信箱）歸戶至手機條碼，由財政部提供查詢發票、自動對獎及中獎主動通知服務。                  如需取得訂閱與購買項目的輔助說明，請參訪 Apple 支援。\n                          瞭解如何為 iTunes、Apple Books 與 App Store 購買項目管理你的密碼偏好設定。            包含 5% VATApple ID 現已更名為 Apple 帳號。你仍可使用相同的電子郵件地址或電話號碼及密碼登入。  \n\n\n\n\nApple 帳號 • 銷售條款 • 隱私權政策\n\n\n                        Copyright © 2025 Apple Distribution International Ltd.\n保留一切權利\nHollyhill Industrial Estate, Hollyhill, Cork, Ireland. \n\n\n\n開立發票通知\n\n\n              APPLE 帳號dana4326172@gmail.com\n \n\n訂單 IDMSHMBJDYB4 \n\n\n                              文件編號215928413023\n \n\n發票期別202503-202504\n            \n\n發票號碼LD50874043\n            \n\n\n              日期2025年03月15日\n\n\n付款方\n            遠傳電信 ....5498            ChenDana\n            南平街Taoyuan City, TWN                                              \n\n\nApp Store\n\n\n\n                  LINE\n                        \n50 LINE Coin \n          App 內購買項目        \n我就爛 \n回報問題 \n\n\nNT$ 35\n\n\n總計   NT$ 35\n                      \n\n    Apple Distribution International Ltd. 以網路銷售電子勞務予中華民國境內個人買受人，自2019年11月6日起開立雲端發票，為方便你查詢雲端發票及兌領統一發票中獎獎金，請使用「財政部統一發票兌獎 APP」或「財政部電子發票整合服務平台」，將連結雲端發票之載具（即消費者之電子郵件信箱）歸戶至手機條碼，由財政部提供查詢發票、自動對獎及中獎主動通知服務。                  如需取得訂閱與購買項目的輔助說明，請參訪 Apple 支援。\n                          瞭解如何為 iTunes、Apple Books 與 App Store 購買項目管理你的密碼偏好設定。            包含 5% VATApple ID 現已更名為 Apple 帳號。你仍可使用相同的電子郵件地址或電話號碼及密碼登入。  \n\n\nApple 帳號 • 銷售條款 • 隱私權政策\n\n                Copyright © 2025 Apple Distribution International Ltd.保留一切權利\n\n      Hollyhill Industrial Estate, Hollyhill, Cork, Ireland.\n      ",
         "2"
        ],
        [
         "4",
         "大谷翔平，準備好續集",
         "The Ohtani Signature Collection\n\nNew Balance\nhttps://link.email.newbalance.com.tw/u/nrd.php?p=C2npfZ9AQq_15974_8935579_1_2&ems_l=15692378&i=1&d=NjczOTEwMjcw%7CQzJucGZaOUFRcQ%3D%3D%7CZjYzMjc1MTNkMGRhYjU0YzE%3D%7CMjAyNTAzMTVfT2h0YW5pX0NvbGxlY3Rpb25fVFc%3D%7C&_esuh=_11_7d3d717c99652ce145c4dc9a761faf57ace21f97d6e626cfa57ef33fc79ad2fb\n\n\n男裝\nhttps://link.email.newbalance.com.tw/u/nrd.php?p=C2npfZ9AQq_15974_8935579_1_4&ems_l=15692378&i=1&d=NjczOTEwMjcy%7CQzJucGZaOUFRcQ%3D%3D%7CZjYzMjc1MTNkMGRhYjU0YzE%3D%7CMjAyNTAzMTVfT2h0YW5pX0NvbGxlY3Rpb25fVFc%3D%7C&_esuh=_11_c7d872decf6f17f59f4361966850dd4e509a6217150c4bdf45d3339fb78ece2e\n\n女裝\nhttps://link.email.newbalance.com.tw/u/nrd.php?p=C2npfZ9AQq_15974_8935579_1_6&ems_l=15692378&i=1&d=NjczOTEwMjc0%7CQzJucGZaOUFRcQ%3D%3D%7CZjYzMjc1MTNkMGRhYjU0YzE%3D%7CMjAyNTAzMTVfT2h0YW5pX0NvbGxlY3Rpb25fVFc%3D%7C&_esuh=_11_cbfcf81b10df235433dcb225c46a712bb4bfc220204dc8e8afa45217a903c5cf\n\n兒童\nhttps://link.email.newbalance.com.tw/u/nrd.php?p=C2npfZ9AQq_15974_8935579_1_8&ems_l=15692378&i=1&d=NjczOTEwMjc2%7CQzJucGZaOUFRcQ%3D%3D%7CZjYzMjc1MTNkMGRhYjU0YzE%3D%7CMjAyNTAzMTVfT2h0YW5pX0NvbGxlY3Rpb25fVFc%3D%7C&_esuh=_11_d335dc64d7ce3b2da9153b9204f10e4b68ec76c00be51ccc3bbed7c8c8601a1f\n\n\nhttps://link.email.newbalance.com.tw/u/nrd.php?p=C2npfZ9AQq_15974_8935579_1_10&ems_l=15692378&i=1&d=NjczOTEwMjc4%7CQzJucGZaOUFRcQ%3D%3D%7CZjYzMjc1MTNkMGRhYjU0YzE%3D%7CMjAyNTAzMTVfT2h0YW5pX0NvbGxlY3Rpb25fVFc%3D%7C&_esuh=_11_825615484abdb8be1d324192d0bcebcfba81356f4fb8f2b1a9f5e0c8ad819153\n\n\n展現大谷翔平在打擊和投球上的雙重才華。\n這個精心設計的系列包括場上風格和場外必需品，\n並配有更新的顏色和風格，以迎接新賽季。\n\n立即選購\nhttps://link.email.newbalance.com.tw/u/nrd.php?p=C2npfZ9AQq_15974_8935579_1_12&ems_l=15692378&i=1&d=NjczOTEwMjgw%7CQzJucGZaOUFRcQ%3D%3D%7CZjYzMjc1MTNkMGRhYjU0YzE%3D%7CMjAyNTAzMTVfT2h0YW5pX0NvbGxlY3Rpb25fVFc%3D%7C&_esuh=_11_b4afeda0e2e930bd74210070dc4662219d3379d75cbe2082115daa997fb3181f\n\n\n立即選購\nhttps://link.email.newbalance.com.tw/u/nrd.php?p=C2npfZ9AQq_15974_8935579_1_14&ems_l=15692378&i=1&d=NjczOTEwMjgy%7CQzJucGZaOUFRcQ%3D%3D%7CZjYzMjc1MTNkMGRhYjU0YzE%3D%7CMjAyNTAzMTVfT2h0YW5pX0NvbGxlY3Rpb25fVFc%3D%7C&_esuh=_11_260f998a2b2d11bced32b802539a5aa41d09d54ba1f2d7c264920eb89ee5a545\n\n\nhttps://link.email.newbalance.com.tw/u/nrd.php?p=C2npfZ9AQq_15974_8935579_1_16&ems_l=15692378&i=1&d=NjczOTEwMjg0%7CQzJucGZaOUFRcQ%3D%3D%7CZjYzMjc1MTNkMGRhYjU0YzE%3D%7CMjAyNTAzMTVfT2h0YW5pX0NvbGxlY3Rpb25fVFc%3D%7C&_esuh=_11_6b6b4ca71eb15d5a48af3ad91e76949b85168992778dbaa82c563918d7c0e33e\n\n\nhttps://link.email.newbalance.com.tw/u/nrd.php?p=C2npfZ9AQq_15974_8935579_1_18&ems_l=15692378&i=1&d=NjczOTEwMjg2%7CQzJucGZaOUFRcQ%3D%3D%7CZjYzMjc1MTNkMGRhYjU0YzE%3D%7CMjAyNTAzMTVfT2h0YW5pX0NvbGxlY3Rpb25fVFc%3D%7C&_esuh=_11_19391e6fec39862587636bff92d09159888658f1a226b4a8046f5c6440041d3f\n\n\nShipping\n\nShipping\n\nhttps://link.email.newbalance.com.tw/u/nrd.php?p=C2npfZ9AQq_15974_8935579_1_20&ems_l=15692378&i=1&d=NjczOTEwMjg4%7CQzJucGZaOUFRcQ%3D%3D%7CZjYzMjc1MTNkMGRhYjU0YzE%3D%7CMjAyNTAzMTVfT2h0YW5pX0NvbGxlY3Rpb25fVFc%3D%7C&_esuh=_11_941d33149cbcc9765b5c350acaf46c3cb7618c8a9561f1988ed827472f52b7bc\n\n\n會員購物滿2,400元可享免運費\n\nhttps://link.email.newbalance.com.tw/u/nrd.php?p=C2npfZ9AQq_15974_8935579_1_30&ems_l=15692378&i=1&d=NjczOTEwMjk4%7CQzJucGZaOUFRcQ%3D%3D%7CZjYzMjc1MTNkMGRhYjU0YzE%3D%7CMjAyNTAzMTVfT2h0YW5pX0NvbGxlY3Rpb25fVFc%3D%7C&_esuh=_11_2d54a341fa5f70420da3daad8ae0f2dde494b6ceb3973987434ea4776dc21bab\n\n\nStore\n\nStore\n\nhttps://link.email.newbalance.com.tw/u/nrd.php?p=C2npfZ9AQq_15974_8935579_1_22&ems_l=15692378&i=1&d=NjczOTEwMjkw%7CQzJucGZaOUFRcQ%3D%3D%7CZjYzMjc1MTNkMGRhYjU0YzE%3D%7CMjAyNTAzMTVfT2h0YW5pX0NvbGxlY3Rpb25fVFc%3D%7C&_esuh=_11_d3875bbe30797cb820e0bd0f092166ebf1210244a360ca7140b13eccb5e603df\n\n\n門市資訊\n\nhttps://link.email.newbalance.com.tw/u/nrd.php?p=C2npfZ9AQq_15974_8935579_1_24&ems_l=15692378&i=1&d=NjczOTEwMjky%7CQzJucGZaOUFRcQ%3D%3D%7CZjYzMjc1MTNkMGRhYjU0YzE%3D%7CMjAyNTAzMTVfT2h0YW5pX0NvbGxlY3Rpb25fVFc%3D%7C&_esuh=_11_e8e38431b3b9877c72055a7eddf257876391e4307c4bfe7a4f492ae1fe59767d\n\n\nShipping\n\nShipping\n\nhttps://link.email.newbalance.com.tw/u/nrd.php?p=C2npfZ9AQq_15974_8935579_1_32&ems_l=15692378&i=1&d=NjczOTEwMzAw%7CQzJucGZaOUFRcQ%3D%3D%7CZjYzMjc1MTNkMGRhYjU0YzE%3D%7CMjAyNTAzMTVfT2h0YW5pX0NvbGxlY3Rpb25fVFc%3D%7C&_esuh=_11_18bcc763aca1849fbf4556b4f4db6a9c6e2c45ec8494e05756da79f99fd721cf\n\n\n會員購物滿2,400元可享免運費\n\nhttps://link.email.newbalance.com.tw/u/nrd.php?p=C2npfZ9AQq_15974_8935579_1_34&ems_l=15692378&i=1&d=NjczOTEwMzAy%7CQzJucGZaOUFRcQ%3D%3D%7CZjYzMjc1MTNkMGRhYjU0YzE%3D%7CMjAyNTAzMTVfT2h0YW5pX0NvbGxlY3Rpb25fVFc%3D%7C&_esuh=_11_efc3f09e9204e2bb63edc59a592c24e443acc7dc50000f806230a3b8f31e736d\n\n\nhttps://link.email.newbalance.com.tw/u/nrd.php?p=C2npfZ9AQq_15974_8935579_1_26&ems_l=15692378&i=1&d=NjczOTEwMjk0%7CQzJucGZaOUFRcQ%3D%3D%7CZjYzMjc1MTNkMGRhYjU0YzE%3D%7CMjAyNTAzMTVfT2h0YW5pX0NvbGxlY3Rpb25fVFc%3D%7C&_esuh=_11_a4a86d82b4ab433de26a7c3d73b2f0f3f116d883f5b267abf8578bb5b01c1635\n\n\n門市資訊\n\nhttps://link.email.newbalance.com.tw/u/nrd.php?p=C2npfZ9AQq_15974_8935579_1_28&ems_l=15692378&i=1&d=NjczOTEwMjk2%7CQzJucGZaOUFRcQ%3D%3D%7CZjYzMjc1MTNkMGRhYjU0YzE%3D%7CMjAyNTAzMTVfT2h0YW5pX0NvbGxlY3Rpb25fVFc%3D%7C&_esuh=_11_da847e5106cfa002d087d380f228d04f66cc7ec489aff71eb90b3290365c8837\n\n\n熱銷商品\nhttps://link.email.newbalance.com.tw/u/nrd.php?p=C2npfZ9AQq_15974_8935579_1_36&ems_l=15692378&i=1&d=NjczOTEwMzA0%7CQzJucGZaOUFRcQ%3D%3D%7CZjYzMjc1MTNkMGRhYjU0YzE%3D%7CMjAyNTAzMTVfT2h0YW5pX0NvbGxlY3Rpb25fVFc%3D%7C&_esuh=_11_bafa4272d9ef6d8f22cb825c7e2797cfbd0169fc23c9368cf7a7ced037e7067b\n\n\nRun Your Way\nhttps://link.email.newbalance.com.tw/u/nrd.php?p=C2npfZ9AQq_15974_8935579_1_38&ems_l=15692378&i=1&d=NjczOTEwMzA2%7CQzJucGZaOUFRcQ%3D%3D%7CZjYzMjc1MTNkMGRhYjU0YzE%3D%7CMjAyNTAzMTVfT2h0YW5pX0NvbGxlY3Rpb25fVFc%3D%7C&_esuh=_11_0b2726648a6ee284b03de0c63ddd3dfde2baad024d99fd2f76fb9d49ce202e60\n\n\n優惠商品\nhttps://link.email.newbalance.com.tw/u/nrd.php?p=C2npfZ9AQq_15974_8935579_1_40&ems_l=15692378&i=1&d=NjczOTEwMzA4%7CQzJucGZaOUFRcQ%3D%3D%7CZjYzMjc1MTNkMGRhYjU0YzE%3D%7CMjAyNTAzMTVfT2h0YW5pX0NvbGxlY3Rpb25fVFc%3D%7C&_esuh=_11_43062215f2abdb3d272ea86ee48b4ac8d878f37254389f5e9b93c790672e26a5\n\n\nInstagram\n\nInstagram\n\nhttps://link.email.newbalance.com.tw/u/nrd.php?p=C2npfZ9AQq_15974_8935579_1_42&ems_l=15692378&i=1&d=NjczOTEwMzEw%7CQzJucGZaOUFRcQ%3D%3D%7CZjYzMjc1MTNkMGRhYjU0YzE%3D%7CMjAyNTAzMTVfT2h0YW5pX0NvbGxlY3Rpb25fVFc%3D%7C&_esuh=_11_d1ac3d49263eca2a3c77c2a4ebc55c664f1466f85cc9f743c0fd7b7e8cfc6a81\n\n\nFacebook\n\nFacebook\n\nhttps://link.email.newbalance.com.tw/u/nrd.php?p=C2npfZ9AQq_15974_8935579_1_44&ems_l=15692378&i=1&d=NjczOTEwMzEy%7CQzJucGZaOUFRcQ%3D%3D%7CZjYzMjc1MTNkMGRhYjU0YzE%3D%7CMjAyNTAzMTVfT2h0YW5pX0NvbGxlY3Rpb25fVFc%3D%7C&_esuh=_11_62190e58cd1591bb6b18cc66a1b7313fa0db00dfda339f2d2fc9f641fbdcd5ef\n\n\nTwitter\n\nTwitter\n\nhttps://link.email.newbalance.com.tw/u/nrd.php?p=C2npfZ9AQq_15974_8935579_1_46&ems_l=15692378&i=1&d=NjczOTEwMzE0%7CQzJucGZaOUFRcQ%3D%3D%7CZjYzMjc1MTNkMGRhYjU0YzE%3D%7CMjAyNTAzMTVfT2h0YW5pX0NvbGxlY3Rpb25fVFc%3D%7C&_esuh=_11_9d22325e4348e12868be14e2ae483746c7dcbfd206f21ab70b92b7acbf17227b\n\n\nTikTok\n\nTikTok\n\nhttps://link.email.newbalance.com.tw/u/nrd.php?p=C2npfZ9AQq_15974_8935579_1_48&ems_l=15692378&i=1&d=NjczOTEwMzE2%7CQzJucGZaOUFRcQ%3D%3D%7CZjYzMjc1MTNkMGRhYjU0YzE%3D%7CMjAyNTAzMTVfT2h0YW5pX0NvbGxlY3Rpb25fVFc%3D%7C&_esuh=_11_2d1c81672ef9d1f3a28cf20c99f1a72545855d8fe267347aadafdddfd47b5dd8\n\n\n在瀏覽器檢閱\nhttps://link.email.newbalance.com.tw/u/gm.php?prm=C2npfZ9AQq_815352253_8935579_15974&_esuh=_11_c3777c60082a461a076c191da3e322c42e9e685d31be61d10bb98c27779e776c\n\n取消訂閱\nhttps://link.email.newbalance.com.tw/u/un.php?par=C2npfZ9AQq_8935579_15974_$sid$&_esuh=_11_9c46ba1cee1b4536f70d04360836c89fe98aa8c55a80d4f734e8040d0389421c\n\n隱私權政策\nhttps://link.email.newbalance.com.tw/u/nrd.php?p=C2npfZ9AQq_15974_8935579_1_50&ems_l=15692378&i=1&d=NjczOTEwMzE4%7CQzJucGZaOUFRcQ%3D%3D%7CZjYzMjc1MTNkMGRhYjU0YzE%3D%7CMjAyNTAzMTVfT2h0YW5pX0NvbGxlY3Rpb25fVFc%3D%7C&_esuh=_11_1bf0a35cc2496a263ef27eeb4534874d60ff0179f4b049d0f92a488d62fbd49d\n\n條款與細則\nhttps://link.email.newbalance.com.tw/u/nrd.php?p=C2npfZ9AQq_15974_8935579_1_52&ems_l=15692378&i=1&d=NjczOTEwMzIw%7CQzJucGZaOUFRcQ%3D%3D%7CZjYzMjc1MTNkMGRhYjU0YzE%3D%7CMjAyNTAzMTVfT2h0YW5pX0NvbGxlY3Rpb25fVFc%3D%7C&_esuh=_11_207745084d08c045b78d111067619ad4f700984d3e89022992540fc659f320e7\n\n尋求協助\nhttps://link.email.newbalance.com.tw/u/nrd.php?p=C2npfZ9AQq_15974_8935579_1_54&ems_l=15692378&i=1&d=NjczOTEwMzIy%7CQzJucGZaOUFRcQ%3D%3D%7CZjYzMjc1MTNkMGRhYjU0YzE%3D%7CMjAyNTAzMTVfT2h0YW5pX0NvbGxlY3Rpb25fVFc%3D%7C&_esuh=_11_25b7d1d0dd79fb3c956837de93cbf2404db577d62493cb767b820663e78c95de\n\n\n 2025, New Balance\n\n確保不錯過任何特別優惠，請在您的電子信箱上新增聯絡人\nnewbalance@email.newbalance.com.tw\n\n如果您不願意再收到我們的電子郵件通知，請到訪我們的取消訂閱頁面\nhttps://link.email.newbalance.com.tw/u/un.php?par=C2npfZ9AQq_8935579_15974_$sid$&_esuh=_11_9c46ba1cee1b4536f70d04360836c89fe98aa8c55a80d4f734e8040d0389421c\n。\n\n   \n 在瀏覽器檢閱      取消訂閱      隱私權政策       \n 條款與細則       尋求協助 \n\n\n© 2025, New Balance\n確保不錯過任何特別優惠，請在您的電子信箱上新增聯絡人 newbalance@email.newbalance.com.tw\n如果您不願意再收到我們的電子郵件通知，請到訪我們的取消訂閱頁面。",
         "5"
        ]
       ],
       "shape": {
        "columns": 3,
        "rows": 5
       }
      },
      "text/html": [
       "<div>\n",
       "<style scoped>\n",
       "    .dataframe tbody tr th:only-of-type {\n",
       "        vertical-align: middle;\n",
       "    }\n",
       "\n",
       "    .dataframe tbody tr th {\n",
       "        vertical-align: top;\n",
       "    }\n",
       "\n",
       "    .dataframe thead th {\n",
       "        text-align: right;\n",
       "    }\n",
       "</style>\n",
       "<table border=\"1\" class=\"dataframe\">\n",
       "  <thead>\n",
       "    <tr style=\"text-align: right;\">\n",
       "      <th></th>\n",
       "      <th>subject</th>\n",
       "      <th>message</th>\n",
       "      <th>label</th>\n",
       "    </tr>\n",
       "  </thead>\n",
       "  <tbody>\n",
       "    <tr>\n",
       "      <th>0</th>\n",
       "      <td>The FuelCell Rebel</td>\n",
       "      <td>全新顏色\\n\\nNew Balance\\nhttps://link.email.newbal...</td>\n",
       "      <td>5</td>\n",
       "    </tr>\n",
       "    <tr>\n",
       "      <th>1</th>\n",
       "      <td>1111人力銀行推薦 -【桃園台茂店【涮乃葉】兼職人員及大專院校實習】</td>\n",
       "      <td>\\n    \\n    轉寄履歷-簡式版\\n\\n    \\n        \\n      ...</td>\n",
       "      <td>3</td>\n",
       "    </tr>\n",
       "    <tr>\n",
       "      <th>2</th>\n",
       "      <td>陳任璿-2025/03/16 履歷職缺配對通知</td>\n",
       "      <td>\\n  職缺配對                  \\n                  ...</td>\n",
       "      <td>3</td>\n",
       "    </tr>\n",
       "    <tr>\n",
       "      <th>3</th>\n",
       "      <td>你的 Apple 開立發票通知</td>\n",
       "      <td>\\n \\n開立發票通知\\n\\n\\n            APPLE 帳號dana43261...</td>\n",
       "      <td>2</td>\n",
       "    </tr>\n",
       "    <tr>\n",
       "      <th>4</th>\n",
       "      <td>大谷翔平，準備好續集</td>\n",
       "      <td>The Ohtani Signature Collection\\n\\nNew Balance...</td>\n",
       "      <td>5</td>\n",
       "    </tr>\n",
       "  </tbody>\n",
       "</table>\n",
       "</div>"
      ],
      "text/plain": [
       "                               subject  \\\n",
       "0                   The FuelCell Rebel   \n",
       "1  1111人力銀行推薦 -【桃園台茂店【涮乃葉】兼職人員及大專院校實習】   \n",
       "2              陳任璿-2025/03/16 履歷職缺配對通知   \n",
       "3                      你的 Apple 開立發票通知   \n",
       "4                           大谷翔平，準備好續集   \n",
       "\n",
       "                                             message  label  \n",
       "0  全新顏色\\n\\nNew Balance\\nhttps://link.email.newbal...      5  \n",
       "1  \\n    \\n    轉寄履歷-簡式版\\n\\n    \\n        \\n      ...      3  \n",
       "2  \\n  職缺配對                  \\n                  ...      3  \n",
       "3  \\n \\n開立發票通知\\n\\n\\n            APPLE 帳號dana43261...      2  \n",
       "4  The Ohtani Signature Collection\\n\\nNew Balance...      5  "
      ]
     },
     "execution_count": 1,
     "metadata": {},
     "output_type": "execute_result"
    }
   ],
   "source": [
    "import pandas as pd \n",
    "\n",
    "df = pd.read_csv('test2.csv')\n",
    "df.head()"
   ]
  },
  {
   "cell_type": "code",
   "execution_count": 2,
   "id": "4c762d1f",
   "metadata": {},
   "outputs": [
    {
     "name": "stdout",
     "output_type": "stream",
     "text": [
      "整個資料集 各類別數量:\n",
      "類別 0: 1000 筆\n",
      "類別 1: 55 筆\n",
      "類別 2: 422 筆\n",
      "類別 3: 586 筆\n",
      "類別 4: 452 筆\n",
      "類別 5: 304 筆\n",
      "類別 6: 181 筆\n"
     ]
    }
   ],
   "source": [
    "import collections\n",
    "# 顯示各類別數量\n",
    "label_counts = collections.Counter(df['label'])\n",
    "print(\"整個資料集 各類別數量:\")\n",
    "for label, count in sorted(label_counts.items()):\n",
    "    print(f\"類別 {label}: {count} 筆\")\n"
   ]
  },
  {
   "cell_type": "code",
   "execution_count": 3,
   "id": "85fc3dc8",
   "metadata": {},
   "outputs": [
    {
     "data": {
      "text/plain": [
       "0    The FuelCell Rebel 全新顏色\\n\\nNew Balance\\nhttps:...\n",
       "1    1111人力銀行推薦 -【桃園台茂店【涮乃葉】兼職人員及大專院校實習】 \\n    \\n  ...\n",
       "2    陳任璿-2025/03/16 履歷職缺配對通知 \\n  職缺配對              ...\n",
       "3    你的 Apple 開立發票通知 \\n \\n開立發票通知\\n\\n\\n            A...\n",
       "4    大谷翔平，準備好續集 The Ohtani Signature Collection\\n\\n...\n",
       "Name: sub_mssg, dtype: object"
      ]
     },
     "execution_count": 3,
     "metadata": {},
     "output_type": "execute_result"
    }
   ],
   "source": [
    "df['sub_mssg'] = df['subject'] + ' ' + df['message']\n",
    "df['sub_mssg'].head()"
   ]
  },
  {
   "cell_type": "code",
   "execution_count": 4,
   "id": "895b591f",
   "metadata": {},
   "outputs": [],
   "source": [
    "df.drop('subject', axis=1, inplace=True)\n",
    "df.drop('message', axis=1, inplace=True)"
   ]
  },
  {
   "cell_type": "code",
   "execution_count": 5,
   "id": "6be97726",
   "metadata": {},
   "outputs": [
    {
     "data": {
      "application/vnd.microsoft.datawrangler.viewer.v0+json": {
       "columns": [
        {
         "name": "index",
         "rawType": "int64",
         "type": "integer"
        },
        {
         "name": "label",
         "rawType": "int64",
         "type": "integer"
        },
        {
         "name": "sub_mssg",
         "rawType": "object",
         "type": "string"
        }
       ],
       "conversionMethod": "pd.DataFrame",
       "ref": "46ad58c7-1228-4feb-b31f-a9cacf323bb5",
       "rows": [
        [
         "0",
         "5",
         "The FuelCell Rebel 全新顏色\n\nNew Balance\nhttps://link.email.newbalance.com.tw/u/nrd.php?p=C2npfZ9AQq_63341_8871928_1_2&ems_l=15716152&i=1&d=Njc0NDU2NDE3%7CQzJucGZaOUFRcQ%3D%3D%7CZjYzMjc1MTNkMGRhYjU0YzE%3D%7CMjAyNTAzMTdfUmViZWxfVjRfVFc%3D%7C&_esuh=_11_ad0721048baddef75cbbbd0c4889b135f43a9790ee8ea8a05a5522dfe191c1e0\n\n\n男裝\nhttps://link.email.newbalance.com.tw/u/nrd.php?p=C2npfZ9AQq_63341_8871928_1_4&ems_l=15716152&i=1&d=Njc0NDU2NDE5%7CQzJucGZaOUFRcQ%3D%3D%7CZjYzMjc1MTNkMGRhYjU0YzE%3D%7CMjAyNTAzMTdfUmViZWxfVjRfVFc%3D%7C&_esuh=_11_393cec62b6f140ea6450b7595692e17e886eb75d7263379318baafb00abb7204\n\n女裝\nhttps://link.email.newbalance.com.tw/u/nrd.php?p=C2npfZ9AQq_63341_8871928_1_6&ems_l=15716152&i=1&d=Njc0NDU2NDIx%7CQzJucGZaOUFRcQ%3D%3D%7CZjYzMjc1MTNkMGRhYjU0YzE%3D%7CMjAyNTAzMTdfUmViZWxfVjRfVFc%3D%7C&_esuh=_11_2d6f5e12e363f3f9a0fa2a736c2bb509cfd1d3c76418dd6ef57154f437027ff4\n\n兒童\nhttps://link.email.newbalance.com.tw/u/nrd.php?p=C2npfZ9AQq_63341_8871928_1_8&ems_l=15716152&i=1&d=Njc0NDU2NDIz%7CQzJucGZaOUFRcQ%3D%3D%7CZjYzMjc1MTNkMGRhYjU0YzE%3D%7CMjAyNTAzMTdfUmViZWxfVjRfVFc%3D%7C&_esuh=_11_12f43a5ddcaa33bf32de1274173d9cd68a3dbbe3dddc6713b183c77b48078749\n\n\nhttps://link.email.newbalance.com.tw/u/nrd.php?p=C2npfZ9AQq_63341_8871928_1_10&ems_l=15716152&i=1&d=Njc0NDU2NDI1%7CQzJucGZaOUFRcQ%3D%3D%7CZjYzMjc1MTNkMGRhYjU0YzE%3D%7CMjAyNTAzMTdfUmViZWxfVjRfVFc%3D%7C&_esuh=_11_9565c77012ddb61d42503651860dfee5ee0b7ae5d35c627d604fcf5f8c7f8c9c\n\n\n專為速度而打造。為跑步補充能量。\n\n立即選購\nhttps://link.email.newbalance.com.tw/u/nrd.php?p=C2npfZ9AQq_63341_8871928_1_12&ems_l=15716152&i=1&d=Njc0NDU2NDI3%7CQzJucGZaOUFRcQ%3D%3D%7CZjYzMjc1MTNkMGRhYjU0YzE%3D%7CMjAyNTAzMTdfUmViZWxfVjRfVFc%3D%7C&_esuh=_11_c71f0fdeaca2b24c07dd198a8820386b4c5e49771bea678cc0c7fa5af25c039f\n\n\n立即選購\nhttps://link.email.newbalance.com.tw/u/nrd.php?p=C2npfZ9AQq_63341_8871928_1_14&ems_l=15716152&i=1&d=Njc0NDU2NDI5%7CQzJucGZaOUFRcQ%3D%3D%7CZjYzMjc1MTNkMGRhYjU0YzE%3D%7CMjAyNTAzMTdfUmViZWxfVjRfVFc%3D%7C&_esuh=_11_2fbe0084fb6a17d4766c0dc35f7bc83acdfbcbc50ccf5160d57c783d4572e1b1\n\n\nhttps://link.email.newbalance.com.tw/u/nrd.php?p=C2npfZ9AQq_63341_8871928_1_16&ems_l=15716152&i=1&d=Njc0NDU2NDMx%7CQzJucGZaOUFRcQ%3D%3D%7CZjYzMjc1MTNkMGRhYjU0YzE%3D%7CMjAyNTAzMTdfUmViZWxfVjRfVFc%3D%7C&_esuh=_11_a07a40fba923ed398c9113bbf01b3d61b2ec99587c2e64786913b95e2f90a64a\n\n\nhttps://link.email.newbalance.com.tw/u/nrd.php?p=C2npfZ9AQq_63341_8871928_1_18&ems_l=15716152&i=1&d=Njc0NDU2NDMz%7CQzJucGZaOUFRcQ%3D%3D%7CZjYzMjc1MTNkMGRhYjU0YzE%3D%7CMjAyNTAzMTdfUmViZWxfVjRfVFc%3D%7C&_esuh=_11_c968f1bf656825fe24ee790c967483ccd5987acd4d50c095921e939e769e800f\n\n\nShipping\n\nShipping\n\nhttps://link.email.newbalance.com.tw/u/nrd.php?p=C2npfZ9AQq_63341_8871928_1_20&ems_l=15716152&i=1&d=Njc0NDU2NDM1%7CQzJucGZaOUFRcQ%3D%3D%7CZjYzMjc1MTNkMGRhYjU0YzE%3D%7CMjAyNTAzMTdfUmViZWxfVjRfVFc%3D%7C&_esuh=_11_9e664a9aa5fab48439c08ce2c15dd7ffa29d89a7595a9a0f2e0207024742fe0b\n\n\n會員購物滿2,400元可享免運費\n\nhttps://link.email.newbalance.com.tw/u/nrd.php?p=C2npfZ9AQq_63341_8871928_1_30&ems_l=15716152&i=1&d=Njc0NDU2NDQ1%7CQzJucGZaOUFRcQ%3D%3D%7CZjYzMjc1MTNkMGRhYjU0YzE%3D%7CMjAyNTAzMTdfUmViZWxfVjRfVFc%3D%7C&_esuh=_11_3c2ce361b833494e0d4dea6648b317bf575214526e033d9087014cef95b7d1a2\n\n\nStore\n\nStore\n\nhttps://link.email.newbalance.com.tw/u/nrd.php?p=C2npfZ9AQq_63341_8871928_1_22&ems_l=15716152&i=1&d=Njc0NDU2NDM3%7CQzJucGZaOUFRcQ%3D%3D%7CZjYzMjc1MTNkMGRhYjU0YzE%3D%7CMjAyNTAzMTdfUmViZWxfVjRfVFc%3D%7C&_esuh=_11_2eac86d5ad56e971991ba046268ed5b0158dbf06aa51e6af7e08ca14aaeabcfa\n\n\n門市資訊\n\nhttps://link.email.newbalance.com.tw/u/nrd.php?p=C2npfZ9AQq_63341_8871928_1_24&ems_l=15716152&i=1&d=Njc0NDU2NDM5%7CQzJucGZaOUFRcQ%3D%3D%7CZjYzMjc1MTNkMGRhYjU0YzE%3D%7CMjAyNTAzMTdfUmViZWxfVjRfVFc%3D%7C&_esuh=_11_5ef0e7b076b221b61acc3916e360f0be6ea4f600ac624ea057cfc607d015c21f\n\n\nShipping\n\nShipping\n\nhttps://link.email.newbalance.com.tw/u/nrd.php?p=C2npfZ9AQq_63341_8871928_1_32&ems_l=15716152&i=1&d=Njc0NDU2NDQ3%7CQzJucGZaOUFRcQ%3D%3D%7CZjYzMjc1MTNkMGRhYjU0YzE%3D%7CMjAyNTAzMTdfUmViZWxfVjRfVFc%3D%7C&_esuh=_11_1499bed474654fa199b35dd3f11b2b203007d96d5c6c2ae3bc0df54da1a1c541\n\n\n會員購物滿2,400元可享免運費\n\nhttps://link.email.newbalance.com.tw/u/nrd.php?p=C2npfZ9AQq_63341_8871928_1_34&ems_l=15716152&i=1&d=Njc0NDU2NDQ5%7CQzJucGZaOUFRcQ%3D%3D%7CZjYzMjc1MTNkMGRhYjU0YzE%3D%7CMjAyNTAzMTdfUmViZWxfVjRfVFc%3D%7C&_esuh=_11_b5e9d5c12adbbaf85d18e12c23f25dec1766537984462d849b621e0b3fbb5a92\n\n\nhttps://link.email.newbalance.com.tw/u/nrd.php?p=C2npfZ9AQq_63341_8871928_1_26&ems_l=15716152&i=1&d=Njc0NDU2NDQx%7CQzJucGZaOUFRcQ%3D%3D%7CZjYzMjc1MTNkMGRhYjU0YzE%3D%7CMjAyNTAzMTdfUmViZWxfVjRfVFc%3D%7C&_esuh=_11_b8eb139ab9f5bbfbd5ae63c518eb140bf0f964b1514eab512ad577b0f92caa4e\n\n\n門市資訊\n\nhttps://link.email.newbalance.com.tw/u/nrd.php?p=C2npfZ9AQq_63341_8871928_1_28&ems_l=15716152&i=1&d=Njc0NDU2NDQz%7CQzJucGZaOUFRcQ%3D%3D%7CZjYzMjc1MTNkMGRhYjU0YzE%3D%7CMjAyNTAzMTdfUmViZWxfVjRfVFc%3D%7C&_esuh=_11_f4c69ff1dec0f6555250ebf58b22c9f1ef024292abe96342f3489844b4209f4b\n\n\n熱銷商品\nhttps://link.email.newbalance.com.tw/u/nrd.php?p=C2npfZ9AQq_63341_8871928_1_36&ems_l=15716152&i=1&d=Njc0NDU2NDUx%7CQzJucGZaOUFRcQ%3D%3D%7CZjYzMjc1MTNkMGRhYjU0YzE%3D%7CMjAyNTAzMTdfUmViZWxfVjRfVFc%3D%7C&_esuh=_11_36b84197e745f9d301b1df3b31543be0d26725623ef35a91852dad1e9a69b80b\n\n\nRun Your Way\nhttps://link.email.newbalance.com.tw/u/nrd.php?p=C2npfZ9AQq_63341_8871928_1_38&ems_l=15716152&i=1&d=Njc0NDU2NDUz%7CQzJucGZaOUFRcQ%3D%3D%7CZjYzMjc1MTNkMGRhYjU0YzE%3D%7CMjAyNTAzMTdfUmViZWxfVjRfVFc%3D%7C&_esuh=_11_3ce7b7db2302a918670d469f0ed88cb39520aac7a698d09df0c4ccf25402600f\n\n\n優惠商品\nhttps://link.email.newbalance.com.tw/u/nrd.php?p=C2npfZ9AQq_63341_8871928_1_40&ems_l=15716152&i=1&d=Njc0NDU2NDU1%7CQzJucGZaOUFRcQ%3D%3D%7CZjYzMjc1MTNkMGRhYjU0YzE%3D%7CMjAyNTAzMTdfUmViZWxfVjRfVFc%3D%7C&_esuh=_11_17a4126d8713364b9f330b49994cf7766d63e0ff4f1c0756bb628378021f3907\n\n\nInstagram\n\nInstagram\n\nhttps://link.email.newbalance.com.tw/u/nrd.php?p=C2npfZ9AQq_63341_8871928_1_42&ems_l=15716152&i=1&d=Njc0NDU2NDU3%7CQzJucGZaOUFRcQ%3D%3D%7CZjYzMjc1MTNkMGRhYjU0YzE%3D%7CMjAyNTAzMTdfUmViZWxfVjRfVFc%3D%7C&_esuh=_11_a1c052db1866aa942351e9f4c4250c59d188c32f2625434fe0a0019ddeca6334\n\n\nFacebook\n\nFacebook\n\nhttps://link.email.newbalance.com.tw/u/nrd.php?p=C2npfZ9AQq_63341_8871928_1_44&ems_l=15716152&i=1&d=Njc0NDU2NDU5%7CQzJucGZaOUFRcQ%3D%3D%7CZjYzMjc1MTNkMGRhYjU0YzE%3D%7CMjAyNTAzMTdfUmViZWxfVjRfVFc%3D%7C&_esuh=_11_6a11620fa7bffb1fa59967ff827da0225a3ef00c4710be17e2ca18a5b82234bf\n\n\nTwitter\n\nTwitter\n\nhttps://link.email.newbalance.com.tw/u/nrd.php?p=C2npfZ9AQq_63341_8871928_1_46&ems_l=15716152&i=1&d=Njc0NDU2NDYx%7CQzJucGZaOUFRcQ%3D%3D%7CZjYzMjc1MTNkMGRhYjU0YzE%3D%7CMjAyNTAzMTdfUmViZWxfVjRfVFc%3D%7C&_esuh=_11_30e7897b7f66923cedc7018a67de00a1c5bfc896e6480fee5d10544117d66913\n\n\nTikTok\n\nTikTok\n\nhttps://link.email.newbalance.com.tw/u/nrd.php?p=C2npfZ9AQq_63341_8871928_1_48&ems_l=15716152&i=1&d=Njc0NDU2NDYz%7CQzJucGZaOUFRcQ%3D%3D%7CZjYzMjc1MTNkMGRhYjU0YzE%3D%7CMjAyNTAzMTdfUmViZWxfVjRfVFc%3D%7C&_esuh=_11_c3f23f793a666f5f1cd4947bfdbe949d55977aace5991dd0ad36d4720ad99809\n\n\n在瀏覽器檢閱\nhttps://link.email.newbalance.com.tw/u/gm.php?prm=C2npfZ9AQq_815352253_8871928_63341&_esuh=_11_80b838e856eb6391725f53e6baf7fcbc1dbb955a96ac1fa26f66f78b6e1f7721\n\n取消訂閱\nhttps://link.email.newbalance.com.tw/u/un.php?par=C2npfZ9AQq_8871928_63341_$sid$&_esuh=_11_04884f1ed7f5ab7af4fbd69c3931d83647867554364cf33d4c58d13396e3ab1b\n\n隱私權政策\nhttps://link.email.newbalance.com.tw/u/nrd.php?p=C2npfZ9AQq_63341_8871928_1_50&ems_l=15716152&i=1&d=Njc0NDU2NDY1%7CQzJucGZaOUFRcQ%3D%3D%7CZjYzMjc1MTNkMGRhYjU0YzE%3D%7CMjAyNTAzMTdfUmViZWxfVjRfVFc%3D%7C&_esuh=_11_08560927cf314d41046297eb4a67da7ec47a1ec303d04ffe5e9f249ca2065f05\n\n條款與細則\nhttps://link.email.newbalance.com.tw/u/nrd.php?p=C2npfZ9AQq_63341_8871928_1_52&ems_l=15716152&i=1&d=Njc0NDU2NDY3%7CQzJucGZaOUFRcQ%3D%3D%7CZjYzMjc1MTNkMGRhYjU0YzE%3D%7CMjAyNTAzMTdfUmViZWxfVjRfVFc%3D%7C&_esuh=_11_0dcfd70a5a3ec5a4735e63709b4f825f033924d87702c3d6916c7b00824aaccd\n\n尋求協助\nhttps://link.email.newbalance.com.tw/u/nrd.php?p=C2npfZ9AQq_63341_8871928_1_54&ems_l=15716152&i=1&d=Njc0NDU2NDY5%7CQzJucGZaOUFRcQ%3D%3D%7CZjYzMjc1MTNkMGRhYjU0YzE%3D%7CMjAyNTAzMTdfUmViZWxfVjRfVFc%3D%7C&_esuh=_11_351f2083c2428baf0018a4016d67c3ce269be305c17bcab309728217b92577e1\n\n\n 2025, New Balance\n\n確保不錯過任何特別優惠，請在您的電子信箱上新增聯絡人\nnewbalance@email.newbalance.com.tw\n\n如果您不願意再收到我們的電子郵件通知，請到訪我們的取消訂閱頁面\nhttps://link.email.newbalance.com.tw/u/un.php?par=C2npfZ9AQq_8871928_63341_$sid$&_esuh=_11_04884f1ed7f5ab7af4fbd69c3931d83647867554364cf33d4c58d13396e3ab1b\n。\n\n© 2025, New Balance\n確保不錯過任何特別優惠，請在您的電子信箱上新增聯絡人 newbalance@email.newbalance.com.tw\n如果您不願意再收到我們的電子郵件通知，請到訪我們的取消訂閱頁面。"
        ],
        [
         "1",
         "3",
         "1111人力銀行推薦 -【桃園台茂店【涮乃葉】兼職人員及大專院校實習】 \n    \n    轉寄履歷-簡式版\n\n    \n        \n            本信無任何惡意連結或程式，您可放心開啟，請務必顯示圖片，以檢視完整信件\n         \n                    \n                         \n                        1111人力銀行 推薦您  推薦職缺 \n                         \n\n                         \n                        雲雀國際股份有限公司徵才中，若有興趣，請點擊「我要應徵」，或點此連結看更多職缺。 \n                         \n                    \n      \n                        職務簡介 \n                        公司名稱 \n                        雲雀國際股份有限公司 \n                        我要應徵 \n                         \n  \n                         \n                        職缺名稱 \n                        桃園台茂店【涮乃葉】兼職人員及大專院校實習 \n                         \n\n                         \n                        工作內容 \n                        誠徵兼職人員及大專院校實習生\n歡迎對外場服務或內場廚務調理有興趣者加入我們的行列\n依需求彈性排班4～7小時\n早班、中班、晚班、全日班、假日班皆有缺額\n日夜間部學生工讀、二度就業、上班族兼差皆可\n福利相關:\n1.職代敬業津貼。\n2.區域津貼。\n3.早、晚班津貼。\n4.月/季/年度 優秀社員獎勵制度。\n5.業績/年中/年終獎金制度 (須經評價並通過考核)。\n6.國定假日雙倍薪。\n7.介紹獎金、留任獎金。\n8.勞保、健保、勞工退休金提撥、員工團體保險。\n享有多重獎勵，努力看的見 !!! \n                         \n\n                    \n                         \n                        求才條件 \n                        工作地點 \n                        桃園市蘆竹區 \n                         \n  \n                         \n                        工作待遇 \n                        時薪 207 元  ~ 281 元  \n                         \n\n                         \n                        工作時間 \n                        日班 , 中班 , 晚班 , 假日班 , 輪班 說明：AM 9:00~PM 23:00 依需求彈性排班4~7小時 \n                         \n\n                         \n                        身份類別 \n                        原住民 \n                         \n       \n                        學歷限制 \n                        高中職,專科,大學 \n                         \n\n                         \n                        科系限制 \n                        不拘 \n                         \n                                             \n                        工作經驗 \n                        不拘 \n                         \n   \n                          \n                        我要應徵 \n                          \n  \n                            ●定期更新履歷，讓您求職大加分：立即更新履歷。\n                            ●想收到更精準的職缺配對：調整配對條件。\n                            ●已無求職需求，建議您：關閉所有履歷。\n                            ●不需此職務推薦信，您可以：取消收取推薦信。\n                            ●此信件為 1111人力銀行系統發送，請勿直接回覆。\n                         \n\n                        \n                            企業徵才服務\n                            週一 ~ 週五8:30 ~ 21:00，週六、週日、國定假日 9:00 ~ 21:00\n                            苗栗以北：(02) 8787-1111　中部地區：(04) 2203-1111　南部地區：(07) 958-1111\n                            © 2017 1111 Job Bank All Rights Reserved.\n                         \n\n\n\n轉寄履歷-簡式版\n\n\n\n本信無任何惡意連結或程式，您可放心開啟，請務必顯示圖片，以檢視完整信件\n\n\n\n1111人力銀行 推薦您  推薦職缺\n\n\n\n雲雀國際股份有限公司徵才中，若有興趣，請點擊「我要應徵」，或點此連結看更多職缺。\n\n\n\n職務簡介\n公司名稱\n雲雀國際股份有限公司\n我要應徵\n\n\n職缺名稱\n桃園台茂店【涮乃葉】兼職人員及大專院校實習\n\n\n工作內容\n誠徵兼職人員及大專院校實習生\n歡迎對外場服務或內場廚務調理有興趣者加入我們的行列\n依需求彈性排班4～7小時\n早班、中班、晚班、全日班、假日班皆有缺額\n日夜間部學生工讀、二度就業、上班族兼差皆可\n福利相關:\n1.職代敬業津貼。\n2.區域津貼。\n3.早、晚班津貼。\n4.月/季/年度 優秀社員獎勵制度。\n5.業績/年中/年終獎金制度 (須經評價並通過考核)。\n6.國定假日雙倍薪。\n7.介紹獎金、留任獎金。\n8.勞保、健保、勞工退休金提撥、員工團體保險。\n享有多重獎勵，努力看的見 !!!\n\n\n\n求才條件\n工作地點\n桃園市蘆竹區\n\n\n工作待遇\n時薪 207 元  ~ 281 元 \n\n\n工作時間\n日班 , 中班 , 晚班 , 假日班 , 輪班 說明：AM 9:00~PM 23:00 依需求彈性排班4~7小時\n\n\n身份類別\n原住民\n\n\n學歷限制\n高中職,專科,大學\n\n\n科系限制\n不拘\n\n\n工作經驗\n不拘\n\n\n \n我要應徵\n \n\n\n●定期更新履歷，讓您求職大加分：立即更新履歷。\n●想收到更精準的職缺配對：調整配對條件。\n●已無求職需求，建議您：關閉所有履歷。\n●不需此職務推薦信，您可以：取消收取推薦信。\n●此信件為 1111人力銀行系統發送，請勿直接回覆。\n\n\n\n                            企業徵才服務\n                            週一 ~ 週五8:30 ~ 21:00，週六、週日、國定假日 9:00 ~ 21:00\n                            苗栗以北：(02) 8787-1111　中部地區：(04) 2203-1111　南部地區：(07) 958-1111\n                            © 2017 1111 Job Bank All Rights Reserved.\n"
        ],
        [
         "2",
         "3",
         "陳任璿-2025/03/16 履歷職缺配對通知 \n  職缺配對                  \n                      \n                                    嗨！陳任璿，為您寄送您期待的配對職缺，這些職位符合您履歷的大部分期望條件。趕快點進職缺查看內容，或許您即將找到理想的工作！1111人力銀行是您職場成功的合作夥伴，我們為您提供更多工作機會。祝福您求職成功！ \n               \n                     履歷/自訂條件配對職缺\n                                                                                                                    配對條件                                                                        餐飲服務人員、餐廚助手、洗碗人員、生鮮處理人員、冷熱飲調製人員                                \n                                                   \n                                                                                                    最新符合                                                                3 筆 更多                            \n                                           \n小提示：適度放寬配對條件，能讓我們推薦更多職缺給您！修改配對條件 \n               \n                                                            餐飲服務人員                                     \n                         \n                                                                                                                                                                                    饞鬥鍋物【南崁店】外場工讀                                 \n                                                                                                                                                                                                                                            饞鬥本格鍋物(饞鬥鍋物)                                                 \n                                                                                                    桃園市蘆竹區                                                 \n                                                                                                    時薪 190 以上                                                  \n                                                                                                                                                         \n                                                                                                                                                                                                                                                            1.為顧客帶位或安排座位\n2.將菜單遞交顧客，答覆有關餐飲問題，必要時提供建議\n3.記錄顧客所點菜餚，並通知廚房或內場做餐送餐\n4.上菜並提供有關用餐的服務.......more                                                 \n                                                                                                                                                     \n                                                                                                                                         \n                                                                                                                                                                                                                                                            準確率回報                                                       應 徵                                                 \n                                                                                                                                                         \n                                                                                         \n                         \n                                                                                                                                                                                    【築田便當蘆竹店】外送人員                                 \n                                                                                                                                                                                                                                            億展餐飲食品有限公司(築田便當連鎖餐飲店)                                                 \n                                                                                                    桃園市蘆竹區                                                 \n                                                                                                    時薪 200 以上                                                  \n                                                                                                                                                         \n                                                                                                                                                                                                                                                            將餐盒送到客戶手中，並請客戶進行簽收\n自備機車100cc~125cc(提供油資津貼)\n有供餐.......more                                                 \n                                                                                                                                                     \n                                                                                                                                         \n                                                                                                                                                                                                                                                            準確率回報                                                       應 徵                                                 \n                                                                                                                                                         \n                                                                                         \n                         \n                                                                                                                                                                                    『最高時薪265元！』乾杯品牌-台茂外場計時社員 聯合募集 -KLCD4                                 \n                                                                                                                                                                                                                                            乾杯股份有限公司                                                 \n                                                                                                    桃園市蘆竹區                                                 \n                                                                                                    時薪 190 ~ 265                                                 \n                                                                                                                                                         \n                                                                                                                                                                                                                                                            205元 (含10元PT津貼為215元)\n視經驗調整起薪，最高可達265元(含10元津貼)\n\n【工作內容】\n外場店員：接待及引導、餐點酒水介紹、協助顧客點餐、桌邊服務及維護環境。\n主管交辦事項等。\n\n【工作需求】\n班別分為早、中、晚班\n9:00~00:00 區間排班；每週排班，可彈性調整(假日可配合排班佳)\n歡迎詢問討論排班時間!\n\n【福利】\n三節獎金、每年健檢健康諮詢、員工餐、不定期部門聚餐等。.......more                                                 \n                                                                                                       幸福企業      知名企業                                                     \n                                                                                                                                         \n                                                                                                                                                                                                                                                            準確率回報                                                       應 徵                                                 \n                                                                                                                                                         \n                                                                                         \n                         \n                                                                                                                                                                                    這些職缺符合您的需求嗎？請告訴我們                                 \n                                                                                         \n                         \n\n                                                              其他職缺                                                                                                                              \n                                                                                           \n 桃園台茂-上菜片皮鴨專賣店 領檯人員 \n漢來美食股份有限公司 \n桃園市蘆竹區 \n月薪 32,000 ~ 34,000 \n詳細內容 \n \n \n \n超夯川麻辣鍋/燒肉(蘆竹店)-外場服務人員起薪33000-43500元 \n聖保羅餐廳股份有限公司 \n桃園市蘆竹區 \n月薪 33,000 ~ 43,500 \n詳細內容 \n \n \n \n饞鬥鍋物【南崁店】外場工讀 \n饞鬥本格鍋物 \n桃園市蘆竹區 \n時薪 190 以上  \n詳細內容 \n \n \n \n饅饅好食 專櫃銷售工讀生(桃園台茂購物中心) \nMum,Mum 饅饅好食_好心情國際事業有限公司 \n桃園市蘆竹區 \n時薪 190 ~ 197 \n詳細內容 \n \n \n \n餐廳服務員 \n永漢開發股份有限公司桃園營業所 \n桃園市蘆竹區 \n月薪 28,590 ~ 30,000 \n詳細內容 \n \n \n \n【MAGiC TOUCH点爭鮮】台茂店-正職人員 \n爭鮮股份有限公司 \n桃園市蘆竹區 \n月薪 38,500 ~ 40,500 \n詳細內容 \n \n \n \n【築田便當蘆竹店】餐飲工作人員 \n億展餐飲食品有限公司 \n桃園市蘆竹區 \n月薪 35,000 以上  \n詳細內容 \n \n \n \n【點水樓】南崁店-洗滌清潔員 \n點水樓餐飲事業股份有限公司 \n桃園市蘆竹區 \n月薪 30,000 ~ 38,000 \n詳細內容 \n \n \n \n『最高時薪265元！』乾杯品牌-台茂外場計時社員 聯合募集 -KLCD4 \n乾杯股份有限公司 \n桃園市蘆竹區 \n時薪 190 ~ 265 \n詳細內容 \n \n \n \n早安美芝城 （蘆竹長春概念店）早餐 門市正職人員 \n早安美芝城桃園莊一概念店_齊樂科技企業社 \n桃園市蘆竹區 \n月薪 36,000 ~ 50,000 \n詳細內容 \n \n \n \n                                                                                                                                                                                      搜尋更多職缺                                  \n                                                                                         \n                         \n\n\t\t\t\t\t                        職場升級包         \n                                                        ． 提升競爭力➤ 學習六大外語，快來領取最高20,000元補助！ → \n． 【郵局招考】招募1620名新血！月薪上勘＄5萬5↗ → \n． 想轉職綠能產業？政府新尖兵計畫助攻→成為ESG人才！ → \n                                                         \n         \n\t\t\t\t\t\n                        進修再出發         \n                                    ． 【SCA CSP 國際證照】成就你的咖啡夢想 → \n． 【烘焙家必修】各式烘焙教學｜證照課 → \n． 【饕客必學本領】系統學習餐廳英文 → \n． 【政府力挺，免費學】3D設計與AI繪圖跨界應用 → \n                                                         \n                                                                                                                                                                                                                                                                    看更多                                          \n                                                                                                                                                  \n                                                                                    \n                                                     \n                                                                                                                                                            求職服務中心                                 \n                                                                                                     \n                                                                                                            服務時間\n                                        週一至週五 8:30 ~ 21:00\n                                        週六、日、國定假日  9:00 ~ 17:30                                \n                                                                                                                                                                                                    服務電話\n                                        免費專線  0800 - 09 - 1111                                         \n                                        電話  02 - 8787 - 1111 轉 8                                                     \n                                                                                                                                 \n                                                                                                                                                            下載找工作App                                                      \n                                                                                                                                                                                                                                                               \n                                                                                         \n                                                                     \n                                                                                                                                                                            ‧ 提醒您此信件為1111人力銀行系統自動發送，請勿直接回覆，謝謝。                                 \n                                                                    ‧ 第一流的人才，第一好的工作，通通都在1111人力銀行                                 \n                                                                    意見反應 取消訂閱                                   \n                                                                    全球華人股份有限公司版權所有? 2023．1111 Job Bank All Rights Reserved.                                 \n                                                                                         \n\n有職缺配對\n\n\n        職缺配對         嗨！陳任璿，為您寄送您期待的配對職缺，這些職位符合您履歷的大部分期望條件。趕快點進職缺查看內容，或許您即將找到理想的工作！1111人力銀行是您職場成功的合作夥伴，我們為您提供更多工作機會。祝福您求職成功！     履歷/自訂條件配對職缺    配對條件  餐飲服務人員、餐廚助手、洗碗人員、生鮮處理人員、冷熱飲調製人員       最新符合  3 筆 更多   小提示：適度放寬配對條件，能讓我們推薦更多職缺給您！修改配對條件       餐飲服務人員                                 饞鬥鍋物【南崁店】外場工讀       饞鬥本格鍋物(饞鬥鍋物)   桃園市蘆竹區   時薪 190 以上            1.為顧客帶位或安排座位\n2.將菜單遞交顧客，答覆有關餐飲問題，必要時提供建議\n3.記錄顧客所點菜餚，並通知廚房或內場做餐送餐\n4.上菜並提供有關用餐的服務.......more              準確率回報  應 徵                     【築田便當蘆竹店】外送人員       億展餐飲食品有限公司(築田便當連鎖餐飲店)   桃園市蘆竹區   時薪 200 以上            將餐盒送到客戶手中，並請客戶進行簽收\n自備機車100cc~125cc(提供油資津貼)\n有供餐.......more              準確率回報  應 徵                     『最高時薪265元！』乾杯品牌-台茂外場計時社員 聯合募集 -KLCD4       乾杯股份有限公司   桃園市蘆竹區   時薪 190 ~ 265           205元 (含10元PT津貼為215元)\n視經驗調整起薪，最高可達265元(含10元津貼)\n\n【工作內容】\n外場店員：接待及引導、餐點酒水介紹、協助顧客點餐、桌邊服務及維護環境。\n主管交辦事項等。\n\n【工作需求】\n班別分為早、中、晚班\n9:00~00:00 區間排班；每週排班，可彈性調整(假日可配合排班佳)\n歡迎詢問討論排班時間!\n\n【福利】\n三節獎金、每年健檢健康諮詢、員工餐、不定期部門聚餐等。.......more      幸福企業      知名企業               準確率回報  應 徵                     這些職缺符合您的需求嗎？請告訴我們        \n       其他職缺     桃園台茂-上菜片皮鴨專賣店 領檯人員漢來美食股份有限公司桃園市蘆竹區月薪 32,000 ~ 34,000詳細內容超夯川麻辣鍋/燒肉(蘆竹店)-外場服務人員起薪33000-43500元聖保羅餐廳股份有限公司桃園市蘆竹區月薪 33,000 ~ 43,500詳細內容饞鬥鍋物【南崁店】外場工讀饞鬥本格鍋物桃園市蘆竹區時薪 190 以上 詳細內容饅饅好食 專櫃銷售工讀生(桃園台茂購物中心)Mum,Mum 饅饅好食_好心情國際事業有限公司桃園市蘆竹區時薪 190 ~ 197詳細內容餐廳服務員永漢開發股份有限公司桃園營業所桃園市蘆竹區月薪 28,590 ~ 30,000詳細內容【MAGiC TOUCH点爭鮮】台茂店-正職人員爭鮮股份有限公司桃園市蘆竹區月薪 38,500 ~ 40,500詳細內容【築田便當蘆竹店】餐飲工作人員億展餐飲食品有限公司桃園市蘆竹區月薪 35,000 以上 詳細內容【點水樓】南崁店-洗滌清潔員點水樓餐飲事業股份有限公司桃園市蘆竹區月薪 30,000 ~ 38,000詳細內容『最高時薪265元！』乾杯品牌-台茂外場計時社員 聯合募集 -KLCD4乾杯股份有限公司桃園市蘆竹區時薪 190 ~ 265詳細內容早安美芝城 （蘆竹長春概念店）早餐 門市正職人員早安美芝城桃園莊一概念店_齊樂科技企業社桃園市蘆竹區月薪 36,000 ~ 50,000詳細內容          搜尋更多職缺         \n   職場升級包     ．提升競爭力➤ 學習六大外語，快來領取最高20,000元補助！ →．【郵局招考】招募1620名新血！月薪上勘＄5萬5↗ →．想轉職綠能產業？政府新尖兵計畫助攻→成為ESG人才！ →      \n   進修再出發    ．【SCA CSP 國際證照】成就你的咖啡夢想 →．【烘焙家必修】各式烘焙教學｜證照課 →．【饕客必學本領】系統學習餐廳英文 →．【政府力挺，免費學】3D設計與AI繪圖跨界應用 →              看更多            \n                         求職服務中心       服務時間 週一至週五 8:30 ~ 21:00 週六、日、國定假日  9:00 ~ 17:30        服務電話 免費專線  0800 - 09 - 1111   電話  02 - 8787 - 1111 轉 8               下載找工作App                        ‧ 提醒您此信件為1111人力銀行系統自動發送，請勿直接回覆，謝謝。   ‧ 第一流的人才，第一好的工作，通通都在1111人力銀行   意見反應 取消訂閱    全球華人股份有限公司版權所有? 2023．1111 Job Bank All Rights Reserved.        "
        ],
        [
         "3",
         "2",
         "你的 Apple 開立發票通知 \n \n開立發票通知\n\n\n            APPLE 帳號dana4326172@gmail.com\n                      \n\n付款方\n            遠傳電信 ....5498            ChenDana\n            南平街Taoyuan City, TWN                                                        \n\n\n日期2025年03月15日\n\n\n訂單 IDMSHMBJDYB4\n文件編號215928413023\n\n\n發票期別202503-202504\n發票號碼LD50874043\n\n\n\nApp Store\n\n\n                  LINE\n                        \n50 LINE Coin \n          App 內購買項目        \n我就爛 \n回報問題 \n\n\n\nNT$ 35\n\n\n總計         NT$ 35\n                      \n\n    Apple Distribution International Ltd. 以網路銷售電子勞務予中華民國境內個人買受人，自2019年11月6日起開立雲端發票，為方便你查詢雲端發票及兌領統一發票中獎獎金，請使用「財政部統一發票兌獎 APP」或「財政部電子發票整合服務平台」，將連結雲端發票之載具（即消費者之電子郵件信箱）歸戶至手機條碼，由財政部提供查詢發票、自動對獎及中獎主動通知服務。                  如需取得訂閱與購買項目的輔助說明，請參訪 Apple 支援。\n                          瞭解如何為 iTunes、Apple Books 與 App Store 購買項目管理你的密碼偏好設定。            包含 5% VATApple ID 現已更名為 Apple 帳號。你仍可使用相同的電子郵件地址或電話號碼及密碼登入。  \n\n\n\n\nApple 帳號 • 銷售條款 • 隱私權政策\n\n\n                        Copyright © 2025 Apple Distribution International Ltd.\n保留一切權利\nHollyhill Industrial Estate, Hollyhill, Cork, Ireland. \n\n\n\n開立發票通知\n\n\n              APPLE 帳號dana4326172@gmail.com\n \n\n訂單 IDMSHMBJDYB4 \n\n\n                              文件編號215928413023\n \n\n發票期別202503-202504\n            \n\n發票號碼LD50874043\n            \n\n\n              日期2025年03月15日\n\n\n付款方\n            遠傳電信 ....5498            ChenDana\n            南平街Taoyuan City, TWN                                              \n\n\nApp Store\n\n\n\n                  LINE\n                        \n50 LINE Coin \n          App 內購買項目        \n我就爛 \n回報問題 \n\n\nNT$ 35\n\n\n總計   NT$ 35\n                      \n\n    Apple Distribution International Ltd. 以網路銷售電子勞務予中華民國境內個人買受人，自2019年11月6日起開立雲端發票，為方便你查詢雲端發票及兌領統一發票中獎獎金，請使用「財政部統一發票兌獎 APP」或「財政部電子發票整合服務平台」，將連結雲端發票之載具（即消費者之電子郵件信箱）歸戶至手機條碼，由財政部提供查詢發票、自動對獎及中獎主動通知服務。                  如需取得訂閱與購買項目的輔助說明，請參訪 Apple 支援。\n                          瞭解如何為 iTunes、Apple Books 與 App Store 購買項目管理你的密碼偏好設定。            包含 5% VATApple ID 現已更名為 Apple 帳號。你仍可使用相同的電子郵件地址或電話號碼及密碼登入。  \n\n\nApple 帳號 • 銷售條款 • 隱私權政策\n\n                Copyright © 2025 Apple Distribution International Ltd.保留一切權利\n\n      Hollyhill Industrial Estate, Hollyhill, Cork, Ireland.\n      "
        ],
        [
         "4",
         "5",
         "大谷翔平，準備好續集 The Ohtani Signature Collection\n\nNew Balance\nhttps://link.email.newbalance.com.tw/u/nrd.php?p=C2npfZ9AQq_15974_8935579_1_2&ems_l=15692378&i=1&d=NjczOTEwMjcw%7CQzJucGZaOUFRcQ%3D%3D%7CZjYzMjc1MTNkMGRhYjU0YzE%3D%7CMjAyNTAzMTVfT2h0YW5pX0NvbGxlY3Rpb25fVFc%3D%7C&_esuh=_11_7d3d717c99652ce145c4dc9a761faf57ace21f97d6e626cfa57ef33fc79ad2fb\n\n\n男裝\nhttps://link.email.newbalance.com.tw/u/nrd.php?p=C2npfZ9AQq_15974_8935579_1_4&ems_l=15692378&i=1&d=NjczOTEwMjcy%7CQzJucGZaOUFRcQ%3D%3D%7CZjYzMjc1MTNkMGRhYjU0YzE%3D%7CMjAyNTAzMTVfT2h0YW5pX0NvbGxlY3Rpb25fVFc%3D%7C&_esuh=_11_c7d872decf6f17f59f4361966850dd4e509a6217150c4bdf45d3339fb78ece2e\n\n女裝\nhttps://link.email.newbalance.com.tw/u/nrd.php?p=C2npfZ9AQq_15974_8935579_1_6&ems_l=15692378&i=1&d=NjczOTEwMjc0%7CQzJucGZaOUFRcQ%3D%3D%7CZjYzMjc1MTNkMGRhYjU0YzE%3D%7CMjAyNTAzMTVfT2h0YW5pX0NvbGxlY3Rpb25fVFc%3D%7C&_esuh=_11_cbfcf81b10df235433dcb225c46a712bb4bfc220204dc8e8afa45217a903c5cf\n\n兒童\nhttps://link.email.newbalance.com.tw/u/nrd.php?p=C2npfZ9AQq_15974_8935579_1_8&ems_l=15692378&i=1&d=NjczOTEwMjc2%7CQzJucGZaOUFRcQ%3D%3D%7CZjYzMjc1MTNkMGRhYjU0YzE%3D%7CMjAyNTAzMTVfT2h0YW5pX0NvbGxlY3Rpb25fVFc%3D%7C&_esuh=_11_d335dc64d7ce3b2da9153b9204f10e4b68ec76c00be51ccc3bbed7c8c8601a1f\n\n\nhttps://link.email.newbalance.com.tw/u/nrd.php?p=C2npfZ9AQq_15974_8935579_1_10&ems_l=15692378&i=1&d=NjczOTEwMjc4%7CQzJucGZaOUFRcQ%3D%3D%7CZjYzMjc1MTNkMGRhYjU0YzE%3D%7CMjAyNTAzMTVfT2h0YW5pX0NvbGxlY3Rpb25fVFc%3D%7C&_esuh=_11_825615484abdb8be1d324192d0bcebcfba81356f4fb8f2b1a9f5e0c8ad819153\n\n\n展現大谷翔平在打擊和投球上的雙重才華。\n這個精心設計的系列包括場上風格和場外必需品，\n並配有更新的顏色和風格，以迎接新賽季。\n\n立即選購\nhttps://link.email.newbalance.com.tw/u/nrd.php?p=C2npfZ9AQq_15974_8935579_1_12&ems_l=15692378&i=1&d=NjczOTEwMjgw%7CQzJucGZaOUFRcQ%3D%3D%7CZjYzMjc1MTNkMGRhYjU0YzE%3D%7CMjAyNTAzMTVfT2h0YW5pX0NvbGxlY3Rpb25fVFc%3D%7C&_esuh=_11_b4afeda0e2e930bd74210070dc4662219d3379d75cbe2082115daa997fb3181f\n\n\n立即選購\nhttps://link.email.newbalance.com.tw/u/nrd.php?p=C2npfZ9AQq_15974_8935579_1_14&ems_l=15692378&i=1&d=NjczOTEwMjgy%7CQzJucGZaOUFRcQ%3D%3D%7CZjYzMjc1MTNkMGRhYjU0YzE%3D%7CMjAyNTAzMTVfT2h0YW5pX0NvbGxlY3Rpb25fVFc%3D%7C&_esuh=_11_260f998a2b2d11bced32b802539a5aa41d09d54ba1f2d7c264920eb89ee5a545\n\n\nhttps://link.email.newbalance.com.tw/u/nrd.php?p=C2npfZ9AQq_15974_8935579_1_16&ems_l=15692378&i=1&d=NjczOTEwMjg0%7CQzJucGZaOUFRcQ%3D%3D%7CZjYzMjc1MTNkMGRhYjU0YzE%3D%7CMjAyNTAzMTVfT2h0YW5pX0NvbGxlY3Rpb25fVFc%3D%7C&_esuh=_11_6b6b4ca71eb15d5a48af3ad91e76949b85168992778dbaa82c563918d7c0e33e\n\n\nhttps://link.email.newbalance.com.tw/u/nrd.php?p=C2npfZ9AQq_15974_8935579_1_18&ems_l=15692378&i=1&d=NjczOTEwMjg2%7CQzJucGZaOUFRcQ%3D%3D%7CZjYzMjc1MTNkMGRhYjU0YzE%3D%7CMjAyNTAzMTVfT2h0YW5pX0NvbGxlY3Rpb25fVFc%3D%7C&_esuh=_11_19391e6fec39862587636bff92d09159888658f1a226b4a8046f5c6440041d3f\n\n\nShipping\n\nShipping\n\nhttps://link.email.newbalance.com.tw/u/nrd.php?p=C2npfZ9AQq_15974_8935579_1_20&ems_l=15692378&i=1&d=NjczOTEwMjg4%7CQzJucGZaOUFRcQ%3D%3D%7CZjYzMjc1MTNkMGRhYjU0YzE%3D%7CMjAyNTAzMTVfT2h0YW5pX0NvbGxlY3Rpb25fVFc%3D%7C&_esuh=_11_941d33149cbcc9765b5c350acaf46c3cb7618c8a9561f1988ed827472f52b7bc\n\n\n會員購物滿2,400元可享免運費\n\nhttps://link.email.newbalance.com.tw/u/nrd.php?p=C2npfZ9AQq_15974_8935579_1_30&ems_l=15692378&i=1&d=NjczOTEwMjk4%7CQzJucGZaOUFRcQ%3D%3D%7CZjYzMjc1MTNkMGRhYjU0YzE%3D%7CMjAyNTAzMTVfT2h0YW5pX0NvbGxlY3Rpb25fVFc%3D%7C&_esuh=_11_2d54a341fa5f70420da3daad8ae0f2dde494b6ceb3973987434ea4776dc21bab\n\n\nStore\n\nStore\n\nhttps://link.email.newbalance.com.tw/u/nrd.php?p=C2npfZ9AQq_15974_8935579_1_22&ems_l=15692378&i=1&d=NjczOTEwMjkw%7CQzJucGZaOUFRcQ%3D%3D%7CZjYzMjc1MTNkMGRhYjU0YzE%3D%7CMjAyNTAzMTVfT2h0YW5pX0NvbGxlY3Rpb25fVFc%3D%7C&_esuh=_11_d3875bbe30797cb820e0bd0f092166ebf1210244a360ca7140b13eccb5e603df\n\n\n門市資訊\n\nhttps://link.email.newbalance.com.tw/u/nrd.php?p=C2npfZ9AQq_15974_8935579_1_24&ems_l=15692378&i=1&d=NjczOTEwMjky%7CQzJucGZaOUFRcQ%3D%3D%7CZjYzMjc1MTNkMGRhYjU0YzE%3D%7CMjAyNTAzMTVfT2h0YW5pX0NvbGxlY3Rpb25fVFc%3D%7C&_esuh=_11_e8e38431b3b9877c72055a7eddf257876391e4307c4bfe7a4f492ae1fe59767d\n\n\nShipping\n\nShipping\n\nhttps://link.email.newbalance.com.tw/u/nrd.php?p=C2npfZ9AQq_15974_8935579_1_32&ems_l=15692378&i=1&d=NjczOTEwMzAw%7CQzJucGZaOUFRcQ%3D%3D%7CZjYzMjc1MTNkMGRhYjU0YzE%3D%7CMjAyNTAzMTVfT2h0YW5pX0NvbGxlY3Rpb25fVFc%3D%7C&_esuh=_11_18bcc763aca1849fbf4556b4f4db6a9c6e2c45ec8494e05756da79f99fd721cf\n\n\n會員購物滿2,400元可享免運費\n\nhttps://link.email.newbalance.com.tw/u/nrd.php?p=C2npfZ9AQq_15974_8935579_1_34&ems_l=15692378&i=1&d=NjczOTEwMzAy%7CQzJucGZaOUFRcQ%3D%3D%7CZjYzMjc1MTNkMGRhYjU0YzE%3D%7CMjAyNTAzMTVfT2h0YW5pX0NvbGxlY3Rpb25fVFc%3D%7C&_esuh=_11_efc3f09e9204e2bb63edc59a592c24e443acc7dc50000f806230a3b8f31e736d\n\n\nhttps://link.email.newbalance.com.tw/u/nrd.php?p=C2npfZ9AQq_15974_8935579_1_26&ems_l=15692378&i=1&d=NjczOTEwMjk0%7CQzJucGZaOUFRcQ%3D%3D%7CZjYzMjc1MTNkMGRhYjU0YzE%3D%7CMjAyNTAzMTVfT2h0YW5pX0NvbGxlY3Rpb25fVFc%3D%7C&_esuh=_11_a4a86d82b4ab433de26a7c3d73b2f0f3f116d883f5b267abf8578bb5b01c1635\n\n\n門市資訊\n\nhttps://link.email.newbalance.com.tw/u/nrd.php?p=C2npfZ9AQq_15974_8935579_1_28&ems_l=15692378&i=1&d=NjczOTEwMjk2%7CQzJucGZaOUFRcQ%3D%3D%7CZjYzMjc1MTNkMGRhYjU0YzE%3D%7CMjAyNTAzMTVfT2h0YW5pX0NvbGxlY3Rpb25fVFc%3D%7C&_esuh=_11_da847e5106cfa002d087d380f228d04f66cc7ec489aff71eb90b3290365c8837\n\n\n熱銷商品\nhttps://link.email.newbalance.com.tw/u/nrd.php?p=C2npfZ9AQq_15974_8935579_1_36&ems_l=15692378&i=1&d=NjczOTEwMzA0%7CQzJucGZaOUFRcQ%3D%3D%7CZjYzMjc1MTNkMGRhYjU0YzE%3D%7CMjAyNTAzMTVfT2h0YW5pX0NvbGxlY3Rpb25fVFc%3D%7C&_esuh=_11_bafa4272d9ef6d8f22cb825c7e2797cfbd0169fc23c9368cf7a7ced037e7067b\n\n\nRun Your Way\nhttps://link.email.newbalance.com.tw/u/nrd.php?p=C2npfZ9AQq_15974_8935579_1_38&ems_l=15692378&i=1&d=NjczOTEwMzA2%7CQzJucGZaOUFRcQ%3D%3D%7CZjYzMjc1MTNkMGRhYjU0YzE%3D%7CMjAyNTAzMTVfT2h0YW5pX0NvbGxlY3Rpb25fVFc%3D%7C&_esuh=_11_0b2726648a6ee284b03de0c63ddd3dfde2baad024d99fd2f76fb9d49ce202e60\n\n\n優惠商品\nhttps://link.email.newbalance.com.tw/u/nrd.php?p=C2npfZ9AQq_15974_8935579_1_40&ems_l=15692378&i=1&d=NjczOTEwMzA4%7CQzJucGZaOUFRcQ%3D%3D%7CZjYzMjc1MTNkMGRhYjU0YzE%3D%7CMjAyNTAzMTVfT2h0YW5pX0NvbGxlY3Rpb25fVFc%3D%7C&_esuh=_11_43062215f2abdb3d272ea86ee48b4ac8d878f37254389f5e9b93c790672e26a5\n\n\nInstagram\n\nInstagram\n\nhttps://link.email.newbalance.com.tw/u/nrd.php?p=C2npfZ9AQq_15974_8935579_1_42&ems_l=15692378&i=1&d=NjczOTEwMzEw%7CQzJucGZaOUFRcQ%3D%3D%7CZjYzMjc1MTNkMGRhYjU0YzE%3D%7CMjAyNTAzMTVfT2h0YW5pX0NvbGxlY3Rpb25fVFc%3D%7C&_esuh=_11_d1ac3d49263eca2a3c77c2a4ebc55c664f1466f85cc9f743c0fd7b7e8cfc6a81\n\n\nFacebook\n\nFacebook\n\nhttps://link.email.newbalance.com.tw/u/nrd.php?p=C2npfZ9AQq_15974_8935579_1_44&ems_l=15692378&i=1&d=NjczOTEwMzEy%7CQzJucGZaOUFRcQ%3D%3D%7CZjYzMjc1MTNkMGRhYjU0YzE%3D%7CMjAyNTAzMTVfT2h0YW5pX0NvbGxlY3Rpb25fVFc%3D%7C&_esuh=_11_62190e58cd1591bb6b18cc66a1b7313fa0db00dfda339f2d2fc9f641fbdcd5ef\n\n\nTwitter\n\nTwitter\n\nhttps://link.email.newbalance.com.tw/u/nrd.php?p=C2npfZ9AQq_15974_8935579_1_46&ems_l=15692378&i=1&d=NjczOTEwMzE0%7CQzJucGZaOUFRcQ%3D%3D%7CZjYzMjc1MTNkMGRhYjU0YzE%3D%7CMjAyNTAzMTVfT2h0YW5pX0NvbGxlY3Rpb25fVFc%3D%7C&_esuh=_11_9d22325e4348e12868be14e2ae483746c7dcbfd206f21ab70b92b7acbf17227b\n\n\nTikTok\n\nTikTok\n\nhttps://link.email.newbalance.com.tw/u/nrd.php?p=C2npfZ9AQq_15974_8935579_1_48&ems_l=15692378&i=1&d=NjczOTEwMzE2%7CQzJucGZaOUFRcQ%3D%3D%7CZjYzMjc1MTNkMGRhYjU0YzE%3D%7CMjAyNTAzMTVfT2h0YW5pX0NvbGxlY3Rpb25fVFc%3D%7C&_esuh=_11_2d1c81672ef9d1f3a28cf20c99f1a72545855d8fe267347aadafdddfd47b5dd8\n\n\n在瀏覽器檢閱\nhttps://link.email.newbalance.com.tw/u/gm.php?prm=C2npfZ9AQq_815352253_8935579_15974&_esuh=_11_c3777c60082a461a076c191da3e322c42e9e685d31be61d10bb98c27779e776c\n\n取消訂閱\nhttps://link.email.newbalance.com.tw/u/un.php?par=C2npfZ9AQq_8935579_15974_$sid$&_esuh=_11_9c46ba1cee1b4536f70d04360836c89fe98aa8c55a80d4f734e8040d0389421c\n\n隱私權政策\nhttps://link.email.newbalance.com.tw/u/nrd.php?p=C2npfZ9AQq_15974_8935579_1_50&ems_l=15692378&i=1&d=NjczOTEwMzE4%7CQzJucGZaOUFRcQ%3D%3D%7CZjYzMjc1MTNkMGRhYjU0YzE%3D%7CMjAyNTAzMTVfT2h0YW5pX0NvbGxlY3Rpb25fVFc%3D%7C&_esuh=_11_1bf0a35cc2496a263ef27eeb4534874d60ff0179f4b049d0f92a488d62fbd49d\n\n條款與細則\nhttps://link.email.newbalance.com.tw/u/nrd.php?p=C2npfZ9AQq_15974_8935579_1_52&ems_l=15692378&i=1&d=NjczOTEwMzIw%7CQzJucGZaOUFRcQ%3D%3D%7CZjYzMjc1MTNkMGRhYjU0YzE%3D%7CMjAyNTAzMTVfT2h0YW5pX0NvbGxlY3Rpb25fVFc%3D%7C&_esuh=_11_207745084d08c045b78d111067619ad4f700984d3e89022992540fc659f320e7\n\n尋求協助\nhttps://link.email.newbalance.com.tw/u/nrd.php?p=C2npfZ9AQq_15974_8935579_1_54&ems_l=15692378&i=1&d=NjczOTEwMzIy%7CQzJucGZaOUFRcQ%3D%3D%7CZjYzMjc1MTNkMGRhYjU0YzE%3D%7CMjAyNTAzMTVfT2h0YW5pX0NvbGxlY3Rpb25fVFc%3D%7C&_esuh=_11_25b7d1d0dd79fb3c956837de93cbf2404db577d62493cb767b820663e78c95de\n\n\n 2025, New Balance\n\n確保不錯過任何特別優惠，請在您的電子信箱上新增聯絡人\nnewbalance@email.newbalance.com.tw\n\n如果您不願意再收到我們的電子郵件通知，請到訪我們的取消訂閱頁面\nhttps://link.email.newbalance.com.tw/u/un.php?par=C2npfZ9AQq_8935579_15974_$sid$&_esuh=_11_9c46ba1cee1b4536f70d04360836c89fe98aa8c55a80d4f734e8040d0389421c\n。\n\n   \n 在瀏覽器檢閱      取消訂閱      隱私權政策       \n 條款與細則       尋求協助 \n\n\n© 2025, New Balance\n確保不錯過任何特別優惠，請在您的電子信箱上新增聯絡人 newbalance@email.newbalance.com.tw\n如果您不願意再收到我們的電子郵件通知，請到訪我們的取消訂閱頁面。"
        ]
       ],
       "shape": {
        "columns": 2,
        "rows": 5
       }
      },
      "text/html": [
       "<div>\n",
       "<style scoped>\n",
       "    .dataframe tbody tr th:only-of-type {\n",
       "        vertical-align: middle;\n",
       "    }\n",
       "\n",
       "    .dataframe tbody tr th {\n",
       "        vertical-align: top;\n",
       "    }\n",
       "\n",
       "    .dataframe thead th {\n",
       "        text-align: right;\n",
       "    }\n",
       "</style>\n",
       "<table border=\"1\" class=\"dataframe\">\n",
       "  <thead>\n",
       "    <tr style=\"text-align: right;\">\n",
       "      <th></th>\n",
       "      <th>label</th>\n",
       "      <th>sub_mssg</th>\n",
       "    </tr>\n",
       "  </thead>\n",
       "  <tbody>\n",
       "    <tr>\n",
       "      <th>0</th>\n",
       "      <td>5</td>\n",
       "      <td>The FuelCell Rebel 全新顏色\\n\\nNew Balance\\nhttps:...</td>\n",
       "    </tr>\n",
       "    <tr>\n",
       "      <th>1</th>\n",
       "      <td>3</td>\n",
       "      <td>1111人力銀行推薦 -【桃園台茂店【涮乃葉】兼職人員及大專院校實習】 \\n    \\n  ...</td>\n",
       "    </tr>\n",
       "    <tr>\n",
       "      <th>2</th>\n",
       "      <td>3</td>\n",
       "      <td>陳任璿-2025/03/16 履歷職缺配對通知 \\n  職缺配對              ...</td>\n",
       "    </tr>\n",
       "    <tr>\n",
       "      <th>3</th>\n",
       "      <td>2</td>\n",
       "      <td>你的 Apple 開立發票通知 \\n \\n開立發票通知\\n\\n\\n            A...</td>\n",
       "    </tr>\n",
       "    <tr>\n",
       "      <th>4</th>\n",
       "      <td>5</td>\n",
       "      <td>大谷翔平，準備好續集 The Ohtani Signature Collection\\n\\n...</td>\n",
       "    </tr>\n",
       "  </tbody>\n",
       "</table>\n",
       "</div>"
      ],
      "text/plain": [
       "   label                                           sub_mssg\n",
       "0      5  The FuelCell Rebel 全新顏色\\n\\nNew Balance\\nhttps:...\n",
       "1      3  1111人力銀行推薦 -【桃園台茂店【涮乃葉】兼職人員及大專院校實習】 \\n    \\n  ...\n",
       "2      3  陳任璿-2025/03/16 履歷職缺配對通知 \\n  職缺配對              ...\n",
       "3      2  你的 Apple 開立發票通知 \\n \\n開立發票通知\\n\\n\\n            A...\n",
       "4      5  大谷翔平，準備好續集 The Ohtani Signature Collection\\n\\n..."
      ]
     },
     "execution_count": 5,
     "metadata": {},
     "output_type": "execute_result"
    }
   ],
   "source": [
    "df.head(5)"
   ]
  },
  {
   "cell_type": "code",
   "execution_count": 6,
   "id": "c443c06f",
   "metadata": {},
   "outputs": [],
   "source": [
    "import re"
   ]
  },
  {
   "cell_type": "code",
   "execution_count": 7,
   "id": "f2472ec5",
   "metadata": {},
   "outputs": [],
   "source": [
    "import re\n",
    "\n",
    "# 去除網址\n",
    "df['sub_mssg'] = df['sub_mssg'].apply(lambda x: re.sub(r'http\\S+', '', x))\n"
   ]
  },
  {
   "cell_type": "code",
   "execution_count": 8,
   "id": "e566c797",
   "metadata": {},
   "outputs": [],
   "source": [
    "#移除非中文、英文、数字的字符\n",
    "# 以及多余的空格\n",
    "def clean_text(text):\n",
    "    if not isinstance(text, str):\n",
    "        text = str(text)\n",
    "    text = re.sub('[^\\u4e00-\\u9fa5a-zA-Z0-9]', ' ', text)\n",
    "    text = re.sub('\\s+', ' ', text).strip()\n",
    "    return text"
   ]
  },
  {
   "cell_type": "code",
   "execution_count": 9,
   "id": "d7367e1f",
   "metadata": {},
   "outputs": [
    {
     "name": "stdout",
     "output_type": "stream",
     "text": [
      "清理前： 1111人力銀行推薦 -【桃園台茂店【涮乃葉】兼職人員及大專院校實習】 \n",
      "    \n",
      "    轉寄履歷-簡式版\n",
      "\n",
      "    \n",
      "        \n",
      "            本信無任何惡意連結或程式，您可放心開啟，請務必顯示圖片，以檢視完整信件\n",
      "         \n",
      "                    \n",
      "                         \n",
      "                        1111人力銀行 推薦您  推薦職缺 \n",
      "                         \n",
      "\n",
      "                         \n",
      "                        雲雀國際股份有限公司徵才中，若有興趣，請點擊「我要應徵」，或點此連結看更多職缺。 \n",
      "                         \n",
      "                    \n",
      "      \n",
      "                        職務簡介 \n",
      "                        公司名稱 \n",
      "                        雲雀國際股份有限公司 \n",
      "                        我要應徵 \n",
      "                         \n",
      "  \n",
      "                         \n",
      "                        職缺名稱 \n",
      "                        桃園台茂店【涮乃葉】兼職人員及大專院校實習 \n",
      "                         \n",
      "\n",
      "                         \n",
      "                        工作內容 \n",
      "                        誠徵兼職人員及大專院校實習生\n",
      "歡迎對外場服務或內場廚務調理有興趣者加入我們的行列\n",
      "依需求彈性排班4～7小時\n",
      "早班、中班、晚班、全日班、假日班皆有缺額\n",
      "日夜間部學生工讀、二度就業、上班族兼差皆可\n",
      "福利相關:\n",
      "1.職代敬業津貼。\n",
      "2.區域津貼。\n",
      "3.早、晚班津貼。\n",
      "4.月/季/年度 優秀社員獎勵制度。\n",
      "5.業績/年中/年終獎金制度 (須經評價並通過考核)。\n",
      "6.國定假日雙倍薪。\n",
      "7.介紹獎金、留任獎金。\n",
      "8.勞保、健保、勞工退休金提撥、員工團體保險。\n",
      "享有多重獎勵，努力看的見 !!! \n",
      "                         \n",
      "\n",
      "                    \n",
      "                         \n",
      "                        求才條件 \n",
      "                        工作地點 \n",
      "                        桃園市蘆竹區 \n",
      "                         \n",
      "  \n",
      "                         \n",
      "                        工作待遇 \n",
      "                        時薪 207 元  ~ 281 元  \n",
      "                         \n",
      "\n",
      "                         \n",
      "                        工作時間 \n",
      "                        日班 , 中班 , 晚班 , 假日班 , 輪班 說明：AM 9:00~PM 23:00 依需求彈性排班4~7小時 \n",
      "                         \n",
      "\n",
      "                         \n",
      "                        身份類別 \n",
      "                        原住民 \n",
      "                         \n",
      "       \n",
      "                        學歷限制 \n",
      "                        高中職,專科,大學 \n",
      "                         \n",
      "\n",
      "                         \n",
      "                        科系限制 \n",
      "                        不拘 \n",
      "                         \n",
      "                                             \n",
      "                        工作經驗 \n",
      "                        不拘 \n",
      "                         \n",
      "   \n",
      "                          \n",
      "                        我要應徵 \n",
      "                          \n",
      "  \n",
      "                            ●定期更新履歷，讓您求職大加分：立即更新履歷。\n",
      "                            ●想收到更精準的職缺配對：調整配對條件。\n",
      "                            ●已無求職需求，建議您：關閉所有履歷。\n",
      "                            ●不需此職務推薦信，您可以：取消收取推薦信。\n",
      "                            ●此信件為 1111人力銀行系統發送，請勿直接回覆。\n",
      "                         \n",
      "\n",
      "                        \n",
      "                            企業徵才服務\n",
      "                            週一 ~ 週五8:30 ~ 21:00，週六、週日、國定假日 9:00 ~ 21:00\n",
      "                            苗栗以北：(02) 8787-1111　中部地區：(04) 2203-1111　南部地區：(07) 958-1111\n",
      "                            © 2017 1111 Job Bank All Rights Reserved.\n",
      "                         \n",
      "\n",
      "\n",
      "\n",
      "轉寄履歷-簡式版\n",
      "\n",
      "\n",
      "\n",
      "本信無任何惡意連結或程式，您可放心開啟，請務必顯示圖片，以檢視完整信件\n",
      "\n",
      "\n",
      "\n",
      "1111人力銀行 推薦您  推薦職缺\n",
      "\n",
      "\n",
      "\n",
      "雲雀國際股份有限公司徵才中，若有興趣，請點擊「我要應徵」，或點此連結看更多職缺。\n",
      "\n",
      "\n",
      "\n",
      "職務簡介\n",
      "公司名稱\n",
      "雲雀國際股份有限公司\n",
      "我要應徵\n",
      "\n",
      "\n",
      "職缺名稱\n",
      "桃園台茂店【涮乃葉】兼職人員及大專院校實習\n",
      "\n",
      "\n",
      "工作內容\n",
      "誠徵兼職人員及大專院校實習生\n",
      "歡迎對外場服務或內場廚務調理有興趣者加入我們的行列\n",
      "依需求彈性排班4～7小時\n",
      "早班、中班、晚班、全日班、假日班皆有缺額\n",
      "日夜間部學生工讀、二度就業、上班族兼差皆可\n",
      "福利相關:\n",
      "1.職代敬業津貼。\n",
      "2.區域津貼。\n",
      "3.早、晚班津貼。\n",
      "4.月/季/年度 優秀社員獎勵制度。\n",
      "5.業績/年中/年終獎金制度 (須經評價並通過考核)。\n",
      "6.國定假日雙倍薪。\n",
      "7.介紹獎金、留任獎金。\n",
      "8.勞保、健保、勞工退休金提撥、員工團體保險。\n",
      "享有多重獎勵，努力看的見 !!!\n",
      "\n",
      "\n",
      "\n",
      "求才條件\n",
      "工作地點\n",
      "桃園市蘆竹區\n",
      "\n",
      "\n",
      "工作待遇\n",
      "時薪 207 元  ~ 281 元 \n",
      "\n",
      "\n",
      "工作時間\n",
      "日班 , 中班 , 晚班 , 假日班 , 輪班 說明：AM 9:00~PM 23:00 依需求彈性排班4~7小時\n",
      "\n",
      "\n",
      "身份類別\n",
      "原住民\n",
      "\n",
      "\n",
      "學歷限制\n",
      "高中職,專科,大學\n",
      "\n",
      "\n",
      "科系限制\n",
      "不拘\n",
      "\n",
      "\n",
      "工作經驗\n",
      "不拘\n",
      "\n",
      "\n",
      " \n",
      "我要應徵\n",
      " \n",
      "\n",
      "\n",
      "●定期更新履歷，讓您求職大加分：立即更新履歷。\n",
      "●想收到更精準的職缺配對：調整配對條件。\n",
      "●已無求職需求，建議您：關閉所有履歷。\n",
      "●不需此職務推薦信，您可以：取消收取推薦信。\n",
      "●此信件為 1111人力銀行系統發送，請勿直接回覆。\n",
      "\n",
      "\n",
      "\n",
      "                            企業徵才服務\n",
      "                            週一 ~ 週五8:30 ~ 21:00，週六、週日、國定假日 9:00 ~ 21:00\n",
      "                            苗栗以北：(02) 8787-1111　中部地區：(04) 2203-1111　南部地區：(07) 958-1111\n",
      "                            © 2017 1111 Job Bank All Rights Reserved.\n",
      "\n",
      "清理後： 1111人力銀行推薦 桃園台茂店 涮乃葉 兼職人員及大專院校實習 轉寄履歷 簡式版 本信無任何惡意連結或程式 您可放心開啟 請務必顯示圖片 以檢視完整信件 1111人力銀行 推薦您 推薦職缺 雲雀國際股份有限公司徵才中 若有興趣 請點擊 我要應徵 或點此連結看更多職缺 職務簡介 公司名稱 雲雀國際股份有限公司 我要應徵 職缺名稱 桃園台茂店 涮乃葉 兼職人員及大專院校實習 工作內容 誠徵兼職人員及大專院校實習生 歡迎對外場服務或內場廚務調理有興趣者加入我們的行列 依需求彈性排班4 7小時 早班 中班 晚班 全日班 假日班皆有缺額 日夜間部學生工讀 二度就業 上班族兼差皆可 福利相關 1 職代敬業津貼 2 區域津貼 3 早 晚班津貼 4 月 季 年度 優秀社員獎勵制度 5 業績 年中 年終獎金制度 須經評價並通過考核 6 國定假日雙倍薪 7 介紹獎金 留任獎金 8 勞保 健保 勞工退休金提撥 員工團體保險 享有多重獎勵 努力看的見 求才條件 工作地點 桃園市蘆竹區 工作待遇 時薪 207 元 281 元 工作時間 日班 中班 晚班 假日班 輪班 說明 AM 9 00 PM 23 00 依需求彈性排班4 7小時 身份類別 原住民 學歷限制 高中職 專科 大學 科系限制 不拘 工作經驗 不拘 我要應徵 定期更新履歷 讓您求職大加分 立即更新履歷 想收到更精準的職缺配對 調整配對條件 已無求職需求 建議您 關閉所有履歷 不需此職務推薦信 您可以 取消收取推薦信 此信件為 1111人力銀行系統發送 請勿直接回覆 企業徵才服務 週一 週五8 30 21 00 週六 週日 國定假日 9 00 21 00 苗栗以北 02 8787 1111 中部地區 04 2203 1111 南部地區 07 958 1111 2017 1111 Job Bank All Rights Reserved 轉寄履歷 簡式版 本信無任何惡意連結或程式 您可放心開啟 請務必顯示圖片 以檢視完整信件 1111人力銀行 推薦您 推薦職缺 雲雀國際股份有限公司徵才中 若有興趣 請點擊 我要應徵 或點此連結看更多職缺 職務簡介 公司名稱 雲雀國際股份有限公司 我要應徵 職缺名稱 桃園台茂店 涮乃葉 兼職人員及大專院校實習 工作內容 誠徵兼職人員及大專院校實習生 歡迎對外場服務或內場廚務調理有興趣者加入我們的行列 依需求彈性排班4 7小時 早班 中班 晚班 全日班 假日班皆有缺額 日夜間部學生工讀 二度就業 上班族兼差皆可 福利相關 1 職代敬業津貼 2 區域津貼 3 早 晚班津貼 4 月 季 年度 優秀社員獎勵制度 5 業績 年中 年終獎金制度 須經評價並通過考核 6 國定假日雙倍薪 7 介紹獎金 留任獎金 8 勞保 健保 勞工退休金提撥 員工團體保險 享有多重獎勵 努力看的見 求才條件 工作地點 桃園市蘆竹區 工作待遇 時薪 207 元 281 元 工作時間 日班 中班 晚班 假日班 輪班 說明 AM 9 00 PM 23 00 依需求彈性排班4 7小時 身份類別 原住民 學歷限制 高中職 專科 大學 科系限制 不拘 工作經驗 不拘 我要應徵 定期更新履歷 讓您求職大加分 立即更新履歷 想收到更精準的職缺配對 調整配對條件 已無求職需求 建議您 關閉所有履歷 不需此職務推薦信 您可以 取消收取推薦信 此信件為 1111人力銀行系統發送 請勿直接回覆 企業徵才服務 週一 週五8 30 21 00 週六 週日 國定假日 9 00 21 00 苗栗以北 02 8787 1111 中部地區 04 2203 1111 南部地區 07 958 1111 2017 1111 Job Bank All Rights Reserved\n"
     ]
    }
   ],
   "source": [
    "cleaned = clean_text(df['sub_mssg'][1])\n",
    "\n",
    "# 輸出結果\n",
    "print(\"清理前：\", df['sub_mssg'][1])\n",
    "print(\"清理後：\", cleaned)"
   ]
  },
  {
   "cell_type": "code",
   "execution_count": 10,
   "id": "67d3e981",
   "metadata": {},
   "outputs": [
    {
     "name": "stdout",
     "output_type": "stream",
     "text": [
      "1111人力銀行推薦 -【桃園台茂店【涮乃葉】兼職人員及大專院校實習】 \n",
      "    \n",
      "    轉寄履歷-簡式版\n",
      "\n",
      "    \n",
      "        \n",
      "            本信無任何惡意連結或程式，您可放心開啟，請務必顯示圖片，以檢視完整信件\n",
      "         \n",
      "                    \n",
      "                         \n",
      "                        1111人力銀行 推薦您  推薦職缺 \n",
      "                         \n",
      "\n",
      "                         \n",
      "                        雲雀國際股份有限公司徵才中，若有興趣，請點擊「我要應徵」，或點此連結看更多職缺。 \n",
      "                         \n",
      "                    \n",
      "      \n",
      "                        職務簡介 \n",
      "                        公司名稱 \n",
      "                        雲雀國際股份有限公司 \n",
      "                        我要應徵 \n",
      "                         \n",
      "  \n",
      "                         \n",
      "                        職缺名稱 \n",
      "                        桃園台茂店【涮乃葉】兼職人員及大專院校實習 \n",
      "                         \n",
      "\n",
      "                         \n",
      "                        工作內容 \n",
      "                        誠徵兼職人員及大專院校實習生\n",
      "歡迎對外場服務或內場廚務調理有興趣者加入我們的行列\n",
      "依需求彈性排班4～7小時\n",
      "早班、中班、晚班、全日班、假日班皆有缺額\n",
      "日夜間部學生工讀、二度就業、上班族兼差皆可\n",
      "福利相關:\n",
      "1.職代敬業津貼。\n",
      "2.區域津貼。\n",
      "3.早、晚班津貼。\n",
      "4.月/季/年度 優秀社員獎勵制度。\n",
      "5.業績/年中/年終獎金制度 (須經評價並通過考核)。\n",
      "6.國定假日雙倍薪。\n",
      "7.介紹獎金、留任獎金。\n",
      "8.勞保、健保、勞工退休金提撥、員工團體保險。\n",
      "享有多重獎勵，努力看的見 !!! \n",
      "                         \n",
      "\n",
      "                    \n",
      "                         \n",
      "                        求才條件 \n",
      "                        工作地點 \n",
      "                        桃園市蘆竹區 \n",
      "                         \n",
      "  \n",
      "                         \n",
      "                        工作待遇 \n",
      "                        時薪 207 元  ~ 281 元  \n",
      "                         \n",
      "\n",
      "                         \n",
      "                        工作時間 \n",
      "                        日班 , 中班 , 晚班 , 假日班 , 輪班 說明：AM 9:00~PM 23:00 依需求彈性排班4~7小時 \n",
      "                         \n",
      "\n",
      "                         \n",
      "                        身份類別 \n",
      "                        原住民 \n",
      "                         \n",
      "       \n",
      "                        學歷限制 \n",
      "                        高中職,專科,大學 \n",
      "                         \n",
      "\n",
      "                         \n",
      "                        科系限制 \n",
      "                        不拘 \n",
      "                         \n",
      "                                             \n",
      "                        工作經驗 \n",
      "                        不拘 \n",
      "                         \n",
      "   \n",
      "                          \n",
      "                        我要應徵 \n",
      "                          \n",
      "  \n",
      "                            ●定期更新履歷，讓您求職大加分：立即更新履歷。\n",
      "                            ●想收到更精準的職缺配對：調整配對條件。\n",
      "                            ●已無求職需求，建議您：關閉所有履歷。\n",
      "                            ●不需此職務推薦信，您可以：取消收取推薦信。\n",
      "                            ●此信件為 1111人力銀行系統發送，請勿直接回覆。\n",
      "                         \n",
      "\n",
      "                        \n",
      "                            企業徵才服務\n",
      "                            週一 ~ 週五8:30 ~ 21:00，週六、週日、國定假日 9:00 ~ 21:00\n",
      "                            苗栗以北：(02) 8787-1111　中部地區：(04) 2203-1111　南部地區：(07) 958-1111\n",
      "                            © 2017 1111 Job Bank All Rights Reserved.\n",
      "                         \n",
      "\n",
      "\n",
      "\n",
      "轉寄履歷-簡式版\n",
      "\n",
      "\n",
      "\n",
      "本信無任何惡意連結或程式，您可放心開啟，請務必顯示圖片，以檢視完整信件\n",
      "\n",
      "\n",
      "\n",
      "1111人力銀行 推薦您  推薦職缺\n",
      "\n",
      "\n",
      "\n",
      "雲雀國際股份有限公司徵才中，若有興趣，請點擊「我要應徵」，或點此連結看更多職缺。\n",
      "\n",
      "\n",
      "\n",
      "職務簡介\n",
      "公司名稱\n",
      "雲雀國際股份有限公司\n",
      "我要應徵\n",
      "\n",
      "\n",
      "職缺名稱\n",
      "桃園台茂店【涮乃葉】兼職人員及大專院校實習\n",
      "\n",
      "\n",
      "工作內容\n",
      "誠徵兼職人員及大專院校實習生\n",
      "歡迎對外場服務或內場廚務調理有興趣者加入我們的行列\n",
      "依需求彈性排班4～7小時\n",
      "早班、中班、晚班、全日班、假日班皆有缺額\n",
      "日夜間部學生工讀、二度就業、上班族兼差皆可\n",
      "福利相關:\n",
      "1.職代敬業津貼。\n",
      "2.區域津貼。\n",
      "3.早、晚班津貼。\n",
      "4.月/季/年度 優秀社員獎勵制度。\n",
      "5.業績/年中/年終獎金制度 (須經評價並通過考核)。\n",
      "6.國定假日雙倍薪。\n",
      "7.介紹獎金、留任獎金。\n",
      "8.勞保、健保、勞工退休金提撥、員工團體保險。\n",
      "享有多重獎勵，努力看的見 !!!\n",
      "\n",
      "\n",
      "\n",
      "求才條件\n",
      "工作地點\n",
      "桃園市蘆竹區\n",
      "\n",
      "\n",
      "工作待遇\n",
      "時薪 207 元  ~ 281 元 \n",
      "\n",
      "\n",
      "工作時間\n",
      "日班 , 中班 , 晚班 , 假日班 , 輪班 說明：AM 9:00~PM 23:00 依需求彈性排班4~7小時\n",
      "\n",
      "\n",
      "身份類別\n",
      "原住民\n",
      "\n",
      "\n",
      "學歷限制\n",
      "高中職,專科,大學\n",
      "\n",
      "\n",
      "科系限制\n",
      "不拘\n",
      "\n",
      "\n",
      "工作經驗\n",
      "不拘\n",
      "\n",
      "\n",
      " \n",
      "我要應徵\n",
      " \n",
      "\n",
      "\n",
      "●定期更新履歷，讓您求職大加分：立即更新履歷。\n",
      "●想收到更精準的職缺配對：調整配對條件。\n",
      "●已無求職需求，建議您：關閉所有履歷。\n",
      "●不需此職務推薦信，您可以：取消收取推薦信。\n",
      "●此信件為 1111人力銀行系統發送，請勿直接回覆。\n",
      "\n",
      "\n",
      "\n",
      "                            企業徵才服務\n",
      "                            週一 ~ 週五8:30 ~ 21:00，週六、週日、國定假日 9:00 ~ 21:00\n",
      "                            苗栗以北：(02) 8787-1111　中部地區：(04) 2203-1111　南部地區：(07) 958-1111\n",
      "                            © 2017 1111 Job Bank All Rights Reserved.\n",
      "\n"
     ]
    }
   ],
   "source": [
    "print(df['sub_mssg'][1])"
   ]
  },
  {
   "cell_type": "code",
   "execution_count": 11,
   "id": "ff829093",
   "metadata": {},
   "outputs": [],
   "source": [
    "df['sub_mssg'] = df['sub_mssg'].apply(clean_text)"
   ]
  },
  {
   "cell_type": "code",
   "execution_count": 12,
   "id": "355d7319",
   "metadata": {},
   "outputs": [
    {
     "name": "stdout",
     "output_type": "stream",
     "text": [
      "1111人力銀行推薦 桃園台茂店 涮乃葉 兼職人員及大專院校實習 轉寄履歷 簡式版 本信無任何惡意連結或程式 您可放心開啟 請務必顯示圖片 以檢視完整信件 1111人力銀行 推薦您 推薦職缺 雲雀國際股份有限公司徵才中 若有興趣 請點擊 我要應徵 或點此連結看更多職缺 職務簡介 公司名稱 雲雀國際股份有限公司 我要應徵 職缺名稱 桃園台茂店 涮乃葉 兼職人員及大專院校實習 工作內容 誠徵兼職人員及大專院校實習生 歡迎對外場服務或內場廚務調理有興趣者加入我們的行列 依需求彈性排班4 7小時 早班 中班 晚班 全日班 假日班皆有缺額 日夜間部學生工讀 二度就業 上班族兼差皆可 福利相關 1 職代敬業津貼 2 區域津貼 3 早 晚班津貼 4 月 季 年度 優秀社員獎勵制度 5 業績 年中 年終獎金制度 須經評價並通過考核 6 國定假日雙倍薪 7 介紹獎金 留任獎金 8 勞保 健保 勞工退休金提撥 員工團體保險 享有多重獎勵 努力看的見 求才條件 工作地點 桃園市蘆竹區 工作待遇 時薪 207 元 281 元 工作時間 日班 中班 晚班 假日班 輪班 說明 AM 9 00 PM 23 00 依需求彈性排班4 7小時 身份類別 原住民 學歷限制 高中職 專科 大學 科系限制 不拘 工作經驗 不拘 我要應徵 定期更新履歷 讓您求職大加分 立即更新履歷 想收到更精準的職缺配對 調整配對條件 已無求職需求 建議您 關閉所有履歷 不需此職務推薦信 您可以 取消收取推薦信 此信件為 1111人力銀行系統發送 請勿直接回覆 企業徵才服務 週一 週五8 30 21 00 週六 週日 國定假日 9 00 21 00 苗栗以北 02 8787 1111 中部地區 04 2203 1111 南部地區 07 958 1111 2017 1111 Job Bank All Rights Reserved 轉寄履歷 簡式版 本信無任何惡意連結或程式 您可放心開啟 請務必顯示圖片 以檢視完整信件 1111人力銀行 推薦您 推薦職缺 雲雀國際股份有限公司徵才中 若有興趣 請點擊 我要應徵 或點此連結看更多職缺 職務簡介 公司名稱 雲雀國際股份有限公司 我要應徵 職缺名稱 桃園台茂店 涮乃葉 兼職人員及大專院校實習 工作內容 誠徵兼職人員及大專院校實習生 歡迎對外場服務或內場廚務調理有興趣者加入我們的行列 依需求彈性排班4 7小時 早班 中班 晚班 全日班 假日班皆有缺額 日夜間部學生工讀 二度就業 上班族兼差皆可 福利相關 1 職代敬業津貼 2 區域津貼 3 早 晚班津貼 4 月 季 年度 優秀社員獎勵制度 5 業績 年中 年終獎金制度 須經評價並通過考核 6 國定假日雙倍薪 7 介紹獎金 留任獎金 8 勞保 健保 勞工退休金提撥 員工團體保險 享有多重獎勵 努力看的見 求才條件 工作地點 桃園市蘆竹區 工作待遇 時薪 207 元 281 元 工作時間 日班 中班 晚班 假日班 輪班 說明 AM 9 00 PM 23 00 依需求彈性排班4 7小時 身份類別 原住民 學歷限制 高中職 專科 大學 科系限制 不拘 工作經驗 不拘 我要應徵 定期更新履歷 讓您求職大加分 立即更新履歷 想收到更精準的職缺配對 調整配對條件 已無求職需求 建議您 關閉所有履歷 不需此職務推薦信 您可以 取消收取推薦信 此信件為 1111人力銀行系統發送 請勿直接回覆 企業徵才服務 週一 週五8 30 21 00 週六 週日 國定假日 9 00 21 00 苗栗以北 02 8787 1111 中部地區 04 2203 1111 南部地區 07 958 1111 2017 1111 Job Bank All Rights Reserved\n"
     ]
    }
   ],
   "source": [
    "print(df['sub_mssg'][1])"
   ]
  },
  {
   "cell_type": "code",
   "execution_count": 13,
   "id": "147ad278",
   "metadata": {},
   "outputs": [],
   "source": [
    "import jieba"
   ]
  },
  {
   "cell_type": "code",
   "execution_count": 14,
   "id": "1f711721",
   "metadata": {},
   "outputs": [],
   "source": [
    "#分詞化\n",
    "def textParse(text):\n",
    "    listOfTokens=jieba.lcut(text)\n",
    "    return listOfTokens"
   ]
  },
  {
   "cell_type": "code",
   "execution_count": 15,
   "id": "6d661749",
   "metadata": {},
   "outputs": [
    {
     "name": "stderr",
     "output_type": "stream",
     "text": [
      "Building prefix dict from the default dictionary ...\n",
      "Loading model from cache C:\\Users\\Lin\\AppData\\Local\\Temp\\jieba.cache\n",
      "Loading model cost 0.686 seconds.\n",
      "Prefix dict has been built successfully.\n"
     ]
    },
    {
     "name": "stdout",
     "output_type": "stream",
     "text": [
      "分詞前： 1111人力銀行推薦 桃園台茂店 涮乃葉 兼職人員及大專院校實習 轉寄履歷 簡式版 本信無任何惡意連結或程式 您可放心開啟 請務必顯示圖片 以檢視完整信件 1111人力銀行 推薦您 推薦職缺 雲雀國際股份有限公司徵才中 若有興趣 請點擊 我要應徵 或點此連結看更多職缺 職務簡介 公司名稱 雲雀國際股份有限公司 我要應徵 職缺名稱 桃園台茂店 涮乃葉 兼職人員及大專院校實習 工作內容 誠徵兼職人員及大專院校實習生 歡迎對外場服務或內場廚務調理有興趣者加入我們的行列 依需求彈性排班4 7小時 早班 中班 晚班 全日班 假日班皆有缺額 日夜間部學生工讀 二度就業 上班族兼差皆可 福利相關 1 職代敬業津貼 2 區域津貼 3 早 晚班津貼 4 月 季 年度 優秀社員獎勵制度 5 業績 年中 年終獎金制度 須經評價並通過考核 6 國定假日雙倍薪 7 介紹獎金 留任獎金 8 勞保 健保 勞工退休金提撥 員工團體保險 享有多重獎勵 努力看的見 求才條件 工作地點 桃園市蘆竹區 工作待遇 時薪 207 元 281 元 工作時間 日班 中班 晚班 假日班 輪班 說明 AM 9 00 PM 23 00 依需求彈性排班4 7小時 身份類別 原住民 學歷限制 高中職 專科 大學 科系限制 不拘 工作經驗 不拘 我要應徵 定期更新履歷 讓您求職大加分 立即更新履歷 想收到更精準的職缺配對 調整配對條件 已無求職需求 建議您 關閉所有履歷 不需此職務推薦信 您可以 取消收取推薦信 此信件為 1111人力銀行系統發送 請勿直接回覆 企業徵才服務 週一 週五8 30 21 00 週六 週日 國定假日 9 00 21 00 苗栗以北 02 8787 1111 中部地區 04 2203 1111 南部地區 07 958 1111 2017 1111 Job Bank All Rights Reserved 轉寄履歷 簡式版 本信無任何惡意連結或程式 您可放心開啟 請務必顯示圖片 以檢視完整信件 1111人力銀行 推薦您 推薦職缺 雲雀國際股份有限公司徵才中 若有興趣 請點擊 我要應徵 或點此連結看更多職缺 職務簡介 公司名稱 雲雀國際股份有限公司 我要應徵 職缺名稱 桃園台茂店 涮乃葉 兼職人員及大專院校實習 工作內容 誠徵兼職人員及大專院校實習生 歡迎對外場服務或內場廚務調理有興趣者加入我們的行列 依需求彈性排班4 7小時 早班 中班 晚班 全日班 假日班皆有缺額 日夜間部學生工讀 二度就業 上班族兼差皆可 福利相關 1 職代敬業津貼 2 區域津貼 3 早 晚班津貼 4 月 季 年度 優秀社員獎勵制度 5 業績 年中 年終獎金制度 須經評價並通過考核 6 國定假日雙倍薪 7 介紹獎金 留任獎金 8 勞保 健保 勞工退休金提撥 員工團體保險 享有多重獎勵 努力看的見 求才條件 工作地點 桃園市蘆竹區 工作待遇 時薪 207 元 281 元 工作時間 日班 中班 晚班 假日班 輪班 說明 AM 9 00 PM 23 00 依需求彈性排班4 7小時 身份類別 原住民 學歷限制 高中職 專科 大學 科系限制 不拘 工作經驗 不拘 我要應徵 定期更新履歷 讓您求職大加分 立即更新履歷 想收到更精準的職缺配對 調整配對條件 已無求職需求 建議您 關閉所有履歷 不需此職務推薦信 您可以 取消收取推薦信 此信件為 1111人力銀行系統發送 請勿直接回覆 企業徵才服務 週一 週五8 30 21 00 週六 週日 國定假日 9 00 21 00 苗栗以北 02 8787 1111 中部地區 04 2203 1111 南部地區 07 958 1111 2017 1111 Job Bank All Rights Reserved\n",
      "分詞後： ['1111', '人力', '銀行', '推薦', ' ', '桃園', '台茂店', ' ', '涮', '乃葉', ' ', '兼職', '人員及', '大專', '院校', '實習', ' ', '轉寄履歷', ' ', '簡式', '版', ' ', '本信', '無', '任何', '惡意', '連結', '或', '程式', ' ', '您', '可', '放心', '開啟', ' ', '請務必', '顯示', '圖片', ' ', '以檢視', '完整', '信件', ' ', '1111', '人力', '銀行', ' ', '推薦', '您', ' ', '推薦', '職缺', ' ', '雲雀國際', '股份', '有限公司', '徵才', '中', ' ', '若有', '興趣', ' ', '請點擊', ' ', '我要', '應徵', ' ', '或點', '此連結', '看', '更', '多', '職缺', ' ', '職務', '簡介', ' ', '公司', '名稱', ' ', '雲雀國際', '股份', '有限公司', ' ', '我要', '應徵', ' ', '職缺', '名稱', ' ', '桃園', '台茂店', ' ', '涮', '乃葉', ' ', '兼職', '人員及', '大專', '院校', '實習', ' ', '工作', '內容', ' ', '誠徵兼職', '人員及', '大專', '院校', '實習生', ' ', '歡迎', '對', '外場', '服務', '或', '內場', '廚務', '調理', '有', '興趣', '者', '加入', '我們', '的', '行列', ' ', '依', '需求', '彈性', '排班', '4', ' ', '7', '小時', ' ', '早班', ' ', '中', '班', ' ', '晚班', ' ', '全日', '班', ' ', '假日', '班', '皆', '有', '缺額', ' ', '日夜', '間', '部學生', '工讀', ' ', '二度', '就業', ' ', '上班族', '兼差', '皆', '可', ' ', '福利', '相關', ' ', '1', ' ', '職代敬業', '津', '貼', ' ', '2', ' ', '區域', '津', '貼', ' ', '3', ' ', '早', ' ', '晚班', '津貼', ' ', '4', ' ', '月', ' ', '季', ' ', '年度', ' ', '優秀', '社員', '獎勵', '制度', ' ', '5', ' ', '業績', ' ', '年', '中', ' ', '年', '終獎', '金', '制度', ' ', '須經', '評價', '並通過', '考核', ' ', '6', ' ', '國定', '假日', '雙倍', '薪', ' ', '7', ' ', '介紹', '獎金', ' ', '留任', '獎金', ' ', '8', ' ', '勞保', ' ', '健保', ' ', '勞工', '退休金', '提撥', ' ', '員', '工團體', '保險', ' ', '享有', '多重', '獎勵', ' ', '努力', '看', '的', '見', ' ', '求才', '條件', ' ', '工作', '地點', ' ', '桃園', '市蘆', '竹區', ' ', '工作', '待遇', ' ', '時薪', ' ', '207', ' ', '元', ' ', '281', ' ', '元', ' ', '工作', '時間', ' ', '日班', ' ', '中', '班', ' ', '晚班', ' ', '假日', '班', ' ', '輪班', ' ', '說明', ' ', 'AM', ' ', '9', ' ', '00', ' ', 'PM', ' ', '23', ' ', '00', ' ', '依', '需求', '彈性', '排班', '4', ' ', '7', '小時', ' ', '身份', '類別', ' ', '原住民', ' ', '學歷', '限制', ' ', '高中', '職', ' ', '專科', ' ', '大學', ' ', '科系', '限制', ' ', '不拘', ' ', '工作', '經驗', ' ', '不拘', ' ', '我要', '應徵', ' ', '定期', '更新', '履歷', ' ', '讓', '您', '求職', '大加', '分', ' ', '立即', '更新', '履歷', ' ', '想', '收到', '更', '精準', '的', '職', '缺配', '對', ' ', '調整', '配對', '條件', ' ', '已無求', '職', '需求', ' ', '建議', '您', ' ', '關閉', '所有', '履歷', ' ', '不', '需此', '職務', '推薦', '信', ' ', '您', '可以', ' ', '取消', '收取', '推薦', '信', ' ', '此', '信件', '為', ' ', '1111', '人力', '銀行', '系統', '發送', ' ', '請', '勿', '直接', '回覆', ' ', '企業', '徵才', '服務', ' ', '週一', ' ', '週五', '8', ' ', '30', ' ', '21', ' ', '00', ' ', '週六', ' ', '週日', ' ', '國定', '假日', ' ', '9', ' ', '00', ' ', '21', ' ', '00', ' ', '苗栗', '以北', ' ', '02', ' ', '8787', ' ', '1111', ' ', '中部', '地區', ' ', '04', ' ', '2203', ' ', '1111', ' ', '南部', '地區', ' ', '07', ' ', '958', ' ', '1111', ' ', '2017', ' ', '1111', ' ', 'Job', ' ', 'Bank', ' ', 'All', ' ', 'Rights', ' ', 'Reserved', ' ', '轉寄履歷', ' ', '簡式', '版', ' ', '本信', '無', '任何', '惡意', '連結', '或', '程式', ' ', '您', '可', '放心', '開啟', ' ', '請務必', '顯示', '圖片', ' ', '以檢視', '完整', '信件', ' ', '1111', '人力', '銀行', ' ', '推薦', '您', ' ', '推薦', '職缺', ' ', '雲雀國際', '股份', '有限公司', '徵才', '中', ' ', '若有', '興趣', ' ', '請點擊', ' ', '我要', '應徵', ' ', '或點', '此連結', '看', '更', '多', '職缺', ' ', '職務', '簡介', ' ', '公司', '名稱', ' ', '雲雀國際', '股份', '有限公司', ' ', '我要', '應徵', ' ', '職缺', '名稱', ' ', '桃園', '台茂店', ' ', '涮', '乃葉', ' ', '兼職', '人員及', '大專', '院校', '實習', ' ', '工作', '內容', ' ', '誠徵兼職', '人員及', '大專', '院校', '實習生', ' ', '歡迎', '對', '外場', '服務', '或', '內場', '廚務', '調理', '有', '興趣', '者', '加入', '我們', '的', '行列', ' ', '依', '需求', '彈性', '排班', '4', ' ', '7', '小時', ' ', '早班', ' ', '中', '班', ' ', '晚班', ' ', '全日', '班', ' ', '假日', '班', '皆', '有', '缺額', ' ', '日夜', '間', '部學生', '工讀', ' ', '二度', '就業', ' ', '上班族', '兼差', '皆', '可', ' ', '福利', '相關', ' ', '1', ' ', '職代敬業', '津', '貼', ' ', '2', ' ', '區域', '津', '貼', ' ', '3', ' ', '早', ' ', '晚班', '津貼', ' ', '4', ' ', '月', ' ', '季', ' ', '年度', ' ', '優秀', '社員', '獎勵', '制度', ' ', '5', ' ', '業績', ' ', '年', '中', ' ', '年', '終獎', '金', '制度', ' ', '須經', '評價', '並通過', '考核', ' ', '6', ' ', '國定', '假日', '雙倍', '薪', ' ', '7', ' ', '介紹', '獎金', ' ', '留任', '獎金', ' ', '8', ' ', '勞保', ' ', '健保', ' ', '勞工', '退休金', '提撥', ' ', '員', '工團體', '保險', ' ', '享有', '多重', '獎勵', ' ', '努力', '看', '的', '見', ' ', '求才', '條件', ' ', '工作', '地點', ' ', '桃園', '市蘆', '竹區', ' ', '工作', '待遇', ' ', '時薪', ' ', '207', ' ', '元', ' ', '281', ' ', '元', ' ', '工作', '時間', ' ', '日班', ' ', '中', '班', ' ', '晚班', ' ', '假日', '班', ' ', '輪班', ' ', '說明', ' ', 'AM', ' ', '9', ' ', '00', ' ', 'PM', ' ', '23', ' ', '00', ' ', '依', '需求', '彈性', '排班', '4', ' ', '7', '小時', ' ', '身份', '類別', ' ', '原住民', ' ', '學歷', '限制', ' ', '高中', '職', ' ', '專科', ' ', '大學', ' ', '科系', '限制', ' ', '不拘', ' ', '工作', '經驗', ' ', '不拘', ' ', '我要', '應徵', ' ', '定期', '更新', '履歷', ' ', '讓', '您', '求職', '大加', '分', ' ', '立即', '更新', '履歷', ' ', '想', '收到', '更', '精準', '的', '職', '缺配', '對', ' ', '調整', '配對', '條件', ' ', '已無求', '職', '需求', ' ', '建議', '您', ' ', '關閉', '所有', '履歷', ' ', '不', '需此', '職務', '推薦', '信', ' ', '您', '可以', ' ', '取消', '收取', '推薦', '信', ' ', '此', '信件', '為', ' ', '1111', '人力', '銀行', '系統', '發送', ' ', '請', '勿', '直接', '回覆', ' ', '企業', '徵才', '服務', ' ', '週一', ' ', '週五', '8', ' ', '30', ' ', '21', ' ', '00', ' ', '週六', ' ', '週日', ' ', '國定', '假日', ' ', '9', ' ', '00', ' ', '21', ' ', '00', ' ', '苗栗', '以北', ' ', '02', ' ', '8787', ' ', '1111', ' ', '中部', '地區', ' ', '04', ' ', '2203', ' ', '1111', ' ', '南部', '地區', ' ', '07', ' ', '958', ' ', '1111', ' ', '2017', ' ', '1111', ' ', 'Job', ' ', 'Bank', ' ', 'All', ' ', 'Rights', ' ', 'Reserved']\n"
     ]
    }
   ],
   "source": [
    "parsed = textParse(df['sub_mssg'][1])\n",
    "\n",
    "# 輸出結果\n",
    "print(\"分詞前：\", df['sub_mssg'][1])\n",
    "print(\"分詞後：\", parsed)"
   ]
  },
  {
   "cell_type": "code",
   "execution_count": 16,
   "id": "31b998fe",
   "metadata": {},
   "outputs": [],
   "source": [
    "df['sub_mssg'] = df['sub_mssg'].apply(textParse)"
   ]
  },
  {
   "cell_type": "code",
   "execution_count": 17,
   "id": "2ddf93d8",
   "metadata": {},
   "outputs": [
    {
     "name": "stdout",
     "output_type": "stream",
     "text": [
      "['1111', '人力', '銀行', '推薦', ' ', '桃園', '台茂店', ' ', '涮', '乃葉', ' ', '兼職', '人員及', '大專', '院校', '實習', ' ', '轉寄履歷', ' ', '簡式', '版', ' ', '本信', '無', '任何', '惡意', '連結', '或', '程式', ' ', '您', '可', '放心', '開啟', ' ', '請務必', '顯示', '圖片', ' ', '以檢視', '完整', '信件', ' ', '1111', '人力', '銀行', ' ', '推薦', '您', ' ', '推薦', '職缺', ' ', '雲雀國際', '股份', '有限公司', '徵才', '中', ' ', '若有', '興趣', ' ', '請點擊', ' ', '我要', '應徵', ' ', '或點', '此連結', '看', '更', '多', '職缺', ' ', '職務', '簡介', ' ', '公司', '名稱', ' ', '雲雀國際', '股份', '有限公司', ' ', '我要', '應徵', ' ', '職缺', '名稱', ' ', '桃園', '台茂店', ' ', '涮', '乃葉', ' ', '兼職', '人員及', '大專', '院校', '實習', ' ', '工作', '內容', ' ', '誠徵兼職', '人員及', '大專', '院校', '實習生', ' ', '歡迎', '對', '外場', '服務', '或', '內場', '廚務', '調理', '有', '興趣', '者', '加入', '我們', '的', '行列', ' ', '依', '需求', '彈性', '排班', '4', ' ', '7', '小時', ' ', '早班', ' ', '中', '班', ' ', '晚班', ' ', '全日', '班', ' ', '假日', '班', '皆', '有', '缺額', ' ', '日夜', '間', '部學生', '工讀', ' ', '二度', '就業', ' ', '上班族', '兼差', '皆', '可', ' ', '福利', '相關', ' ', '1', ' ', '職代敬業', '津', '貼', ' ', '2', ' ', '區域', '津', '貼', ' ', '3', ' ', '早', ' ', '晚班', '津貼', ' ', '4', ' ', '月', ' ', '季', ' ', '年度', ' ', '優秀', '社員', '獎勵', '制度', ' ', '5', ' ', '業績', ' ', '年', '中', ' ', '年', '終獎', '金', '制度', ' ', '須經', '評價', '並通過', '考核', ' ', '6', ' ', '國定', '假日', '雙倍', '薪', ' ', '7', ' ', '介紹', '獎金', ' ', '留任', '獎金', ' ', '8', ' ', '勞保', ' ', '健保', ' ', '勞工', '退休金', '提撥', ' ', '員', '工團體', '保險', ' ', '享有', '多重', '獎勵', ' ', '努力', '看', '的', '見', ' ', '求才', '條件', ' ', '工作', '地點', ' ', '桃園', '市蘆', '竹區', ' ', '工作', '待遇', ' ', '時薪', ' ', '207', ' ', '元', ' ', '281', ' ', '元', ' ', '工作', '時間', ' ', '日班', ' ', '中', '班', ' ', '晚班', ' ', '假日', '班', ' ', '輪班', ' ', '說明', ' ', 'AM', ' ', '9', ' ', '00', ' ', 'PM', ' ', '23', ' ', '00', ' ', '依', '需求', '彈性', '排班', '4', ' ', '7', '小時', ' ', '身份', '類別', ' ', '原住民', ' ', '學歷', '限制', ' ', '高中', '職', ' ', '專科', ' ', '大學', ' ', '科系', '限制', ' ', '不拘', ' ', '工作', '經驗', ' ', '不拘', ' ', '我要', '應徵', ' ', '定期', '更新', '履歷', ' ', '讓', '您', '求職', '大加', '分', ' ', '立即', '更新', '履歷', ' ', '想', '收到', '更', '精準', '的', '職', '缺配', '對', ' ', '調整', '配對', '條件', ' ', '已無求', '職', '需求', ' ', '建議', '您', ' ', '關閉', '所有', '履歷', ' ', '不', '需此', '職務', '推薦', '信', ' ', '您', '可以', ' ', '取消', '收取', '推薦', '信', ' ', '此', '信件', '為', ' ', '1111', '人力', '銀行', '系統', '發送', ' ', '請', '勿', '直接', '回覆', ' ', '企業', '徵才', '服務', ' ', '週一', ' ', '週五', '8', ' ', '30', ' ', '21', ' ', '00', ' ', '週六', ' ', '週日', ' ', '國定', '假日', ' ', '9', ' ', '00', ' ', '21', ' ', '00', ' ', '苗栗', '以北', ' ', '02', ' ', '8787', ' ', '1111', ' ', '中部', '地區', ' ', '04', ' ', '2203', ' ', '1111', ' ', '南部', '地區', ' ', '07', ' ', '958', ' ', '1111', ' ', '2017', ' ', '1111', ' ', 'Job', ' ', 'Bank', ' ', 'All', ' ', 'Rights', ' ', 'Reserved', ' ', '轉寄履歷', ' ', '簡式', '版', ' ', '本信', '無', '任何', '惡意', '連結', '或', '程式', ' ', '您', '可', '放心', '開啟', ' ', '請務必', '顯示', '圖片', ' ', '以檢視', '完整', '信件', ' ', '1111', '人力', '銀行', ' ', '推薦', '您', ' ', '推薦', '職缺', ' ', '雲雀國際', '股份', '有限公司', '徵才', '中', ' ', '若有', '興趣', ' ', '請點擊', ' ', '我要', '應徵', ' ', '或點', '此連結', '看', '更', '多', '職缺', ' ', '職務', '簡介', ' ', '公司', '名稱', ' ', '雲雀國際', '股份', '有限公司', ' ', '我要', '應徵', ' ', '職缺', '名稱', ' ', '桃園', '台茂店', ' ', '涮', '乃葉', ' ', '兼職', '人員及', '大專', '院校', '實習', ' ', '工作', '內容', ' ', '誠徵兼職', '人員及', '大專', '院校', '實習生', ' ', '歡迎', '對', '外場', '服務', '或', '內場', '廚務', '調理', '有', '興趣', '者', '加入', '我們', '的', '行列', ' ', '依', '需求', '彈性', '排班', '4', ' ', '7', '小時', ' ', '早班', ' ', '中', '班', ' ', '晚班', ' ', '全日', '班', ' ', '假日', '班', '皆', '有', '缺額', ' ', '日夜', '間', '部學生', '工讀', ' ', '二度', '就業', ' ', '上班族', '兼差', '皆', '可', ' ', '福利', '相關', ' ', '1', ' ', '職代敬業', '津', '貼', ' ', '2', ' ', '區域', '津', '貼', ' ', '3', ' ', '早', ' ', '晚班', '津貼', ' ', '4', ' ', '月', ' ', '季', ' ', '年度', ' ', '優秀', '社員', '獎勵', '制度', ' ', '5', ' ', '業績', ' ', '年', '中', ' ', '年', '終獎', '金', '制度', ' ', '須經', '評價', '並通過', '考核', ' ', '6', ' ', '國定', '假日', '雙倍', '薪', ' ', '7', ' ', '介紹', '獎金', ' ', '留任', '獎金', ' ', '8', ' ', '勞保', ' ', '健保', ' ', '勞工', '退休金', '提撥', ' ', '員', '工團體', '保險', ' ', '享有', '多重', '獎勵', ' ', '努力', '看', '的', '見', ' ', '求才', '條件', ' ', '工作', '地點', ' ', '桃園', '市蘆', '竹區', ' ', '工作', '待遇', ' ', '時薪', ' ', '207', ' ', '元', ' ', '281', ' ', '元', ' ', '工作', '時間', ' ', '日班', ' ', '中', '班', ' ', '晚班', ' ', '假日', '班', ' ', '輪班', ' ', '說明', ' ', 'AM', ' ', '9', ' ', '00', ' ', 'PM', ' ', '23', ' ', '00', ' ', '依', '需求', '彈性', '排班', '4', ' ', '7', '小時', ' ', '身份', '類別', ' ', '原住民', ' ', '學歷', '限制', ' ', '高中', '職', ' ', '專科', ' ', '大學', ' ', '科系', '限制', ' ', '不拘', ' ', '工作', '經驗', ' ', '不拘', ' ', '我要', '應徵', ' ', '定期', '更新', '履歷', ' ', '讓', '您', '求職', '大加', '分', ' ', '立即', '更新', '履歷', ' ', '想', '收到', '更', '精準', '的', '職', '缺配', '對', ' ', '調整', '配對', '條件', ' ', '已無求', '職', '需求', ' ', '建議', '您', ' ', '關閉', '所有', '履歷', ' ', '不', '需此', '職務', '推薦', '信', ' ', '您', '可以', ' ', '取消', '收取', '推薦', '信', ' ', '此', '信件', '為', ' ', '1111', '人力', '銀行', '系統', '發送', ' ', '請', '勿', '直接', '回覆', ' ', '企業', '徵才', '服務', ' ', '週一', ' ', '週五', '8', ' ', '30', ' ', '21', ' ', '00', ' ', '週六', ' ', '週日', ' ', '國定', '假日', ' ', '9', ' ', '00', ' ', '21', ' ', '00', ' ', '苗栗', '以北', ' ', '02', ' ', '8787', ' ', '1111', ' ', '中部', '地區', ' ', '04', ' ', '2203', ' ', '1111', ' ', '南部', '地區', ' ', '07', ' ', '958', ' ', '1111', ' ', '2017', ' ', '1111', ' ', 'Job', ' ', 'Bank', ' ', 'All', ' ', 'Rights', ' ', 'Reserved']\n"
     ]
    }
   ],
   "source": [
    "print(df['sub_mssg'][1])"
   ]
  },
  {
   "cell_type": "code",
   "execution_count": 18,
   "id": "98989cfc",
   "metadata": {},
   "outputs": [],
   "source": [
    "#載入停用詞表\n",
    "def load_stopwords(filepath):\n",
    "    with open(filepath, encoding='utf-8') as f:\n",
    "        return set(line.strip() for line in f if line.strip())\n",
    "\n",
    "stopword_list = load_stopwords('停用詞-繁體中文.txt')\n"
   ]
  },
  {
   "cell_type": "code",
   "execution_count": 19,
   "id": "b39f9055",
   "metadata": {},
   "outputs": [],
   "source": [
    "#刪除停用詞\n",
    "def remove_stopwords(tokens):\n",
    "    filtered_tokens = [token for token in tokens if token not in stopword_list]\n",
    "    filtered_text = ' '.join(filtered_tokens)\n",
    "    return filtered_text"
   ]
  },
  {
   "cell_type": "code",
   "execution_count": 20,
   "id": "0fa22d98",
   "metadata": {},
   "outputs": [
    {
     "name": "stdout",
     "output_type": "stream",
     "text": [
      "刪除前： ['1111', '人力', '銀行', '推薦', ' ', '桃園', '台茂店', ' ', '涮', '乃葉', ' ', '兼職', '人員及', '大專', '院校', '實習', ' ', '轉寄履歷', ' ', '簡式', '版', ' ', '本信', '無', '任何', '惡意', '連結', '或', '程式', ' ', '您', '可', '放心', '開啟', ' ', '請務必', '顯示', '圖片', ' ', '以檢視', '完整', '信件', ' ', '1111', '人力', '銀行', ' ', '推薦', '您', ' ', '推薦', '職缺', ' ', '雲雀國際', '股份', '有限公司', '徵才', '中', ' ', '若有', '興趣', ' ', '請點擊', ' ', '我要', '應徵', ' ', '或點', '此連結', '看', '更', '多', '職缺', ' ', '職務', '簡介', ' ', '公司', '名稱', ' ', '雲雀國際', '股份', '有限公司', ' ', '我要', '應徵', ' ', '職缺', '名稱', ' ', '桃園', '台茂店', ' ', '涮', '乃葉', ' ', '兼職', '人員及', '大專', '院校', '實習', ' ', '工作', '內容', ' ', '誠徵兼職', '人員及', '大專', '院校', '實習生', ' ', '歡迎', '對', '外場', '服務', '或', '內場', '廚務', '調理', '有', '興趣', '者', '加入', '我們', '的', '行列', ' ', '依', '需求', '彈性', '排班', '4', ' ', '7', '小時', ' ', '早班', ' ', '中', '班', ' ', '晚班', ' ', '全日', '班', ' ', '假日', '班', '皆', '有', '缺額', ' ', '日夜', '間', '部學生', '工讀', ' ', '二度', '就業', ' ', '上班族', '兼差', '皆', '可', ' ', '福利', '相關', ' ', '1', ' ', '職代敬業', '津', '貼', ' ', '2', ' ', '區域', '津', '貼', ' ', '3', ' ', '早', ' ', '晚班', '津貼', ' ', '4', ' ', '月', ' ', '季', ' ', '年度', ' ', '優秀', '社員', '獎勵', '制度', ' ', '5', ' ', '業績', ' ', '年', '中', ' ', '年', '終獎', '金', '制度', ' ', '須經', '評價', '並通過', '考核', ' ', '6', ' ', '國定', '假日', '雙倍', '薪', ' ', '7', ' ', '介紹', '獎金', ' ', '留任', '獎金', ' ', '8', ' ', '勞保', ' ', '健保', ' ', '勞工', '退休金', '提撥', ' ', '員', '工團體', '保險', ' ', '享有', '多重', '獎勵', ' ', '努力', '看', '的', '見', ' ', '求才', '條件', ' ', '工作', '地點', ' ', '桃園', '市蘆', '竹區', ' ', '工作', '待遇', ' ', '時薪', ' ', '207', ' ', '元', ' ', '281', ' ', '元', ' ', '工作', '時間', ' ', '日班', ' ', '中', '班', ' ', '晚班', ' ', '假日', '班', ' ', '輪班', ' ', '說明', ' ', 'AM', ' ', '9', ' ', '00', ' ', 'PM', ' ', '23', ' ', '00', ' ', '依', '需求', '彈性', '排班', '4', ' ', '7', '小時', ' ', '身份', '類別', ' ', '原住民', ' ', '學歷', '限制', ' ', '高中', '職', ' ', '專科', ' ', '大學', ' ', '科系', '限制', ' ', '不拘', ' ', '工作', '經驗', ' ', '不拘', ' ', '我要', '應徵', ' ', '定期', '更新', '履歷', ' ', '讓', '您', '求職', '大加', '分', ' ', '立即', '更新', '履歷', ' ', '想', '收到', '更', '精準', '的', '職', '缺配', '對', ' ', '調整', '配對', '條件', ' ', '已無求', '職', '需求', ' ', '建議', '您', ' ', '關閉', '所有', '履歷', ' ', '不', '需此', '職務', '推薦', '信', ' ', '您', '可以', ' ', '取消', '收取', '推薦', '信', ' ', '此', '信件', '為', ' ', '1111', '人力', '銀行', '系統', '發送', ' ', '請', '勿', '直接', '回覆', ' ', '企業', '徵才', '服務', ' ', '週一', ' ', '週五', '8', ' ', '30', ' ', '21', ' ', '00', ' ', '週六', ' ', '週日', ' ', '國定', '假日', ' ', '9', ' ', '00', ' ', '21', ' ', '00', ' ', '苗栗', '以北', ' ', '02', ' ', '8787', ' ', '1111', ' ', '中部', '地區', ' ', '04', ' ', '2203', ' ', '1111', ' ', '南部', '地區', ' ', '07', ' ', '958', ' ', '1111', ' ', '2017', ' ', '1111', ' ', 'Job', ' ', 'Bank', ' ', 'All', ' ', 'Rights', ' ', 'Reserved', ' ', '轉寄履歷', ' ', '簡式', '版', ' ', '本信', '無', '任何', '惡意', '連結', '或', '程式', ' ', '您', '可', '放心', '開啟', ' ', '請務必', '顯示', '圖片', ' ', '以檢視', '完整', '信件', ' ', '1111', '人力', '銀行', ' ', '推薦', '您', ' ', '推薦', '職缺', ' ', '雲雀國際', '股份', '有限公司', '徵才', '中', ' ', '若有', '興趣', ' ', '請點擊', ' ', '我要', '應徵', ' ', '或點', '此連結', '看', '更', '多', '職缺', ' ', '職務', '簡介', ' ', '公司', '名稱', ' ', '雲雀國際', '股份', '有限公司', ' ', '我要', '應徵', ' ', '職缺', '名稱', ' ', '桃園', '台茂店', ' ', '涮', '乃葉', ' ', '兼職', '人員及', '大專', '院校', '實習', ' ', '工作', '內容', ' ', '誠徵兼職', '人員及', '大專', '院校', '實習生', ' ', '歡迎', '對', '外場', '服務', '或', '內場', '廚務', '調理', '有', '興趣', '者', '加入', '我們', '的', '行列', ' ', '依', '需求', '彈性', '排班', '4', ' ', '7', '小時', ' ', '早班', ' ', '中', '班', ' ', '晚班', ' ', '全日', '班', ' ', '假日', '班', '皆', '有', '缺額', ' ', '日夜', '間', '部學生', '工讀', ' ', '二度', '就業', ' ', '上班族', '兼差', '皆', '可', ' ', '福利', '相關', ' ', '1', ' ', '職代敬業', '津', '貼', ' ', '2', ' ', '區域', '津', '貼', ' ', '3', ' ', '早', ' ', '晚班', '津貼', ' ', '4', ' ', '月', ' ', '季', ' ', '年度', ' ', '優秀', '社員', '獎勵', '制度', ' ', '5', ' ', '業績', ' ', '年', '中', ' ', '年', '終獎', '金', '制度', ' ', '須經', '評價', '並通過', '考核', ' ', '6', ' ', '國定', '假日', '雙倍', '薪', ' ', '7', ' ', '介紹', '獎金', ' ', '留任', '獎金', ' ', '8', ' ', '勞保', ' ', '健保', ' ', '勞工', '退休金', '提撥', ' ', '員', '工團體', '保險', ' ', '享有', '多重', '獎勵', ' ', '努力', '看', '的', '見', ' ', '求才', '條件', ' ', '工作', '地點', ' ', '桃園', '市蘆', '竹區', ' ', '工作', '待遇', ' ', '時薪', ' ', '207', ' ', '元', ' ', '281', ' ', '元', ' ', '工作', '時間', ' ', '日班', ' ', '中', '班', ' ', '晚班', ' ', '假日', '班', ' ', '輪班', ' ', '說明', ' ', 'AM', ' ', '9', ' ', '00', ' ', 'PM', ' ', '23', ' ', '00', ' ', '依', '需求', '彈性', '排班', '4', ' ', '7', '小時', ' ', '身份', '類別', ' ', '原住民', ' ', '學歷', '限制', ' ', '高中', '職', ' ', '專科', ' ', '大學', ' ', '科系', '限制', ' ', '不拘', ' ', '工作', '經驗', ' ', '不拘', ' ', '我要', '應徵', ' ', '定期', '更新', '履歷', ' ', '讓', '您', '求職', '大加', '分', ' ', '立即', '更新', '履歷', ' ', '想', '收到', '更', '精準', '的', '職', '缺配', '對', ' ', '調整', '配對', '條件', ' ', '已無求', '職', '需求', ' ', '建議', '您', ' ', '關閉', '所有', '履歷', ' ', '不', '需此', '職務', '推薦', '信', ' ', '您', '可以', ' ', '取消', '收取', '推薦', '信', ' ', '此', '信件', '為', ' ', '1111', '人力', '銀行', '系統', '發送', ' ', '請', '勿', '直接', '回覆', ' ', '企業', '徵才', '服務', ' ', '週一', ' ', '週五', '8', ' ', '30', ' ', '21', ' ', '00', ' ', '週六', ' ', '週日', ' ', '國定', '假日', ' ', '9', ' ', '00', ' ', '21', ' ', '00', ' ', '苗栗', '以北', ' ', '02', ' ', '8787', ' ', '1111', ' ', '中部', '地區', ' ', '04', ' ', '2203', ' ', '1111', ' ', '南部', '地區', ' ', '07', ' ', '958', ' ', '1111', ' ', '2017', ' ', '1111', ' ', 'Job', ' ', 'Bank', ' ', 'All', ' ', 'Rights', ' ', 'Reserved']\n",
      "刪除後： 1111 人力 銀行 推薦   桃園 台茂店   涮 乃葉   兼職 人員及 大專 院校 實習   轉寄履歷   簡式 版   本信 無 惡意 連結 程式   放心 開啟   請務必 顯示 圖片   以檢視 完整 信件   1111 人力 銀行   推薦   推薦 職缺   雲雀國際 股份 有限公司 徵才 中   若有 興趣   請點擊   我要 應徵   或點 此連結 職缺   職務 簡介   公司 名稱   雲雀國際 股份 有限公司   我要 應徵   職缺 名稱   桃園 台茂店   涮 乃葉   兼職 人員及 大專 院校 實習   工作 內容   誠徵兼職 人員及 大專 院校 實習生   歡迎 外場 服務 內場 廚務 調理 興趣 加入 行列   需求 彈性 排班   小時   早班   中 班   晚班   全日 班   假日 班 皆 缺額   日夜 間 部學生 工讀   二度 就業   上班族 兼差 皆   福利 相關     職代敬業 津 貼     區域 津 貼     早   晚班 津貼     月   季   年度   優秀 社員 獎勵 制度     業績   年 中   年 終獎 金 制度   須經 評價 並通過 考核     國定 假日 雙倍 薪     介紹 獎金   留任 獎金     勞保   健保   勞工 退休金 提撥   員 工團體   享有 多重 獎勵   努力   求才 條件   工作 地點   桃園 市蘆 竹區   工作 待遇   時薪   207   元   281   元   工作 時間   日班   中 班   晚班   假日 班   輪班   說明   AM     00   PM   23   00   需求 彈性 排班   小時   身份 類別   原住民   學歷 限制   高中 職   專科   大學   科系 限制     工作 經驗     我要 應徵   定期 更新 履歷   求職 大加 分   立即 更新 履歷   想 收到 精準 職 缺配   調整 配對 條件   已無求 職 需求   建議   關閉 所有 履歷   需此 職務 推薦 信     取消 收取 推薦 信   信件   1111 人力 銀行 系統 發送   請 勿 直接 回覆   企業 徵才 服務   週一   週五   30   21   00   週六   週日   國定 假日     00   21   00   苗栗 以北   02   8787   1111   中部 地區   04   2203   1111   南部 地區   07   958   1111   2017   1111   Job   Bank   All   Rights   Reserved   轉寄履歷   簡式 版   本信 無 惡意 連結 程式   放心 開啟   請務必 顯示 圖片   以檢視 完整 信件   1111 人力 銀行   推薦   推薦 職缺   雲雀國際 股份 有限公司 徵才 中   若有 興趣   請點擊   我要 應徵   或點 此連結 職缺   職務 簡介   公司 名稱   雲雀國際 股份 有限公司   我要 應徵   職缺 名稱   桃園 台茂店   涮 乃葉   兼職 人員及 大專 院校 實習   工作 內容   誠徵兼職 人員及 大專 院校 實習生   歡迎 外場 服務 內場 廚務 調理 興趣 加入 行列   需求 彈性 排班   小時   早班   中 班   晚班   全日 班   假日 班 皆 缺額   日夜 間 部學生 工讀   二度 就業   上班族 兼差 皆   福利 相關     職代敬業 津 貼     區域 津 貼     早   晚班 津貼     月   季   年度   優秀 社員 獎勵 制度     業績   年 中   年 終獎 金 制度   須經 評價 並通過 考核     國定 假日 雙倍 薪     介紹 獎金   留任 獎金     勞保   健保   勞工 退休金 提撥   員 工團體   享有 多重 獎勵   努力   求才 條件   工作 地點   桃園 市蘆 竹區   工作 待遇   時薪   207   元   281   元   工作 時間   日班   中 班   晚班   假日 班   輪班   說明   AM     00   PM   23   00   需求 彈性 排班   小時   身份 類別   原住民   學歷 限制   高中 職   專科   大學   科系 限制     工作 經驗     我要 應徵   定期 更新 履歷   求職 大加 分   立即 更新 履歷   想 收到 精準 職 缺配   調整 配對 條件   已無求 職 需求   建議   關閉 所有 履歷   需此 職務 推薦 信     取消 收取 推薦 信   信件   1111 人力 銀行 系統 發送   請 勿 直接 回覆   企業 徵才 服務   週一   週五   30   21   00   週六   週日   國定 假日     00   21   00   苗栗 以北   02   8787   1111   中部 地區   04   2203   1111   南部 地區   07   958   1111   2017   1111   Job   Bank   All   Rights   Reserved\n"
     ]
    }
   ],
   "source": [
    "remove_stoped = remove_stopwords(df['sub_mssg'][1])\n",
    "\n",
    "# 輸出結果\n",
    "print(\"刪除前：\", df['sub_mssg'][1])\n",
    "print(\"刪除後：\", remove_stoped)"
   ]
  },
  {
   "cell_type": "code",
   "execution_count": 21,
   "id": "2b3f5b26",
   "metadata": {},
   "outputs": [],
   "source": [
    "df['sub_mssg'] = df['sub_mssg'].apply(remove_stopwords)"
   ]
  },
  {
   "cell_type": "code",
   "execution_count": 22,
   "id": "23bc166e",
   "metadata": {},
   "outputs": [
    {
     "name": "stdout",
     "output_type": "stream",
     "text": [
      "  Apple   開立 發票 通知   開立 發票 通知   APPLE   帳號 dana4326172   gmail   com   付款   遠傳 電信   5498   ChenDana   南平 街 Taoyuan   City   TWN   日期 2025 年 03 月 15 日   訂單   IDMSHMBJDYB4   文件 編號 215928413023   發票 期別 202503   202504   發票 號碼 LD50874043   App   Store   LINE   50   LINE   Coin   App   內購 買 項目   就爛   回報 問題   NT   35   總計   NT   35   Apple   Distribution   International   Ltd   網路 銷售 電子 勞務予 中華民國境 內個 人 買 受 人   2019 年 11 月 日起 開立 雲端 發票   方便 查詢 雲端 發票 兌 領統 一發票 中獎 獎金   請 使用   財政部統 一發票 兌獎   APP     財政部 電子 發票 整合 服務 平台   將連 結雲端 發票 之載 具   消費者 電子 郵件 信箱   歸戶 手機 條碼   財政部 提供 查詢 發票   自動 獎及 中獎 主動 通知 服務   如需 取得 訂閱 購買項 目的 輔助 說明   請 參訪   Apple   支援   瞭解   iTunes   Apple   Books     App   Store   購買 項目 管理 密碼 偏好 設定   包含     VATApple   ID   現已 更名   Apple   帳號   使用 相同 電子 郵件 地址 電話 號碼 密碼 登入   Apple   帳號   銷售 條款   隱私權 政策   Copyright   2025   Apple   Distribution   International   Ltd   保留 權利   Hollyhill   Industrial   Estate   Hollyhill   Cork   Ireland   開立 發票 通知   APPLE   帳號 dana4326172   gmail   com   訂單   IDMSHMBJDYB4   文件 編號 215928413023   發票 期別 202503   202504   發票 號碼 LD50874043   日期 2025 年 03 月 15 日   付款   遠傳 電信   5498   ChenDana   南平 街 Taoyuan   City   TWN   App   Store   LINE   50   LINE   Coin   App   內購 買 項目   就爛   回報 問題   NT   35   總計   NT   35   Apple   Distribution   International   Ltd   網路 銷售 電子 勞務予 中華民國境 內個 人 買 受 人   2019 年 11 月 日起 開立 雲端 發票   方便 查詢 雲端 發票 兌 領統 一發票 中獎 獎金   請 使用   財政部統 一發票 兌獎   APP     財政部 電子 發票 整合 服務 平台   將連 結雲端 發票 之載 具   消費者 電子 郵件 信箱   歸戶 手機 條碼   財政部 提供 查詢 發票   自動 獎及 中獎 主動 通知 服務   如需 取得 訂閱 購買項 目的 輔助 說明   請 參訪   Apple   支援   瞭解   iTunes   Apple   Books     App   Store   購買 項目 管理 密碼 偏好 設定   包含     VATApple   ID   現已 更名   Apple   帳號   使用 相同 電子 郵件 地址 電話 號碼 密碼 登入   Apple   帳號   銷售 條款   隱私權 政策   Copyright   2025   Apple   Distribution   International   Ltd   保留 權利   Hollyhill   Industrial   Estate   Hollyhill   Cork   Ireland\n"
     ]
    }
   ],
   "source": [
    "print(df['sub_mssg'][3])"
   ]
  },
  {
   "cell_type": "code",
   "execution_count": 23,
   "id": "9894e5ad",
   "metadata": {},
   "outputs": [],
   "source": [
    "from sklearn.feature_extraction.text import TfidfVectorizer\n",
    "\n",
    "def tfidf_vectorize(texts):\n",
    "    vectorizer = TfidfVectorizer(max_features=10000,\n",
    "                                 max_df=0.85,\n",
    "                                 min_df=3,\n",
    "                                 norm='l2',\n",
    "                                 smooth_idf=True,\n",
    "                                 use_idf=True,\n",
    "                                 ngram_range=(1,1))\n",
    "    X = vectorizer.fit_transform(texts)\n",
    "    return X, vectorizer"
   ]
  },
  {
   "cell_type": "code",
   "execution_count": 24,
   "id": "72220365",
   "metadata": {},
   "outputs": [
    {
     "name": "stdout",
     "output_type": "stream",
     "text": [
      "(3000, 9523)\n"
     ]
    }
   ],
   "source": [
    "X, vectorizer= tfidf_vectorize(df['sub_mssg'])\n",
    "print(X.shape)\n"
   ]
  },
  {
   "cell_type": "code",
   "execution_count": 25,
   "id": "0bbf76ca",
   "metadata": {},
   "outputs": [
    {
     "name": "stdout",
     "output_type": "stream",
     "text": [
      "<Compressed Sparse Row sparse matrix of dtype 'float64'\n",
      "\twith 166 stored elements and shape (1, 9523)>\n",
      "  Coords\tValues\n",
      "  (0, 7086)\t0.029649734020320832\n",
      "  (0, 3317)\t0.026727243619882525\n",
      "  (0, 5328)\t0.028710531509816044\n",
      "  (0, 65)\t0.2250917050025473\n",
      "  (0, 2243)\t0.08559219526380282\n",
      "  (0, 8846)\t0.07661040019716102\n",
      "  (0, 5229)\t0.15868941346909987\n",
      "  (0, 5920)\t0.08747129632199079\n",
      "  (0, 3413)\t0.07457559186182662\n",
      "  (0, 2111)\t0.14351267947170304\n",
      "  (0, 2895)\t0.07124474499753104\n",
      "  (0, 2249)\t0.2526296695064073\n",
      "  (0, 3903)\t0.22225304520933828\n",
      "  (0, 9008)\t0.22965064030311513\n",
      "  (0, 4203)\t0.12528670489346164\n",
      "  (0, 8440)\t0.040353898750936104\n",
      "  (0, 7165)\t0.040353898750936104\n",
      "  (0, 5846)\t0.04031985330838304\n",
      "  (0, 4854)\t0.040184538944562156\n",
      "  (0, 8573)\t0.03552226674459769\n",
      "  (0, 7052)\t0.03723897037757505\n",
      "  (0, 5367)\t0.03943218940646714\n",
      "  (0, 8913)\t0.03653051566572513\n",
      "  (0, 8100)\t0.03833412577303919\n",
      "  (0, 9295)\t0.03807325127603152\n",
      "  :\t:\n",
      "  (0, 3651)\t0.027493099821691187\n",
      "  (0, 2362)\t0.0341511867405092\n",
      "  (0, 8581)\t0.038044579497098545\n",
      "  (0, 8583)\t0.03742899378913182\n",
      "  (0, 268)\t0.03149015433608126\n",
      "  (0, 193)\t0.06943668454255982\n",
      "  (0, 8585)\t0.03801596957749933\n",
      "  (0, 8590)\t0.03943218940646714\n",
      "  (0, 7674)\t0.040252023530871976\n",
      "  (0, 2326)\t0.040353898750936104\n",
      "  (0, 11)\t0.03193429138167554\n",
      "  (0, 453)\t0.036403374781988636\n",
      "  (0, 2087)\t0.04031985330838304\n",
      "  (0, 3723)\t0.07200905378837039\n",
      "  (0, 19)\t0.03869013890266703\n",
      "  (0, 209)\t0.040353898750936104\n",
      "  (0, 3228)\t0.040353898750936104\n",
      "  (0, 29)\t0.038217547504940934\n",
      "  (0, 472)\t0.040353898750936104\n",
      "  (0, 167)\t0.03988503754783325\n",
      "  (0, 1055)\t0.03632767128852256\n",
      "  (0, 580)\t0.03566511221122893\n",
      "  (0, 525)\t0.03519482559978262\n",
      "  (0, 1451)\t0.03595550394522771\n",
      "  (0, 1442)\t0.03595550394522771\n"
     ]
    }
   ],
   "source": [
    "print(X[1])"
   ]
  },
  {
   "cell_type": "code",
   "execution_count": 26,
   "id": "11ce5ef4",
   "metadata": {},
   "outputs": [
    {
     "name": "stdout",
     "output_type": "stream",
     "text": [
      "Index:     0, Word: 00                  , TF-IDF: 0.16123\n",
      "Index:    11, Word: 02                  , TF-IDF: 0.03193\n",
      "Index:    19, Word: 04                  , TF-IDF: 0.03869\n",
      "Index:    29, Word: 07                  , TF-IDF: 0.03822\n",
      "Index:    65, Word: 1111                , TF-IDF: 0.22509\n",
      "Index:   167, Word: 2017                , TF-IDF: 0.03989\n",
      "Index:   189, Word: 207                 , TF-IDF: 0.09809\n",
      "Index:   193, Word: 21                  , TF-IDF: 0.06944\n",
      "Index:   209, Word: 2203                , TF-IDF: 0.04035\n",
      "Index:   219, Word: 23                  , TF-IDF: 0.05947\n",
      "Index:   268, Word: 30                  , TF-IDF: 0.03149\n",
      "Index:   453, Word: 8787                , TF-IDF: 0.03640\n",
      "Index:   472, Word: 958                 , TF-IDF: 0.04035\n",
      "Index:   525, Word: all                 , TF-IDF: 0.03519\n",
      "Index:   530, Word: am                  , TF-IDF: 0.09809\n",
      "Index:   580, Word: bank                , TF-IDF: 0.03567\n",
      "Index:  1055, Word: job                 , TF-IDF: 0.03633\n",
      "Index:  1365, Word: pm                  , TF-IDF: 0.09030\n",
      "Index:  1442, Word: reserved            , TF-IDF: 0.03596\n",
      "Index:  1451, Word: rights              , TF-IDF: 0.03596\n",
      "Index:  1872, Word: 上班族                 , TF-IDF: 0.07906\n",
      "Index:  2039, Word: 並通過                 , TF-IDF: 0.09186\n",
      "Index:  2087, Word: 中部                  , TF-IDF: 0.04032\n",
      "Index:  2111, Word: 乃葉                  , TF-IDF: 0.14351\n",
      "Index:  2181, Word: 二度                  , TF-IDF: 0.06810\n",
      "Index:  2227, Word: 享有                  , TF-IDF: 0.05617\n",
      "Index:  2243, Word: 人力                  , TF-IDF: 0.08559\n",
      "Index:  2249, Word: 人員及                 , TF-IDF: 0.25263\n",
      "Index:  2291, Word: 介紹                  , TF-IDF: 0.05149\n",
      "Index:  2326, Word: 以北                  , TF-IDF: 0.04035\n",
      "Index:  2332, Word: 以檢視                 , TF-IDF: 0.04035\n",
      "Index:  2362, Word: 企業                  , TF-IDF: 0.03415\n",
      "Index:  2524, Word: 信件                  , TF-IDF: 0.06281\n",
      "Index:  2566, Word: 假日                  , TF-IDF: 0.13669\n",
      "Index:  2589, Word: 健保                  , TF-IDF: 0.07390\n",
      "Index:  2680, Word: 優秀                  , TF-IDF: 0.09030\n",
      "Index:  2759, Word: 內場                  , TF-IDF: 0.04797\n",
      "Index:  2763, Word: 內容                  , TF-IDF: 0.03135\n",
      "Index:  2797, Word: 全日                  , TF-IDF: 0.07675\n",
      "Index:  2841, Word: 公司                  , TF-IDF: 0.02749\n",
      "Index:  2894, Word: 兼差                  , TF-IDF: 0.08890\n",
      "Index:  2895, Word: 兼職                  , TF-IDF: 0.07124\n",
      "Index:  3010, Word: 制度                  , TF-IDF: 0.15350\n",
      "Index:  3075, Word: 加入                  , TF-IDF: 0.04005\n",
      "Index:  3101, Word: 努力                  , TF-IDF: 0.05562\n",
      "Index:  3127, Word: 勞保                  , TF-IDF: 0.07478\n",
      "Index:  3132, Word: 勞工                  , TF-IDF: 0.08039\n",
      "Index:  3175, Word: 區域                  , TF-IDF: 0.06368\n",
      "Index:  3228, Word: 南部                  , TF-IDF: 0.04035\n",
      "Index:  3254, Word: 原住民                 , TF-IDF: 0.04911\n",
      "Index:  3317, Word: 取消                  , TF-IDF: 0.02673\n",
      "Index:  3413, Word: 台茂店                 , TF-IDF: 0.07458\n",
      "Index:  3473, Word: 名稱                  , TF-IDF: 0.07286\n",
      "Index:  3651, Word: 回覆                  , TF-IDF: 0.02749\n",
      "Index:  3676, Word: 國定                  , TF-IDF: 0.07123\n",
      "Index:  3699, Word: 圖片                  , TF-IDF: 0.03937\n",
      "Index:  3723, Word: 地區                  , TF-IDF: 0.07201\n",
      "Index:  3738, Word: 地點                  , TF-IDF: 0.03953\n",
      "Index:  3834, Word: 外場                  , TF-IDF: 0.04500\n",
      "Index:  3875, Word: 多重                  , TF-IDF: 0.09030\n",
      "Index:  3888, Word: 大加                  , TF-IDF: 0.04035\n",
      "Index:  3896, Word: 大學                  , TF-IDF: 0.04398\n",
      "Index:  3903, Word: 大專                  , TF-IDF: 0.22225\n",
      "Index:  4083, Word: 學歷                  , TF-IDF: 0.03746\n",
      "Index:  4115, Word: 完整                  , TF-IDF: 0.03782\n",
      "Index:  4128, Word: 定期                  , TF-IDF: 0.03785\n",
      "Index:  4203, Word: 實習                  , TF-IDF: 0.12529\n",
      "Index:  4204, Word: 實習生                 , TF-IDF: 0.09186\n",
      "Index:  4319, Word: 專科                  , TF-IDF: 0.04490\n",
      "Index:  4364, Word: 小時                  , TF-IDF: 0.08515\n",
      "Index:  4388, Word: 就業                  , TF-IDF: 0.06254\n",
      "Index:  4427, Word: 履歷                  , TF-IDF: 0.10876\n",
      "Index:  4452, Word: 工作                  , TF-IDF: 0.16113\n",
      "Index:  4469, Word: 工讀                  , TF-IDF: 0.05372\n",
      "Index:  4496, Word: 已無求                 , TF-IDF: 0.04035\n",
      "Index:  4523, Word: 市蘆                  , TF-IDF: 0.03615\n",
      "Index:  4590, Word: 年度                  , TF-IDF: 0.07729\n",
      "Index:  4646, Word: 廚務                  , TF-IDF: 0.08444\n",
      "Index:  4669, Word: 建議                  , TF-IDF: 0.03050\n",
      "Index:  4698, Word: 彈性                  , TF-IDF: 0.09889\n",
      "Index:  4726, Word: 待遇                  , TF-IDF: 0.04025\n",
      "Index:  4749, Word: 徵才                  , TF-IDF: 0.07970\n",
      "Index:  4854, Word: 惡意                  , TF-IDF: 0.04018\n",
      "Index:  4913, Word: 應徵                  , TF-IDF: 0.11926\n",
      "Index:  4952, Word: 我要                  , TF-IDF: 0.12025\n",
      "Index:  4970, Word: 或點                  , TF-IDF: 0.04035\n",
      "Index:  5000, Word: 所有                  , TF-IDF: 0.02960\n",
      "Index:  5186, Word: 排班                  , TF-IDF: 0.09059\n",
      "Index:  5229, Word: 推薦                  , TF-IDF: 0.15869\n",
      "Index:  5245, Word: 提撥                  , TF-IDF: 0.07525\n",
      "Index:  5328, Word: 收到                  , TF-IDF: 0.02871\n",
      "Index:  5329, Word: 收取                  , TF-IDF: 0.03896\n",
      "Index:  5367, Word: 放心                  , TF-IDF: 0.03943\n",
      "Index:  5552, Word: 日班                  , TF-IDF: 0.04127\n",
      "Index:  5566, Word: 早班                  , TF-IDF: 0.05264\n",
      "Index:  5633, Word: 時薪                  , TF-IDF: 0.03635\n",
      "Index:  5637, Word: 時間                  , TF-IDF: 0.03128\n",
      "Index:  5643, Word: 晚班                  , TF-IDF: 0.11849\n",
      "Index:  5689, Word: 更新                  , TF-IDF: 0.06921\n",
      "Index:  5783, Word: 有限公司                , TF-IDF: 0.06917\n",
      "Index:  5788, Word: 服務                  , TF-IDF: 0.05375\n",
      "Index:  5846, Word: 本信                  , TF-IDF: 0.04032\n",
      "Index:  5920, Word: 桃園                  , TF-IDF: 0.08747\n",
      "Index:  5936, Word: 條件                  , TF-IDF: 0.06165\n",
      "Index:  5953, Word: 業績                  , TF-IDF: 0.10105\n",
      "Index:  6052, Word: 歡迎                  , TF-IDF: 0.03748\n",
      "Index:  6096, Word: 此連結                 , TF-IDF: 0.03985\n",
      "Index:  6175, Word: 求才                  , TF-IDF: 0.03979\n",
      "Index:  6176, Word: 求職                  , TF-IDF: 0.03771\n",
      "Index:  6234, Word: 津貼                  , TF-IDF: 0.07052\n",
      "Index:  6579, Word: 獎勵                  , TF-IDF: 0.13851\n",
      "Index:  6585, Word: 獎金                  , TF-IDF: 0.10460\n",
      "Index:  6731, Word: 留任                  , TF-IDF: 0.07971\n",
      "Index:  6824, Word: 發送                  , TF-IDF: 0.02751\n",
      "Index:  6883, Word: 直接                  , TF-IDF: 0.02885\n",
      "Index:  6906, Word: 相關                  , TF-IDF: 0.03236\n",
      "Index:  6989, Word: 社員                  , TF-IDF: 0.08111\n",
      "Index:  7006, Word: 福利                  , TF-IDF: 0.05651\n",
      "Index:  7034, Word: 科系                  , TF-IDF: 0.04035\n",
      "Index:  7052, Word: 程式                  , TF-IDF: 0.03724\n",
      "Index:  7086, Word: 立即                  , TF-IDF: 0.02965\n",
      "Index:  7100, Word: 竹區                  , TF-IDF: 0.03615\n",
      "Index:  7161, Word: 簡介                  , TF-IDF: 0.04029\n",
      "Index:  7165, Word: 簡式                  , TF-IDF: 0.04035\n",
      "Index:  7192, Word: 精準                  , TF-IDF: 0.04002\n",
      "Index:  7204, Word: 系統                  , TF-IDF: 0.02749\n",
      "Index:  7246, Word: 終獎                  , TF-IDF: 0.07348\n",
      "Index:  7314, Word: 經驗                  , TF-IDF: 0.03713\n",
      "Index:  7403, Word: 缺配                  , TF-IDF: 0.03875\n",
      "Index:  7404, Word: 缺額                  , TF-IDF: 0.08352\n",
      "Index:  7458, Word: 考核                  , TF-IDF: 0.07085\n",
      "Index:  7501, Word: 職務                  , TF-IDF: 0.07997\n",
      "Index:  7521, Word: 職缺                  , TF-IDF: 0.10490\n",
      "Index:  7540, Word: 股份                  , TF-IDF: 0.07128\n",
      "Index:  7636, Word: 興趣                  , TF-IDF: 0.07690\n",
      "Index:  7674, Word: 苗栗                  , TF-IDF: 0.04025\n",
      "Index:  7678, Word: 若有                  , TF-IDF: 0.03776\n",
      "Index:  7812, Word: 行列                  , TF-IDF: 0.08542\n",
      "Index:  8004, Word: 評價                  , TF-IDF: 0.10105\n",
      "Index:  8066, Word: 誠徵兼職                , TF-IDF: 0.07729\n",
      "Index:  8073, Word: 說明                  , TF-IDF: 0.03681\n",
      "Index:  8085, Word: 調整                  , TF-IDF: 0.03729\n",
      "Index:  8088, Word: 調理                  , TF-IDF: 0.07433\n",
      "Index:  8100, Word: 請務必                 , TF-IDF: 0.03833\n",
      "Index:  8116, Word: 請點擊                 , TF-IDF: 0.03822\n",
      "Index:  8385, Word: 身份                  , TF-IDF: 0.03881\n",
      "Index:  8427, Word: 輪班                  , TF-IDF: 0.05353\n",
      "Index:  8440, Word: 轉寄履歷                , TF-IDF: 0.04035\n",
      "Index:  8485, Word: 退休金                 , TF-IDF: 0.09186\n",
      "Index:  8573, Word: 連結                  , TF-IDF: 0.03552\n",
      "Index:  8581, Word: 週一                  , TF-IDF: 0.03804\n",
      "Index:  8583, Word: 週五                  , TF-IDF: 0.03743\n",
      "Index:  8585, Word: 週六                  , TF-IDF: 0.03802\n",
      "Index:  8590, Word: 週日                  , TF-IDF: 0.03943\n",
      "Index:  8762, Word: 配對                  , TF-IDF: 0.03635\n",
      "Index:  8846, Word: 銀行                  , TF-IDF: 0.07661\n",
      "Index:  8913, Word: 開啟                  , TF-IDF: 0.03653\n",
      "Index:  8964, Word: 關閉                  , TF-IDF: 0.04005\n",
      "Index:  9001, Word: 限制                  , TF-IDF: 0.07830\n",
      "Index:  9008, Word: 院校                  , TF-IDF: 0.22965\n",
      "Index:  9091, Word: 雲雀國際                , TF-IDF: 0.18726\n",
      "Index:  9140, Word: 需此                  , TF-IDF: 0.04035\n",
      "Index:  9141, Word: 需求                  , TF-IDF: 0.10998\n",
      "Index:  9286, Word: 類別                  , TF-IDF: 0.03989\n",
      "Index:  9295, Word: 顯示                  , TF-IDF: 0.03807\n",
      "Index:  9419, Word: 高中                  , TF-IDF: 0.04407\n"
     ]
    }
   ],
   "source": [
    "# 取得詞彙表（注意：fit_transform 必須先執行過，vectorizer 已建立好）\n",
    "feature_names = vectorizer.get_feature_names_out()\n",
    "\n",
    "# 指定要查看第幾筆資料（第幾筆訊息）\n",
    "row_index = 1\n",
    "row = X[row_index]\n",
    "\n",
    "# 把稀疏向量轉成欄位 index ➝ TF-IDF 值的 dict\n",
    "sparse_dict = dict(zip(row.indices, row.data))\n",
    "\n",
    "# 印出 index、對應的詞與該詞在該文件中的 TF-IDF 值\n",
    "for idx in sorted(sparse_dict):\n",
    "    word = feature_names[idx]\n",
    "    tfidf = sparse_dict[idx]\n",
    "    print(f\"Index: {idx:5d}, Word: {word:20s}, TF-IDF: {tfidf:.5f}\")\n"
   ]
  },
  {
   "cell_type": "code",
   "execution_count": 27,
   "id": "651dac15",
   "metadata": {},
   "outputs": [
    {
     "data": {
      "application/vnd.microsoft.datawrangler.viewer.v0+json": {
       "columns": [
        {
         "name": "index",
         "rawType": "int64",
         "type": "integer"
        },
        {
         "name": "Index",
         "rawType": "int32",
         "type": "integer"
        },
        {
         "name": "Word",
         "rawType": "object",
         "type": "string"
        },
        {
         "name": "TF-IDF",
         "rawType": "float64",
         "type": "float"
        }
       ],
       "conversionMethod": "pd.DataFrame",
       "ref": "4efbd897-a31b-4b75-8c48-27cc75161f96",
       "rows": [
        [
         "11",
         "2249",
         "人員及",
         "0.2526296695064073"
        ],
        [
         "13",
         "9008",
         "院校",
         "0.22965064030311513"
        ],
        [
         "3",
         "65",
         "1111",
         "0.2250917050025473"
        ],
        [
         "12",
         "3903",
         "大專",
         "0.22225304520933828"
        ],
        [
         "30",
         "9091",
         "雲雀國際",
         "0.18726194974001917"
        ],
        [
         "110",
         "0",
         "00",
         "0.16122515842177207"
        ],
        [
         "45",
         "4452",
         "工作",
         "0.1611327493992148"
        ],
        [
         "6",
         "5229",
         "推薦",
         "0.15868941346909987"
        ],
        [
         "79",
         "3010",
         "制度",
         "0.15350113672981539"
        ],
        [
         "9",
         "2111",
         "乃葉",
         "0.14351267947170304"
        ],
        [
         "78",
         "6579",
         "獎勵",
         "0.13850823145195892"
        ],
        [
         "64",
         "2566",
         "假日",
         "0.13669023089731833"
        ],
        [
         "14",
         "4203",
         "實習",
         "0.12528670489346164"
        ],
        [
         "37",
         "4952",
         "我要",
         "0.12025185499915533"
        ],
        [
         "38",
         "4913",
         "應徵",
         "0.11926220003946814"
        ],
        [
         "62",
         "5643",
         "晚班",
         "0.11848782857708462"
        ],
        [
         "57",
         "9141",
         "需求",
         "0.10997666208381701"
        ],
        [
         "125",
         "4427",
         "履歷",
         "0.10875719257175534"
        ],
        [
         "29",
         "7521",
         "職缺",
         "0.10489737720162763"
        ],
        [
         "87",
         "6585",
         "獎金",
         "0.10460314944494963"
        ],
        [
         "82",
         "8004",
         "評價",
         "0.10105186780256292"
        ],
        [
         "80",
         "5953",
         "業績",
         "0.10105186780256292"
        ],
        [
         "58",
         "4698",
         "彈性",
         "0.09888727042437766"
        ],
        [
         "109",
         "530",
         "am",
         "0.09809282976505215"
        ],
        [
         "104",
         "189",
         "207",
         "0.09809282976505215"
        ],
        [
         "48",
         "4204",
         "實習生",
         "0.09186025612124606"
        ],
        [
         "83",
         "2039",
         "並通過",
         "0.09186025612124606"
        ],
        [
         "92",
         "8485",
         "退休金",
         "0.09186025612124606"
        ],
        [
         "59",
         "5186",
         "排班",
         "0.0905894630792827"
        ],
        [
         "76",
         "2680",
         "優秀",
         "0.09029837149304112"
        ],
        [
         "111",
         "1365",
         "pm",
         "0.09029837149304112"
        ],
        [
         "95",
         "3875",
         "多重",
         "0.09029837149304112"
        ],
        [
         "70",
         "2894",
         "兼差",
         "0.0889012180837353"
        ],
        [
         "7",
         "5920",
         "桃園",
         "0.08747129632199079"
        ],
        [
         "4",
         "2243",
         "人力",
         "0.08559219526380282"
        ],
        [
         "56",
         "7812",
         "行列",
         "0.08542208622592212"
        ],
        [
         "60",
         "4364",
         "小時",
         "0.08515070219203406"
        ],
        [
         "53",
         "4646",
         "廚務",
         "0.08443936318869273"
        ],
        [
         "65",
         "7404",
         "缺額",
         "0.08352446992897442"
        ],
        [
         "77",
         "6989",
         "社員",
         "0.08110675981172427"
        ],
        [
         "91",
         "3132",
         "勞工",
         "0.08038979101124132"
        ],
        [
         "41",
         "7501",
         "職務",
         "0.07996824327928054"
        ],
        [
         "88",
         "6731",
         "留任",
         "0.07970960640241846"
        ],
        [
         "33",
         "4749",
         "徵才",
         "0.079704346722047"
        ],
        [
         "69",
         "1872",
         "上班族",
         "0.07906261503393183"
        ],
        [
         "117",
         "9001",
         "限制",
         "0.0782980643740362"
        ],
        [
         "75",
         "4590",
         "年度",
         "0.07729189628516832"
        ],
        [
         "47",
         "8066",
         "誠徵兼職",
         "0.07729189628516832"
        ],
        [
         "35",
         "7636",
         "興趣",
         "0.07690347601646193"
        ],
        [
         "63",
         "2797",
         "全日",
         "0.07675056836490769"
        ]
       ],
       "shape": {
        "columns": 3,
        "rows": 166
       }
      },
      "text/html": [
       "<div>\n",
       "<style scoped>\n",
       "    .dataframe tbody tr th:only-of-type {\n",
       "        vertical-align: middle;\n",
       "    }\n",
       "\n",
       "    .dataframe tbody tr th {\n",
       "        vertical-align: top;\n",
       "    }\n",
       "\n",
       "    .dataframe thead th {\n",
       "        text-align: right;\n",
       "    }\n",
       "</style>\n",
       "<table border=\"1\" class=\"dataframe\">\n",
       "  <thead>\n",
       "    <tr style=\"text-align: right;\">\n",
       "      <th></th>\n",
       "      <th>Index</th>\n",
       "      <th>Word</th>\n",
       "      <th>TF-IDF</th>\n",
       "    </tr>\n",
       "  </thead>\n",
       "  <tbody>\n",
       "    <tr>\n",
       "      <th>11</th>\n",
       "      <td>2249</td>\n",
       "      <td>人員及</td>\n",
       "      <td>0.252630</td>\n",
       "    </tr>\n",
       "    <tr>\n",
       "      <th>13</th>\n",
       "      <td>9008</td>\n",
       "      <td>院校</td>\n",
       "      <td>0.229651</td>\n",
       "    </tr>\n",
       "    <tr>\n",
       "      <th>3</th>\n",
       "      <td>65</td>\n",
       "      <td>1111</td>\n",
       "      <td>0.225092</td>\n",
       "    </tr>\n",
       "    <tr>\n",
       "      <th>12</th>\n",
       "      <td>3903</td>\n",
       "      <td>大專</td>\n",
       "      <td>0.222253</td>\n",
       "    </tr>\n",
       "    <tr>\n",
       "      <th>30</th>\n",
       "      <td>9091</td>\n",
       "      <td>雲雀國際</td>\n",
       "      <td>0.187262</td>\n",
       "    </tr>\n",
       "    <tr>\n",
       "      <th>...</th>\n",
       "      <td>...</td>\n",
       "      <td>...</td>\n",
       "      <td>...</td>\n",
       "    </tr>\n",
       "    <tr>\n",
       "      <th>139</th>\n",
       "      <td>6824</td>\n",
       "      <td>發送</td>\n",
       "      <td>0.027506</td>\n",
       "    </tr>\n",
       "    <tr>\n",
       "      <th>138</th>\n",
       "      <td>7204</td>\n",
       "      <td>系統</td>\n",
       "      <td>0.027493</td>\n",
       "    </tr>\n",
       "    <tr>\n",
       "      <th>43</th>\n",
       "      <td>2841</td>\n",
       "      <td>公司</td>\n",
       "      <td>0.027493</td>\n",
       "    </tr>\n",
       "    <tr>\n",
       "      <th>141</th>\n",
       "      <td>3651</td>\n",
       "      <td>回覆</td>\n",
       "      <td>0.027493</td>\n",
       "    </tr>\n",
       "    <tr>\n",
       "      <th>1</th>\n",
       "      <td>3317</td>\n",
       "      <td>取消</td>\n",
       "      <td>0.026727</td>\n",
       "    </tr>\n",
       "  </tbody>\n",
       "</table>\n",
       "<p>166 rows × 3 columns</p>\n",
       "</div>"
      ],
      "text/plain": [
       "     Index  Word    TF-IDF\n",
       "11    2249   人員及  0.252630\n",
       "13    9008    院校  0.229651\n",
       "3       65  1111  0.225092\n",
       "12    3903    大專  0.222253\n",
       "30    9091  雲雀國際  0.187262\n",
       "..     ...   ...       ...\n",
       "139   6824    發送  0.027506\n",
       "138   7204    系統  0.027493\n",
       "43    2841    公司  0.027493\n",
       "141   3651    回覆  0.027493\n",
       "1     3317    取消  0.026727\n",
       "\n",
       "[166 rows x 3 columns]"
      ]
     },
     "metadata": {},
     "output_type": "display_data"
    }
   ],
   "source": [
    "import pandas as pd\n",
    "\n",
    "# 指定想要看的文本索引\n",
    "row_index = 1\n",
    "row = X[row_index]\n",
    "\n",
    "# 取得詞彙名稱（字串）\n",
    "feature_names = vectorizer.get_feature_names_out()\n",
    "\n",
    "# 轉成對照 dict：index ➝ tfidf\n",
    "sparse_dict = dict(zip(row.indices, row.data))\n",
    "\n",
    "# 建立 DataFrame\n",
    "df_tfidf = pd.DataFrame({\n",
    "    'Index': list(sparse_dict.keys()),\n",
    "    'Word': [feature_names[idx] for idx in sparse_dict.keys()],\n",
    "    'TF-IDF': list(sparse_dict.values())\n",
    "})\n",
    "\n",
    "# 排序（由大到小）\n",
    "df_tfidf = df_tfidf.sort_values(by='TF-IDF', ascending=False)\n",
    "\n",
    "# 顯示前幾筆（或不加就是全部顯示）\n",
    "display(df_tfidf)\n"
   ]
  },
  {
   "cell_type": "code",
   "execution_count": 28,
   "id": "c2ba1c12",
   "metadata": {},
   "outputs": [
    {
     "data": {
      "application/vnd.microsoft.datawrangler.viewer.v0+json": {
       "columns": [
        {
         "name": "index",
         "rawType": "int64",
         "type": "integer"
        },
        {
         "name": "label",
         "rawType": "int64",
         "type": "integer"
        },
        {
         "name": "sub_mssg",
         "rawType": "object",
         "type": "string"
        },
        {
         "name": "Category",
         "rawType": "int64",
         "type": "integer"
        }
       ],
       "conversionMethod": "pd.DataFrame",
       "ref": "7a2ba783-6230-4665-bbde-83193708d3bd",
       "rows": [
        [
         "0",
         "5",
         "The   FuelCell   Rebel   全新 顏色   New   Balance   男裝   女裝   兒童   專為 速度 打造   跑步 補充 能量   立即 選購   立即 選購   Shipping   Shipping   會員 購物   400 元 享免 運費   Store   Store   門市 資訊   Shipping   Shipping   會員 購物   400 元 享免 運費   門市 資訊   熱銷 商品   Run   Your   Way   優惠 商品   Instagram   Instagram   Facebook   Facebook   Twitter   Twitter   TikTok   TikTok   瀏覽器 檢閱   取消 訂閱   隱私權 政策   條款 細則   尋求 協助   2025   New   Balance   確保 錯過 特別 優惠   請 電子 信箱 新增 聯絡 人   newbalance   email   newbalance   com   tw   不願意 再 收到 電子 郵件 通知   請 訪 取消 訂 閱頁 面   2025   New   Balance   確保 錯過 特別 優惠   請 電子 信箱 新增 聯絡 人   newbalance   email   newbalance   com   tw   不願意 再 收到 電子 郵件 通知   請 訪 取消 訂 閱頁 面",
         "1"
        ],
        [
         "1",
         "3",
         "1111 人力 銀行 推薦   桃園 台茂店   涮 乃葉   兼職 人員及 大專 院校 實習   轉寄履歷   簡式 版   本信 無 惡意 連結 程式   放心 開啟   請務必 顯示 圖片   以檢視 完整 信件   1111 人力 銀行   推薦   推薦 職缺   雲雀國際 股份 有限公司 徵才 中   若有 興趣   請點擊   我要 應徵   或點 此連結 職缺   職務 簡介   公司 名稱   雲雀國際 股份 有限公司   我要 應徵   職缺 名稱   桃園 台茂店   涮 乃葉   兼職 人員及 大專 院校 實習   工作 內容   誠徵兼職 人員及 大專 院校 實習生   歡迎 外場 服務 內場 廚務 調理 興趣 加入 行列   需求 彈性 排班   小時   早班   中 班   晚班   全日 班   假日 班 皆 缺額   日夜 間 部學生 工讀   二度 就業   上班族 兼差 皆   福利 相關     職代敬業 津 貼     區域 津 貼     早   晚班 津貼     月   季   年度   優秀 社員 獎勵 制度     業績   年 中   年 終獎 金 制度   須經 評價 並通過 考核     國定 假日 雙倍 薪     介紹 獎金   留任 獎金     勞保   健保   勞工 退休金 提撥   員 工團體   享有 多重 獎勵   努力   求才 條件   工作 地點   桃園 市蘆 竹區   工作 待遇   時薪   207   元   281   元   工作 時間   日班   中 班   晚班   假日 班   輪班   說明   AM     00   PM   23   00   需求 彈性 排班   小時   身份 類別   原住民   學歷 限制   高中 職   專科   大學   科系 限制     工作 經驗     我要 應徵   定期 更新 履歷   求職 大加 分   立即 更新 履歷   想 收到 精準 職 缺配   調整 配對 條件   已無求 職 需求   建議   關閉 所有 履歷   需此 職務 推薦 信     取消 收取 推薦 信   信件   1111 人力 銀行 系統 發送   請 勿 直接 回覆   企業 徵才 服務   週一   週五   30   21   00   週六   週日   國定 假日     00   21   00   苗栗 以北   02   8787   1111   中部 地區   04   2203   1111   南部 地區   07   958   1111   2017   1111   Job   Bank   All   Rights   Reserved   轉寄履歷   簡式 版   本信 無 惡意 連結 程式   放心 開啟   請務必 顯示 圖片   以檢視 完整 信件   1111 人力 銀行   推薦   推薦 職缺   雲雀國際 股份 有限公司 徵才 中   若有 興趣   請點擊   我要 應徵   或點 此連結 職缺   職務 簡介   公司 名稱   雲雀國際 股份 有限公司   我要 應徵   職缺 名稱   桃園 台茂店   涮 乃葉   兼職 人員及 大專 院校 實習   工作 內容   誠徵兼職 人員及 大專 院校 實習生   歡迎 外場 服務 內場 廚務 調理 興趣 加入 行列   需求 彈性 排班   小時   早班   中 班   晚班   全日 班   假日 班 皆 缺額   日夜 間 部學生 工讀   二度 就業   上班族 兼差 皆   福利 相關     職代敬業 津 貼     區域 津 貼     早   晚班 津貼     月   季   年度   優秀 社員 獎勵 制度     業績   年 中   年 終獎 金 制度   須經 評價 並通過 考核     國定 假日 雙倍 薪     介紹 獎金   留任 獎金     勞保   健保   勞工 退休金 提撥   員 工團體   享有 多重 獎勵   努力   求才 條件   工作 地點   桃園 市蘆 竹區   工作 待遇   時薪   207   元   281   元   工作 時間   日班   中 班   晚班   假日 班   輪班   說明   AM     00   PM   23   00   需求 彈性 排班   小時   身份 類別   原住民   學歷 限制   高中 職   專科   大學   科系 限制     工作 經驗     我要 應徵   定期 更新 履歷   求職 大加 分   立即 更新 履歷   想 收到 精準 職 缺配   調整 配對 條件   已無求 職 需求   建議   關閉 所有 履歷   需此 職務 推薦 信     取消 收取 推薦 信   信件   1111 人力 銀行 系統 發送   請 勿 直接 回覆   企業 徵才 服務   週一   週五   30   21   00   週六   週日   國定 假日     00   21   00   苗栗 以北   02   8787   1111   中部 地區   04   2203   1111   南部 地區   07   958   1111   2017   1111   Job   Bank   All   Rights   Reserved",
         "1"
        ],
        [
         "2",
         "3",
         "陳 璿   2025   03   16   履歷職 缺配 通知   職缺配   嗨   陳 璿   寄送 期待 配對 職缺   職位 符合 履歷 大部分 期望 條件   點進 職缺 查看 內容   找到 理想 工作   1111 人力 銀行 職場 成功 合作 夥伴   提供 工作 機會   祝福 求職 成功   履歷   自訂 條件 配對 職缺   配對 條件   餐飲 服務人員   餐廚 助手   洗碗 人員   生鮮 處理 人員   冷熱 飲 調 製 人 員   最新 符合     筆     小提示   適度 放 寬配 條件   推薦 多職 缺給   修改 配對 條件   餐飲 服務人員   饞 鬥鍋物   南 崁 店   外場 工讀   饞 鬥本格 鍋物   饞 鬥鍋物   桃園 市蘆 竹區   時薪   190   以上     顧客 帶位 安排 座位     將菜 單遞 交顧客   答覆有 關餐 飲 問題   必要 時 提供 建議     記錄 顧客 所點 菜餚   通知 廚房 內場 做餐 送餐     上菜 提供 用餐 服務   more   準確 率 回報   應   徵   築田便 當蘆 竹店   外送 人員   億展餐 飲 食品 有限公司   築田便 當連鎖餐 飲店   桃園 市蘆 竹區   時薪   200   以上   餐盒 送到 客戶 手中   並請 客戶 進行 簽收   自備 機車 100cc   125cc   提供 油資津 貼   供餐   more   準確 率 回報   應   徵   最高 時薪 265 元   乾杯 品牌   台茂 外場 計時 社員   聯合 募集   KLCD4   乾杯 股份 有限公司   桃園 市蘆 竹區   時薪   190   265   205 元   含 10 元 PT 津貼 215 元   視經驗 調 整起 薪   最高 可達 265 元   含 10 元津 貼   工作 內容   外場 店員   接待 引導   餐點 酒水 介紹   協助 顧客 點餐   桌邊 服務及 維護 環境   主管 交辦 事項   工作 需求   班別 分為 早   中   晚班     00   00   00   區間 排班   每週 排班   可彈性 調整   假日 配合 排班 佳   歡迎詢 問討論 排班 時間   福利   三節 獎金   每年 健檢 健康 諮 詢   員 工餐   不定期 部門 聚餐   more   幸福 企業   知 名企 業   準確 率 回報   應   徵   職缺 符合 需求   請 告訴   職缺   桃園 台茂   上菜 片皮 鴨 專賣店   領 檯 人員   漢來 美食 股份 有限公司   桃園 市蘆 竹區   月薪   32   000   34   000   詳細 內容   超夯 川 麻辣 鍋   燒肉   蘆竹店   外場 服務人員 起薪 33000   43500 元   聖保羅餐 廳 股份 有限公司   桃園 市蘆 竹區   月薪   33   000   43   500   詳細 內容   饞 鬥鍋物   南 崁 店   外場 工讀   饞 鬥本格 鍋物   桃園 市蘆 竹區   時薪   190   以上   詳細 內容   饅饅好 食   專櫃 銷售 工讀 生   桃園 台茂 購物 中心   Mum   Mum   饅饅好 食   好 心情 國際 事業 有限公司   桃園 市蘆 竹區   時薪   190   197   詳細 內容   餐廳 服務員   永漢 開發 股份 有限公司 桃園 營業   桃園 市蘆 竹區   月薪   28   590   30   000   詳細 內容   MAGiC   TOUCH 点爭 鮮   台茂店   正職 人員   爭鮮 股份 有限公司   桃園 市蘆 竹區   月薪   38   500   40   500   詳細 內容   築田便 當蘆 竹店   餐飲 工作 人員   億展餐 飲 食品 有限公司   桃園 市蘆 竹區   月薪   35   000   以上   詳細 內容   點水樓   南 崁 店   洗滌 清潔員   點水 樓餐 飲事業 股份 有限公司   桃園 市蘆 竹區   月薪   30   000   38   000   詳細 內容   最高 時薪 265 元   乾杯 品牌   台茂 外場 計時 社員   聯合 募集   KLCD4   乾杯 股份 有限公司   桃園 市蘆 竹區   時薪   190   265   詳細 內容   早安 美 芝城   蘆竹長 春 概念 店   早餐   門市 正 職人員   早安 美 芝城 桃園 莊一 概念 店   齊樂 科技 企業社   桃園 市蘆 竹區   月薪   36   000   50   000   詳細 內容   搜尋更 職缺   職場 升級 包   提升 競爭力   學習 六大 外語   快來 領取 最高 20   000 元 補助   郵局 招考   招募 1620 名新血   月薪 勘   萬   想轉 職綠能 產業   政府 新 尖兵 計畫 助攻   成為 ESG 人才   進修 再 出發   SCA   CSP   國際 證照   成就 咖啡 夢想   烘焙 家 必修   烘焙 教學   證照 課   饕客 必學 本領   系統 學習 餐廳 英文   政府 力挺   免費學   3D 設計 AI 繪圖 跨界 應用     求職 服務 中心   服務 時間   週一至 週五     30   21   00   週六   日   國定 假日     00   17   30   服務電話   免費 專線   0800   09   1111   電話   02   8787   1111   轉     下載 找 工作 App   提醒您 信件 1111 人力 銀行 系統 自動 發送   請 勿 直接 回覆   謝謝   第一流 人才   第一 好 工作   通通 1111 人力 銀行   意見 反應   取消 訂閱   全球 華人 股份 有限公司 版權 所有   2023   1111   Job   Bank   All   Rights   Reserved   有職 缺配   職缺配   嗨   陳 璿   寄送 期待 配對 職缺   職位 符合 履歷 大部分 期望 條件   點進 職缺 查看 內容   找到 理想 工作   1111 人力 銀行 職場 成功 合作 夥伴   提供 工作 機會   祝福 求職 成功   履歷   自訂 條件 配對 職缺   配對 條件   餐飲 服務人員   餐廚 助手   洗碗 人員   生鮮 處理 人員   冷熱 飲 調 製 人 員   最新 符合     筆     小提示   適度 放 寬配 條件   推薦 多職 缺給   修改 配對 條件   餐飲 服務人員   饞 鬥鍋物   南 崁 店   外場 工讀   饞 鬥本格 鍋物   饞 鬥鍋物   桃園 市蘆 竹區   時薪   190   以上     顧客 帶位 安排 座位     將菜 單遞 交顧客   答覆有 關餐 飲 問題   必要 時 提供 建議     記錄 顧客 所點 菜餚   通知 廚房 內場 做餐 送餐     上菜 提供 用餐 服務   more   準確 率 回報   應   徵   築田便 當蘆 竹店   外送 人員   億展餐 飲 食品 有限公司   築田便 當連鎖餐 飲店   桃園 市蘆 竹區   時薪   200   以上   餐盒 送到 客戶 手中   並請 客戶 進行 簽收   自備 機車 100cc   125cc   提供 油資津 貼   供餐   more   準確 率 回報   應   徵   最高 時薪 265 元   乾杯 品牌   台茂 外場 計時 社員   聯合 募集   KLCD4   乾杯 股份 有限公司   桃園 市蘆 竹區   時薪   190   265   205 元   含 10 元 PT 津貼 215 元   視經驗 調 整起 薪   最高 可達 265 元   含 10 元津 貼   工作 內容   外場 店員   接待 引導   餐點 酒水 介紹   協助 顧客 點餐   桌邊 服務及 維護 環境   主管 交辦 事項   工作 需求   班別 分為 早   中   晚班     00   00   00   區間 排班   每週 排班   可彈性 調整   假日 配合 排班 佳   歡迎詢 問討論 排班 時間   福利   三節 獎金   每年 健檢 健康 諮 詢   員 工餐   不定期 部門 聚餐   more   幸福 企業   知 名企 業   準確 率 回報   應   徵   職缺 符合 需求   請 告訴   職缺   桃園 台茂   上菜 片皮 鴨 專賣店   領 檯 人員漢來 美食 股份 有限公司 桃園 市蘆 竹區 月薪   32   000   34   000 詳細 內容超 夯川 麻辣 鍋   燒肉   蘆竹店   外場 服務人員 起薪 33000   43500 元聖 保羅餐 廳 股份 有限公司 桃園 市蘆 竹區 月薪   33   000   43   500 詳細 內容 饞 鬥鍋物   南 崁 店   外場 工讀 饞 鬥本格 鍋物 桃園 市蘆 竹區 時薪   190   以上   詳細 內容 饅饅好 食   專櫃 銷售 工讀 生   桃園 台茂 購物 中心   Mum   Mum   饅饅好 食   好 心情 國際 事業 有限公司 桃園 市蘆 竹區 時薪   190   197 詳細 內容 餐廳 服務員永漢 開發 股份 有限公司 桃園 營業 所桃園 市蘆 竹區 月薪   28   590   30   000 詳細 內容   MAGiC   TOUCH 点爭 鮮   台茂店   正職 人員爭 鮮 股份 有限公司 桃園 市蘆 竹區 月薪   38   500   40   500 詳細 內容   築田便 當蘆 竹店   餐飲 工作 人員 億展餐 飲 食品 有限公司 桃園 市蘆 竹區 月薪   35   000   以上   詳細 內容   點水樓   南 崁 店   洗滌 清潔員點 水樓餐 飲事業 股份 有限公司 桃園 市蘆 竹區 月薪   30   000   38   000 詳細 內容   最高 時薪 265 元   乾杯 品牌   台茂 外場 計時 社員   聯合 募集   KLCD4 乾杯 股份 有限公司 桃園 市蘆 竹區 時薪   190   265 詳細 內容 早安 美 芝城   蘆竹長 春 概念 店   早餐   門市 正 職人員 早安 美 芝城 桃園 莊一 概念 店   齊樂 科技 企業 社桃園 市蘆 竹區 月薪   36   000   50   000 詳細 內容   搜尋更 職缺   職場 升級 包   提升 競爭力   學習 六大 外語   快來 領取 最高 20   000 元 補助   郵局 招考   招募 1620 名新血   月薪 勘   萬   想轉 職綠能 產業   政府 新 尖兵 計畫 助攻   成為 ESG 人才   進修 再 出發   SCA   CSP   國際 證照   成就 咖啡 夢想   烘焙 家 必修   烘焙 教學   證照 課   饕客 必學 本領   系統 學習 餐廳 英文   政府 力挺   免費學   3D 設計 AI 繪圖 跨界 應用     求職 服務 中心   服務 時間   週一至 週五     30   21   00   週六   日   國定 假日     00   17   30   服務電話   免費 專線   0800   09   1111   電話   02   8787   1111   轉     下載 找 工作 App   提醒您 信件 1111 人力 銀行 系統 自動 發送   請 勿 直接 回覆   謝謝   第一流 人才   第一 好 工作   通通 1111 人力 銀行   意見 反應   取消 訂閱   全球 華人 股份 有限公司 版權 所有   2023   1111   Job   Bank   All   Rights   Reserved",
         "1"
        ],
        [
         "3",
         "2",
         "  Apple   開立 發票 通知   開立 發票 通知   APPLE   帳號 dana4326172   gmail   com   付款   遠傳 電信   5498   ChenDana   南平 街 Taoyuan   City   TWN   日期 2025 年 03 月 15 日   訂單   IDMSHMBJDYB4   文件 編號 215928413023   發票 期別 202503   202504   發票 號碼 LD50874043   App   Store   LINE   50   LINE   Coin   App   內購 買 項目   就爛   回報 問題   NT   35   總計   NT   35   Apple   Distribution   International   Ltd   網路 銷售 電子 勞務予 中華民國境 內個 人 買 受 人   2019 年 11 月 日起 開立 雲端 發票   方便 查詢 雲端 發票 兌 領統 一發票 中獎 獎金   請 使用   財政部統 一發票 兌獎   APP     財政部 電子 發票 整合 服務 平台   將連 結雲端 發票 之載 具   消費者 電子 郵件 信箱   歸戶 手機 條碼   財政部 提供 查詢 發票   自動 獎及 中獎 主動 通知 服務   如需 取得 訂閱 購買項 目的 輔助 說明   請 參訪   Apple   支援   瞭解   iTunes   Apple   Books     App   Store   購買 項目 管理 密碼 偏好 設定   包含     VATApple   ID   現已 更名   Apple   帳號   使用 相同 電子 郵件 地址 電話 號碼 密碼 登入   Apple   帳號   銷售 條款   隱私權 政策   Copyright   2025   Apple   Distribution   International   Ltd   保留 權利   Hollyhill   Industrial   Estate   Hollyhill   Cork   Ireland   開立 發票 通知   APPLE   帳號 dana4326172   gmail   com   訂單   IDMSHMBJDYB4   文件 編號 215928413023   發票 期別 202503   202504   發票 號碼 LD50874043   日期 2025 年 03 月 15 日   付款   遠傳 電信   5498   ChenDana   南平 街 Taoyuan   City   TWN   App   Store   LINE   50   LINE   Coin   App   內購 買 項目   就爛   回報 問題   NT   35   總計   NT   35   Apple   Distribution   International   Ltd   網路 銷售 電子 勞務予 中華民國境 內個 人 買 受 人   2019 年 11 月 日起 開立 雲端 發票   方便 查詢 雲端 發票 兌 領統 一發票 中獎 獎金   請 使用   財政部統 一發票 兌獎   APP     財政部 電子 發票 整合 服務 平台   將連 結雲端 發票 之載 具   消費者 電子 郵件 信箱   歸戶 手機 條碼   財政部 提供 查詢 發票   自動 獎及 中獎 主動 通知 服務   如需 取得 訂閱 購買項 目的 輔助 說明   請 參訪   Apple   支援   瞭解   iTunes   Apple   Books     App   Store   購買 項目 管理 密碼 偏好 設定   包含     VATApple   ID   現已 更名   Apple   帳號   使用 相同 電子 郵件 地址 電話 號碼 密碼 登入   Apple   帳號   銷售 條款   隱私權 政策   Copyright   2025   Apple   Distribution   International   Ltd   保留 權利   Hollyhill   Industrial   Estate   Hollyhill   Cork   Ireland",
         "1"
        ],
        [
         "4",
         "5",
         "大谷 翔平   準備 好續 集   The   Ohtani   Signature   Collection   New   Balance   男裝   女裝   兒童   展現 大谷 翔平 打擊 投球 雙重 華   精心 設計 系列 包括 場上 風格 場外 必需品   配有 更新 顏色 風格   迎接 新賽季   立即 選購   立即 選購   Shipping   Shipping   會員 購物   400 元 享免 運費   Store   Store   門市 資訊   Shipping   Shipping   會員 購物   400 元 享免 運費   門市 資訊   熱銷 商品   Run   Your   Way   優惠 商品   Instagram   Instagram   Facebook   Facebook   Twitter   Twitter   TikTok   TikTok   瀏覽器 檢閱   取消 訂閱   隱私權 政策   條款 細則   尋求 協助   2025   New   Balance   確保 錯過 特別 優惠   請 電子 信箱 新增 聯絡 人   newbalance   email   newbalance   com   tw   不願意 再 收到 電子 郵件 通知   請 訪 取消 訂 閱頁 面   瀏覽器 檢閱   取消 訂閱   隱私權 政策   條款 細則   尋求 協助   2025   New   Balance   確保 錯過 特別 優惠   請 電子 信箱 新增 聯絡 人   newbalance   email   newbalance   com   tw   不願意 再 收到 電子 郵件 通知   請 訪 取消 訂 閱頁 面",
         "1"
        ]
       ],
       "shape": {
        "columns": 3,
        "rows": 5
       }
      },
      "text/html": [
       "<div>\n",
       "<style scoped>\n",
       "    .dataframe tbody tr th:only-of-type {\n",
       "        vertical-align: middle;\n",
       "    }\n",
       "\n",
       "    .dataframe tbody tr th {\n",
       "        vertical-align: top;\n",
       "    }\n",
       "\n",
       "    .dataframe thead th {\n",
       "        text-align: right;\n",
       "    }\n",
       "</style>\n",
       "<table border=\"1\" class=\"dataframe\">\n",
       "  <thead>\n",
       "    <tr style=\"text-align: right;\">\n",
       "      <th></th>\n",
       "      <th>label</th>\n",
       "      <th>sub_mssg</th>\n",
       "      <th>Category</th>\n",
       "    </tr>\n",
       "  </thead>\n",
       "  <tbody>\n",
       "    <tr>\n",
       "      <th>0</th>\n",
       "      <td>5</td>\n",
       "      <td>The   FuelCell   Rebel   全新 顏色   New   Balance...</td>\n",
       "      <td>1</td>\n",
       "    </tr>\n",
       "    <tr>\n",
       "      <th>1</th>\n",
       "      <td>3</td>\n",
       "      <td>1111 人力 銀行 推薦   桃園 台茂店   涮 乃葉   兼職 人員及 大專 院校 實...</td>\n",
       "      <td>1</td>\n",
       "    </tr>\n",
       "    <tr>\n",
       "      <th>2</th>\n",
       "      <td>3</td>\n",
       "      <td>陳 璿   2025   03   16   履歷職 缺配 通知   職缺配   嗨   陳...</td>\n",
       "      <td>1</td>\n",
       "    </tr>\n",
       "    <tr>\n",
       "      <th>3</th>\n",
       "      <td>2</td>\n",
       "      <td>Apple   開立 發票 通知   開立 發票 通知   APPLE   帳號 dan...</td>\n",
       "      <td>1</td>\n",
       "    </tr>\n",
       "    <tr>\n",
       "      <th>4</th>\n",
       "      <td>5</td>\n",
       "      <td>大谷 翔平   準備 好續 集   The   Ohtani   Signature   C...</td>\n",
       "      <td>1</td>\n",
       "    </tr>\n",
       "  </tbody>\n",
       "</table>\n",
       "</div>"
      ],
      "text/plain": [
       "   label                                           sub_mssg  Category\n",
       "0      5  The   FuelCell   Rebel   全新 顏色   New   Balance...         1\n",
       "1      3  1111 人力 銀行 推薦   桃園 台茂店   涮 乃葉   兼職 人員及 大專 院校 實...         1\n",
       "2      3  陳 璿   2025   03   16   履歷職 缺配 通知   職缺配   嗨   陳...         1\n",
       "3      2    Apple   開立 發票 通知   開立 發票 通知   APPLE   帳號 dan...         1\n",
       "4      5  大谷 翔平   準備 好續 集   The   Ohtani   Signature   C...         1"
      ]
     },
     "execution_count": 28,
     "metadata": {},
     "output_type": "execute_result"
    }
   ],
   "source": [
    "df['Category'] = df['label'].apply(lambda x: 0 if x == 0 else 1)\n",
    "df.head()"
   ]
  },
  {
   "cell_type": "code",
   "execution_count": 29,
   "id": "494fc852",
   "metadata": {},
   "outputs": [],
   "source": [
    "from sklearn.model_selection import train_test_split\n",
    "X_train, X_test, y_train, y_test = train_test_split(X, df['Category'], test_size=0.2, random_state=42, shuffle=True)"
   ]
  },
  {
   "cell_type": "code",
   "execution_count": 30,
   "id": "9edb45c9",
   "metadata": {},
   "outputs": [
    {
     "data": {
      "text/plain": [
       "((2400, 9523), (600, 9523), (2400,), (600,))"
      ]
     },
     "execution_count": 30,
     "metadata": {},
     "output_type": "execute_result"
    }
   ],
   "source": [
    "X_train.shape, X_test.shape, y_train.shape, y_test.shape"
   ]
  },
  {
   "cell_type": "code",
   "execution_count": 31,
   "id": "d869b645",
   "metadata": {},
   "outputs": [],
   "source": [
    "from sklearn.neighbors import KNeighborsClassifier\n",
    "\n",
    "knn = KNeighborsClassifier()\n",
    "model = knn.fit(X_train, y_train)"
   ]
  },
  {
   "cell_type": "code",
   "execution_count": null,
   "id": "d7e6ac32",
   "metadata": {},
   "outputs": [],
   "source": [
    "\n",
    "y_pred = model.predict(X_test)\n",
    "y_pred = (y_pred > 0.5).astype(int)\n",
    "\n"
   ]
  },
  {
   "cell_type": "code",
   "execution_count": 33,
   "id": "22316b91",
   "metadata": {},
   "outputs": [
    {
     "name": "stdout",
     "output_type": "stream",
     "text": [
      "Precision: 0.9975786924939467\n",
      "Recall: 0.9951690821256038\n",
      "F1-score: 0.9963724304715841\n",
      "Accuracy: 0.995\n",
      "Confusion Matrix for Test : \n",
      " [[185   1]\n",
      " [  2 412]]\n"
     ]
    }
   ],
   "source": [
    "from sklearn.metrics import precision_score, recall_score, f1_score, accuracy_score, confusion_matrix\n",
    "\n",
    "print(\"Precision:\", precision_score(y_test, y_pred))\n",
    "print(\"Recall:\", recall_score(y_test, y_pred))\n",
    "print(\"F1-score:\", f1_score(y_test, y_pred))\n",
    "print(\"Accuracy:\", accuracy_score(y_test, y_pred))\n",
    "print(\"Confusion Matrix for Test : \\n\", confusion_matrix(y_test, y_pred))\n"
   ]
  }
 ],
 "metadata": {
  "kernelspec": {
   "display_name": "tf_py",
   "language": "python",
   "name": "python3"
  },
  "language_info": {
   "codemirror_mode": {
    "name": "ipython",
    "version": 3
   },
   "file_extension": ".py",
   "mimetype": "text/x-python",
   "name": "python",
   "nbconvert_exporter": "python",
   "pygments_lexer": "ipython3",
   "version": "3.10.8"
  }
 },
 "nbformat": 4,
 "nbformat_minor": 5
}
