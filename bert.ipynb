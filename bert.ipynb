{
 "cells": [
  {
   "cell_type": "code",
   "execution_count": 1,
   "metadata": {},
   "outputs": [
    {
     "name": "stderr",
     "output_type": "stream",
     "text": [
      "d:\\文大專題\\program\\Lingspam\\.venv\\lib\\site-packages\\tqdm\\auto.py:21: TqdmWarning: IProgress not found. Please update jupyter and ipywidgets. See https://ipywidgets.readthedocs.io/en/stable/user_install.html\n",
      "  from .autonotebook import tqdm as notebook_tqdm\n"
     ]
    }
   ],
   "source": [
    "import pandas as pd\n",
    "import numpy as np\n",
    "import tensorflow as tf\n",
    "from sklearn.model_selection import train_test_split\n",
    "from transformers import TFAutoModel, AutoTokenizer\n",
    "from datasets import Dataset\n",
    "import matplotlib.pyplot as plt\n",
    "import seaborn as sns\n",
    "from sklearn.metrics import classification_report, confusion_matrix\n",
    "import collections"
   ]
  },
  {
   "cell_type": "code",
   "execution_count": null,
   "metadata": {},
   "outputs": [],
   "source": [
    "# 1. 讀取資料（已更新為新的 CSV 檔案）\n",
    "file_path = \"test(2).csv\"\n",
    "df = pd.read_csv(file_path)"
   ]
  },
  {
   "cell_type": "code",
   "execution_count": 3,
   "metadata": {},
   "outputs": [
    {
     "name": "stdout",
     "output_type": "stream",
     "text": [
      "label 欄位內容（前 10 筆）：\n",
      "0    5.0\n",
      "1    3.0\n",
      "2    3.0\n",
      "3    2.0\n",
      "4    5.0\n",
      "5    2.0\n",
      "6    3.0\n",
      "7    5.0\n",
      "8    2.0\n",
      "9    5.0\n",
      "Name: label, dtype: float64\n",
      "label 欄位型態： float64\n",
      "有多少 NaN： 1\n"
     ]
    }
   ],
   "source": [
    "# 檢查 label 欄位內容\n",
    "print(\"label 欄位內容（前 10 筆）：\")\n",
    "print(df['label'].head(10))\n",
    "print(\"label 欄位型態：\", df['label'].dtype)\n",
    "print(\"有多少 NaN：\", df['label'].isna().sum())"
   ]
  },
  {
   "cell_type": "code",
   "execution_count": 4,
   "metadata": {},
   "outputs": [],
   "source": [
    "# 正確處理：移除 NaN，直接轉 int\n",
    "df = df.dropna(subset=['label'])                # 移除 NaN\n",
    "df['label'] = df['label'].astype(int)           # 直接轉 int"
   ]
  },
  {
   "cell_type": "code",
   "execution_count": 5,
   "metadata": {},
   "outputs": [
    {
     "name": "stdout",
     "output_type": "stream",
     "text": [
      "資料集內 label 類型: [1, 2, 3, 4, 5, 6]\n"
     ]
    }
   ],
   "source": [
    "# 再次確認 label 是否正常（應該都是 0~6）\n",
    "print(\"資料集內 label 類型:\", sorted(df['label'].unique()))"
   ]
  },
  {
   "cell_type": "code",
   "execution_count": 6,
   "metadata": {},
   "outputs": [],
   "source": [
    "# 2. 合併主旨與內容作為輸入文字（不清理超連結與 email）\n",
    "texts = [(subject if pd.notnull(subject) else '') + ' ' + (message if pd.notnull(message) else '')\n",
    "         for subject, message in zip(df['subject'], df['message'])]\n",
    "labels = df['label'].tolist()"
   ]
  },
  {
   "cell_type": "code",
   "execution_count": 7,
   "metadata": {},
   "outputs": [
    {
     "name": "stdout",
     "output_type": "stream",
     "text": [
      "整個資料集 各類別數量:\n",
      "類別 1: 54 筆\n",
      "類別 2: 421 筆\n",
      "類別 3: 586 筆\n",
      "類別 4: 452 筆\n",
      "類別 5: 304 筆\n",
      "類別 6: 181 筆\n"
     ]
    }
   ],
   "source": [
    "# 顯示各類別數量\n",
    "label_counts = collections.Counter(labels)\n",
    "print(\"整個資料集 各類別數量:\")\n",
    "for label, count in sorted(label_counts.items()):\n",
    "    print(f\"類別 {label}: {count} 筆\")"
   ]
  },
  {
   "cell_type": "code",
   "execution_count": 8,
   "metadata": {},
   "outputs": [
    {
     "name": "stderr",
     "output_type": "stream",
     "text": [
      "d:\\文大專題\\program\\Lingspam\\.venv\\lib\\site-packages\\huggingface_hub\\file_download.py:896: FutureWarning: `resume_download` is deprecated and will be removed in version 1.0.0. Downloads always resume when possible. If you want to force a new download, use `force_download=True`.\n",
      "  warnings.warn(\n"
     ]
    }
   ],
   "source": [
    "# 3. 設定中文 BERT 模型與 tokenizer\n",
    "MODEL_NAME = \"hfl/chinese-roberta-wwm-ext\"\n",
    "tokenizer = AutoTokenizer.from_pretrained(MODEL_NAME)"
   ]
  },
  {
   "cell_type": "code",
   "execution_count": 9,
   "metadata": {},
   "outputs": [],
   "source": [
    "# 4. 切分訓練/驗證集\n",
    "train_texts, val_texts, train_labels, val_labels = train_test_split(\n",
    "    texts, labels, test_size=0.2, random_state=42)"
   ]
  },
  {
   "cell_type": "code",
   "execution_count": 10,
   "metadata": {},
   "outputs": [
    {
     "name": "stdout",
     "output_type": "stream",
     "text": [
      "\n",
      "訓練集 各類別數量:\n",
      "類別 1: 40 筆\n",
      "類別 2: 341 筆\n",
      "類別 3: 472 筆\n",
      "類別 4: 364 筆\n",
      "類別 5: 229 筆\n",
      "類別 6: 152 筆\n",
      "\n",
      "驗證集 各類別數量:\n",
      "類別 1: 14 筆\n",
      "類別 2: 80 筆\n",
      "類別 3: 114 筆\n",
      "類別 4: 88 筆\n",
      "類別 5: 75 筆\n",
      "類別 6: 29 筆\n"
     ]
    }
   ],
   "source": [
    "# 顯示訓練集與驗證集各類別數量\n",
    "train_label_counts = collections.Counter(train_labels)\n",
    "print(\"\\n訓練集 各類別數量:\")\n",
    "for label, count in sorted(train_label_counts.items()):\n",
    "    print(f\"類別 {label}: {count} 筆\")\n",
    "\n",
    "val_label_counts = collections.Counter(val_labels)\n",
    "print(\"\\n驗證集 各類別數量:\")\n",
    "for label, count in sorted(val_label_counts.items()):\n",
    "    print(f\"類別 {label}: {count} 筆\")"
   ]
  },
  {
   "cell_type": "code",
   "execution_count": 11,
   "metadata": {},
   "outputs": [
    {
     "name": "stderr",
     "output_type": "stream",
     "text": [
      "Map: 100%|██████████| 1598/1598 [00:00<00:00, 3860.83 examples/s]\n",
      "Map: 100%|██████████| 400/400 [00:00<00:00, 2920.78 examples/s]\n"
     ]
    }
   ],
   "source": [
    "# 5. 編碼資料\n",
    "def tokenize_function(examples):\n",
    "    return tokenizer(examples[\"text\"], padding=\"max_length\", truncation=True, max_length=128)\n",
    "\n",
    "train_ds = Dataset.from_dict({\"text\": train_texts, \"label\": train_labels}).map(tokenize_function, batched=True)\n",
    "val_ds = Dataset.from_dict({\"text\": val_texts, \"label\": val_labels}).map(tokenize_function, batched=True)"
   ]
  },
  {
   "cell_type": "code",
   "execution_count": 12,
   "metadata": {},
   "outputs": [],
   "source": [
    "# 6. 轉為 TensorFlow 格式\n",
    "train_tfds = train_ds.to_tf_dataset(\n",
    "    columns=[\"input_ids\", \"attention_mask\"],\n",
    "    label_cols=\"label\",\n",
    "    shuffle=True,\n",
    "    batch_size=16,\n",
    ")\n",
    "val_tfds = val_ds.to_tf_dataset(\n",
    "    columns=[\"input_ids\", \"attention_mask\"],\n",
    "    label_cols=\"label\",\n",
    "    shuffle=False,\n",
    "    batch_size=16,\n",
    ")"
   ]
  },
  {
   "cell_type": "code",
   "execution_count": 13,
   "metadata": {},
   "outputs": [
    {
     "name": "stderr",
     "output_type": "stream",
     "text": [
      "All model checkpoint layers were used when initializing TFBertModel.\n",
      "\n",
      "All the layers of TFBertModel were initialized from the model checkpoint at hfl/chinese-roberta-wwm-ext.\n",
      "If your task is similar to the task the model of the checkpoint was trained on, you can already use TFBertModel for predictions without further training.\n"
     ]
    }
   ],
   "source": [
    "# 7. 構建模型\n",
    "encoder = TFAutoModel.from_pretrained(MODEL_NAME)\n",
    "input_ids = tf.keras.Input(shape=(128,), dtype=tf.int32, name=\"input_ids\")\n",
    "attention_mask = tf.keras.Input(shape=(128,), dtype=tf.int32, name=\"attention_mask\")\n",
    "\n",
    "embedding = encoder(input_ids, attention_mask=attention_mask)[1]  # pooled output\n",
    "output = tf.keras.layers.Dense(7, activation=\"softmax\")(embedding)\n",
    "model = tf.keras.Model(inputs=[input_ids, attention_mask], outputs=output)"
   ]
  },
  {
   "cell_type": "code",
   "execution_count": 14,
   "metadata": {},
   "outputs": [],
   "source": [
    "# 8. 編譯模型（降低 learning rate，防止 loss 爆炸）\n",
    "model.compile(optimizer=tf.keras.optimizers.Adam(learning_rate=1e-5),\n",
    "              loss=tf.keras.losses.SparseCategoricalCrossentropy(),\n",
    "              metrics=[\"accuracy\"])\n"
   ]
  },
  {
   "cell_type": "code",
   "execution_count": 15,
   "metadata": {},
   "outputs": [
    {
     "name": "stdout",
     "output_type": "stream",
     "text": [
      "Epoch 1/3\n",
      "100/100 [==============================] - 28s 212ms/step - loss: 0.5197 - accuracy: 0.8442 - val_loss: 0.1474 - val_accuracy: 0.9450\n",
      "Epoch 2/3\n",
      "100/100 [==============================] - 20s 203ms/step - loss: 0.0953 - accuracy: 0.9787 - val_loss: 0.0869 - val_accuracy: 0.9775\n",
      "Epoch 3/3\n",
      "100/100 [==============================] - 20s 200ms/step - loss: 0.0420 - accuracy: 0.9937 - val_loss: 0.0750 - val_accuracy: 0.9825\n"
     ]
    },
    {
     "data": {
      "text/plain": [
       "<keras.callbacks.History at 0x21407ff9940>"
      ]
     },
     "execution_count": 15,
     "metadata": {},
     "output_type": "execute_result"
    }
   ],
   "source": [
    "# 9. 訓練模型\n",
    "model.fit(train_tfds, validation_data=val_tfds, epochs=3)"
   ]
  },
  {
   "cell_type": "code",
   "execution_count": 16,
   "metadata": {},
   "outputs": [
    {
     "name": "stdout",
     "output_type": "stream",
     "text": [
      "25/25 [==============================] - 3s 63ms/step\n",
      "\n",
      "Classification Report:\n",
      "\n",
      "              precision    recall  f1-score   support\n",
      "\n",
      "           1     1.0000    1.0000    1.0000        14\n",
      "           2     0.9639    1.0000    0.9816        80\n",
      "           3     1.0000    1.0000    1.0000       114\n",
      "           4     0.9778    1.0000    0.9888        88\n",
      "           5     0.9867    0.9867    0.9867        75\n",
      "           6     0.9583    0.7931    0.8679        29\n",
      "\n",
      "    accuracy                         0.9825       400\n",
      "   macro avg     0.9811    0.9633    0.9708       400\n",
      "weighted avg     0.9824    0.9825    0.9818       400\n",
      "\n"
     ]
    },
    {
     "data": {
      "image/png": "[encoded data removed]",
      "text/plain": [
       "<Figure size 800x600 with 2 Axes>"
      ]
     },
     "metadata": {},
     "output_type": "display_data"
    }
   ],
   "source": [
    "# 10. 驗證分析（classification report 與混淆矩陣）\n",
    "pred_probs = model.predict(val_tfds)\n",
    "pred_labels = np.argmax(pred_probs, axis=1)\n",
    "true_labels = np.array(val_labels)\n",
    "\n",
    "print(\"\\nClassification Report:\\n\")\n",
    "print(classification_report(true_labels, pred_labels, digits=4))\n",
    "\n",
    "cm = confusion_matrix(true_labels, pred_labels)\n",
    "plt.figure(figsize=(8,6))\n",
    "sns.heatmap(cm, annot=True, fmt='d', cmap='Blues', xticklabels=range(7), yticklabels=range(7))\n",
    "plt.xlabel(\"Predicted\")\n",
    "plt.ylabel(\"True\")\n",
    "plt.title(\"Confusion Matrix\")\n",
    "plt.show()"
   ]
  }
 ],
 "metadata": {
  "kernelspec": {
   "display_name": ".venv",
   "language": "python",
   "name": "python3"
  },
  "language_info": {
   "codemirror_mode": {
    "name": "ipython",
    "version": 3
   },
   "file_extension": ".py",
   "mimetype": "text/x-python",
   "name": "python",
   "nbconvert_exporter": "python",
   "pygments_lexer": "ipython3",
   "version": "3.9.2"
  }
 },
 "nbformat": 4,
 "nbformat_minor": 2
}
