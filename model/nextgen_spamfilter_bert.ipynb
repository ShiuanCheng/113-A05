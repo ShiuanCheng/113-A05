{
 "cells": [
  {
   "cell_type": "markdown",
   "id": "e53401c7",
   "metadata": {},
   "source": [
    "# 📘 Next-Generation Spam Filtering - BERT 中文分類模型"
   ]
  },
  {
   "cell_type": "markdown",
   "id": "f98f07b3",
   "metadata": {},
   "source": [
    "## 📦 第 1 部分：匯入必要套件"
   ]
  },
  {
   "cell_type": "code",
   "execution_count": 1,
   "id": "ccf6e703",
   "metadata": {},
   "outputs": [
    {
     "name": "stderr",
     "output_type": "stream",
     "text": [
      "d:\\文大專題\\program\\Lingspam\\.venv\\lib\\site-packages\\tqdm\\auto.py:21: TqdmWarning: IProgress not found. Please update jupyter and ipywidgets. See https://ipywidgets.readthedocs.io/en/stable/user_install.html\n",
      "  from .autonotebook import tqdm as notebook_tqdm\n"
     ]
    }
   ],
   "source": [
    "\n",
    "import pandas as pd\n",
    "import re\n",
    "import tensorflow as tf\n",
    "from sklearn.model_selection import train_test_split\n",
    "from sklearn.preprocessing import LabelEncoder\n",
    "from sklearn.metrics import classification_report, confusion_matrix\n",
    "from tensorflow.keras.utils import to_categorical\n",
    "from transformers import AutoTokenizer, TFAutoModelForSequenceClassification\n",
    "import matplotlib.pyplot as plt\n",
    "import seaborn as sns\n"
   ]
  },
  {
   "cell_type": "markdown",
   "id": "851a3a18",
   "metadata": {},
   "source": [
    "## 📑 第 2 部分：讀取與前處理資料"
   ]
  },
  {
   "cell_type": "code",
   "execution_count": 2,
   "id": "de8ee1c1",
   "metadata": {},
   "outputs": [
    {
     "data": {
      "text/html": [
       "<div>\n",
       "<style scoped>\n",
       "    .dataframe tbody tr th:only-of-type {\n",
       "        vertical-align: middle;\n",
       "    }\n",
       "\n",
       "    .dataframe tbody tr th {\n",
       "        vertical-align: top;\n",
       "    }\n",
       "\n",
       "    .dataframe thead th {\n",
       "        text-align: right;\n",
       "    }\n",
       "</style>\n",
       "<table border=\"1\" class=\"dataframe\">\n",
       "  <thead>\n",
       "    <tr style=\"text-align: right;\">\n",
       "      <th></th>\n",
       "      <th>text</th>\n",
       "      <th>text_clean</th>\n",
       "    </tr>\n",
       "  </thead>\n",
       "  <tbody>\n",
       "    <tr>\n",
       "      <th>0</th>\n",
       "      <td>The FuelCell Rebel 全新顏色\\n\\nNew Balance\\nhttps:...</td>\n",
       "      <td>the fuelcell rebel 全新顏色\\n\\nnew balance\\n\\n\\n\\n...</td>\n",
       "    </tr>\n",
       "    <tr>\n",
       "      <th>1</th>\n",
       "      <td>1111人力銀行推薦 -【桃園台茂店【涮乃葉】兼職人員及大專院校實習】 \\n    \\n  ...</td>\n",
       "      <td>1111人力銀行推薦 桃園台茂店涮乃葉兼職人員及大專院校實習 \\n    \\n    轉寄履...</td>\n",
       "    </tr>\n",
       "    <tr>\n",
       "      <th>2</th>\n",
       "      <td>陳任璿-2025/03/16 履歷職缺配對通知 \\n  職缺配對              ...</td>\n",
       "      <td>陳任璿20250316 履歷職缺配對通知 \\n  職缺配對                 ...</td>\n",
       "    </tr>\n",
       "    <tr>\n",
       "      <th>3</th>\n",
       "      <td>你的 Apple 開立發票通知 \\n \\n開立發票通知\\n\\n\\n            A...</td>\n",
       "      <td>你的 apple 開立發票通知 \\n \\n開立發票通知\\n\\n\\n            a...</td>\n",
       "    </tr>\n",
       "    <tr>\n",
       "      <th>4</th>\n",
       "      <td>大谷翔平，準備好續集 The Ohtani Signature Collection\\n\\n...</td>\n",
       "      <td>大谷翔平準備好續集 the ohtani signature collection\\n\\nn...</td>\n",
       "    </tr>\n",
       "  </tbody>\n",
       "</table>\n",
       "</div>"
      ],
      "text/plain": [
       "                                                text  \\\n",
       "0  The FuelCell Rebel 全新顏色\\n\\nNew Balance\\nhttps:...   \n",
       "1  1111人力銀行推薦 -【桃園台茂店【涮乃葉】兼職人員及大專院校實習】 \\n    \\n  ...   \n",
       "2  陳任璿-2025/03/16 履歷職缺配對通知 \\n  職缺配對              ...   \n",
       "3  你的 Apple 開立發票通知 \\n \\n開立發票通知\\n\\n\\n            A...   \n",
       "4  大谷翔平，準備好續集 The Ohtani Signature Collection\\n\\n...   \n",
       "\n",
       "                                          text_clean  \n",
       "0  the fuelcell rebel 全新顏色\\n\\nnew balance\\n\\n\\n\\n...  \n",
       "1  1111人力銀行推薦 桃園台茂店涮乃葉兼職人員及大專院校實習 \\n    \\n    轉寄履...  \n",
       "2  陳任璿20250316 履歷職缺配對通知 \\n  職缺配對                 ...  \n",
       "3  你的 apple 開立發票通知 \\n \\n開立發票通知\\n\\n\\n            a...  \n",
       "4  大谷翔平準備好續集 the ohtani signature collection\\n\\nn...  "
      ]
     },
     "execution_count": 2,
     "metadata": {},
     "output_type": "execute_result"
    }
   ],
   "source": [
    "\n",
    "df = pd.read_csv(\"test.csv\")\n",
    "df[\"text\"] = df[\"subject\"].fillna('') + \" \" + df[\"message\"].fillna('')\n",
    "\n",
    "# 資料預處理：移除網址、符號、轉小寫\n",
    "def clean_text(text):\n",
    "    text = re.sub(r'https?://\\S+', '', text)\n",
    "    text = re.sub(r'[^\\u4e00-\\u9fffa-zA-Z0-9\\s]', '', text)\n",
    "    return text.lower().strip()\n",
    "\n",
    "df[\"text_clean\"] = df[\"text\"].apply(clean_text)\n",
    "\n",
    "# 顯示前處理前後前 5 筆\n",
    "df[[\"text\", \"text_clean\"]].head()\n"
   ]
  },
  {
   "cell_type": "markdown",
   "id": "ef160951",
   "metadata": {},
   "source": [
    "## 📊 第 3 部分：類別統計與可視化"
   ]
  },
  {
   "cell_type": "code",
   "execution_count": 3,
   "id": "5c8a0d1a",
   "metadata": {},
   "outputs": [
    {
     "name": "stderr",
     "output_type": "stream",
     "text": [
      "C:\\Users\\user\\AppData\\Local\\Temp\\ipykernel_29212\\3690294973.py:9: UserWarning: Glyph 20998 (\\N{CJK UNIFIED IDEOGRAPH-5206}) missing from current font.\n",
      "  plt.tight_layout()\n",
      "C:\\Users\\user\\AppData\\Local\\Temp\\ipykernel_29212\\3690294973.py:9: UserWarning: Glyph 24067 (\\N{CJK UNIFIED IDEOGRAPH-5E03}) missing from current font.\n",
      "  plt.tight_layout()\n",
      "C:\\Users\\user\\AppData\\Local\\Temp\\ipykernel_29212\\3690294973.py:9: UserWarning: Glyph 65288 (\\N{FULLWIDTH LEFT PARENTHESIS}) missing from current font.\n",
      "  plt.tight_layout()\n",
      "C:\\Users\\user\\AppData\\Local\\Temp\\ipykernel_29212\\3690294973.py:9: UserWarning: Glyph 65289 (\\N{FULLWIDTH RIGHT PARENTHESIS}) missing from current font.\n",
      "  plt.tight_layout()\n",
      "d:\\文大專題\\program\\Lingspam\\.venv\\lib\\site-packages\\IPython\\core\\pylabtools.py:152: UserWarning: Glyph 20998 (\\N{CJK UNIFIED IDEOGRAPH-5206}) missing from current font.\n",
      "  fig.canvas.print_figure(bytes_io, **kw)\n",
      "d:\\文大專題\\program\\Lingspam\\.venv\\lib\\site-packages\\IPython\\core\\pylabtools.py:152: UserWarning: Glyph 24067 (\\N{CJK UNIFIED IDEOGRAPH-5E03}) missing from current font.\n",
      "  fig.canvas.print_figure(bytes_io, **kw)\n",
      "d:\\文大專題\\program\\Lingspam\\.venv\\lib\\site-packages\\IPython\\core\\pylabtools.py:152: UserWarning: Glyph 65288 (\\N{FULLWIDTH LEFT PARENTHESIS}) missing from current font.\n",
      "  fig.canvas.print_figure(bytes_io, **kw)\n",
      "d:\\文大專題\\program\\Lingspam\\.venv\\lib\\site-packages\\IPython\\core\\pylabtools.py:152: UserWarning: Glyph 65289 (\\N{FULLWIDTH RIGHT PARENTHESIS}) missing from current font.\n",
      "  fig.canvas.print_figure(bytes_io, **kw)\n"
     ]
    },
    {
     "data": {
      "image/png": "[encoded data removed]",
      "text/plain": [
       "<Figure size 800x500 with 1 Axes>"
      ]
     },
     "metadata": {},
     "output_type": "display_data"
    }
   ],
   "source": [
    "\n",
    "label_counts = df[\"label\"].value_counts().sort_index()\n",
    "plt.figure(figsize=(8,5))\n",
    "label_counts.plot(kind=\"bar\", color=\"orange\")\n",
    "plt.title(\"Label 分布（0~6）\")\n",
    "plt.xlabel(\"Label\")\n",
    "plt.ylabel(\"Count\")\n",
    "plt.grid(axis=\"y\")\n",
    "plt.xticks(rotation=0)\n",
    "plt.tight_layout()\n",
    "plt.show()\n"
   ]
  },
  {
   "cell_type": "markdown",
   "id": "14be83b4",
   "metadata": {},
   "source": [
    "## ✂️ 第 4 部分：Tokenizer 編碼與資料分割"
   ]
  },
  {
   "cell_type": "code",
   "execution_count": 4,
   "id": "e8606893",
   "metadata": {},
   "outputs": [
    {
     "name": "stderr",
     "output_type": "stream",
     "text": [
      "d:\\文大專題\\program\\Lingspam\\.venv\\lib\\site-packages\\huggingface_hub\\file_download.py:896: FutureWarning: `resume_download` is deprecated and will be removed in version 1.0.0. Downloads always resume when possible. If you want to force a new download, use `force_download=True`.\n",
      "  warnings.warn(\n"
     ]
    },
    {
     "data": {
      "text/plain": [
       "'[CLS] 凱 基 證 券 投 資 人 最 關 心 的 資 產 配 置 要 角 海 外 債 接 下 來 如 何 布 局 贈 獎 通 知 投 資 朋 友 們 好 關 稅 話 題 持 續 延 燒 資 金 大 量 湧 入 美 債 市 場 如 何 趁 勝 追 擊 抓 住 新 契 機 歡 迎 報 名 線 上 講 座 投 資 自 己 聚 焦 未 來 歡 迎 體 驗 台 股 模 擬 交 易 凱 基 證 券 股 份 有 限 公 司 客 服 專 線 0223890088 0800085005 智 能 客 服 地 址 台 北 市 明 水 路 [SEP]'"
      ]
     },
     "execution_count": 4,
     "metadata": {},
     "output_type": "execute_result"
    }
   ],
   "source": [
    "\n",
    "label_encoder = LabelEncoder()\n",
    "df[\"encoded_label\"] = label_encoder.fit_transform(df[\"label\"])\n",
    "\n",
    "X_train, X_test, y_train, y_test = train_test_split(\n",
    "    df[\"text_clean\"], df[\"encoded_label\"], test_size=0.2, random_state=42, stratify=df[\"encoded_label\"]\n",
    ")\n",
    "\n",
    "tokenizer = AutoTokenizer.from_pretrained(\"bert-base-chinese\")\n",
    "MAX_LEN = 128\n",
    "BATCH_SIZE = 16\n",
    "\n",
    "def encode_texts(texts, tokenizer, max_len):\n",
    "    return tokenizer(\n",
    "        list(texts),\n",
    "        max_length=max_len,\n",
    "        padding=\"max_length\",\n",
    "        truncation=True,\n",
    "        return_tensors=\"tf\"\n",
    "    )\n",
    "\n",
    "train_enc = encode_texts(X_train, tokenizer, MAX_LEN)\n",
    "test_enc = encode_texts(X_test, tokenizer, MAX_LEN)\n",
    "\n",
    "# 顯示 tokenizer 處理結果 sample\n",
    "tokenizer.decode(train_enc[\"input_ids\"][0])\n"
   ]
  },
  {
   "cell_type": "markdown",
   "id": "0975d17a",
   "metadata": {},
   "source": [
    "## 📦 第 5 部分：轉換成 TensorFlow Dataset"
   ]
  },
  {
   "cell_type": "code",
   "execution_count": 5,
   "id": "bf0b6cae",
   "metadata": {},
   "outputs": [
    {
     "name": "stdout",
     "output_type": "stream",
     "text": [
      "全體資料集 各類別數量：\n",
      "類別 0：300 筆\n",
      "類別 1：55 筆\n",
      "類別 2：422 筆\n",
      "類別 3：586 筆\n",
      "類別 4：452 筆\n",
      "類別 5：304 筆\n",
      "類別 6：181 筆\n",
      "\n",
      "訓練集 各類別數量：\n",
      "類別 0：240 筆\n",
      "類別 1：44 筆\n",
      "類別 2：338 筆\n",
      "類別 3：469 筆\n",
      "類別 4：361 筆\n",
      "類別 5：243 筆\n",
      "類別 6：145 筆\n",
      "\n",
      "驗證集 各類別數量：\n",
      "類別 0：60 筆\n",
      "類別 1：11 筆\n",
      "類別 2：84 筆\n",
      "類別 3：117 筆\n",
      "類別 4：91 筆\n",
      "類別 5：61 筆\n",
      "類別 6：36 筆\n",
      "\n"
     ]
    }
   ],
   "source": [
    "\n",
    "from collections import Counter\n",
    "\n",
    "def print_counter(title, counter_dict):\n",
    "    print(f\"{title} 各類別數量：\")\n",
    "    for k in sorted(counter_dict):\n",
    "        print(f\"類別 {k}：{counter_dict[k]} 筆\")\n",
    "    print()\n",
    "\n",
    "print_counter(\"全體資料集\", Counter(df[\"label\"]))\n",
    "print_counter(\"訓練集\", Counter(y_train))\n",
    "print_counter(\"驗證集\", Counter(y_test))\n"
   ]
  },
  {
   "cell_type": "code",
   "execution_count": 6,
   "id": "d40962c6",
   "metadata": {},
   "outputs": [],
   "source": [
    "\n",
    "train_dataset = tf.data.Dataset.from_tensor_slices((\n",
    "    dict(train_enc),\n",
    "    to_categorical(y_train, num_classes=7)\n",
    ")).shuffle(1000).batch(BATCH_SIZE, drop_remainder=True).prefetch(tf.data.AUTOTUNE)\n",
    "\n",
    "test_dataset = tf.data.Dataset.from_tensor_slices((\n",
    "    dict(test_enc),\n",
    "    to_categorical(y_test, num_classes=7)\n",
    ")).batch(BATCH_SIZE, drop_remainder=True).prefetch(tf.data.AUTOTUNE)\n"
   ]
  },
  {
   "cell_type": "markdown",
   "id": "29f210a5",
   "metadata": {},
   "source": [
    "## 🧠 第 6 部分：建立並編譯模型"
   ]
  },
  {
   "cell_type": "code",
   "execution_count": 7,
   "id": "7eb09d04",
   "metadata": {},
   "outputs": [
    {
     "name": "stderr",
     "output_type": "stream",
     "text": [
      "All PyTorch model weights were used when initializing TFBertForSequenceClassification.\n",
      "\n",
      "Some weights or buffers of the TF 2.0 model TFBertForSequenceClassification were not initialized from the PyTorch model and are newly initialized: ['classifier.weight', 'classifier.bias']\n",
      "You should probably TRAIN this model on a down-stream task to be able to use it for predictions and inference.\n"
     ]
    },
    {
     "name": "stdout",
     "output_type": "stream",
     "text": [
      "Model: \"tf_bert_for_sequence_classification\"\n",
      "_________________________________________________________________\n",
      " Layer (type)                Output Shape              Param #   \n",
      "=================================================================\n",
      " bert (TFBertMainLayer)      multiple                  102267648 \n",
      "                                                                 \n",
      " dropout_37 (Dropout)        multiple                  0         \n",
      "                                                                 \n",
      " classifier (Dense)          multiple                  5383      \n",
      "                                                                 \n",
      "=================================================================\n",
      "Total params: 102,273,031\n",
      "Trainable params: 102,273,031\n",
      "Non-trainable params: 0\n",
      "_________________________________________________________________\n"
     ]
    }
   ],
   "source": [
    "\n",
    "model = TFAutoModelForSequenceClassification.from_pretrained(\"bert-base-chinese\", num_labels=7)\n",
    "optimizer = tf.keras.optimizers.Adam(learning_rate=3e-5)\n",
    "loss = tf.keras.losses.CategoricalCrossentropy(from_logits=True)\n",
    "model.compile(optimizer=optimizer, loss=loss, metrics=[\"accuracy\"])\n",
    "model.summary()\n"
   ]
  },
  {
   "cell_type": "markdown",
   "id": "9db34ab3",
   "metadata": {},
   "source": [
    "## 🔁 第 7 部分：模型訓練"
   ]
  },
  {
   "cell_type": "code",
   "execution_count": 8,
   "id": "c5314603",
   "metadata": {},
   "outputs": [
    {
     "name": "stdout",
     "output_type": "stream",
     "text": [
      "Epoch 1/3\n",
      "115/115 [==============================] - 43s 322ms/step - loss: 0.5726 - accuracy: 0.8587 - val_loss: 0.1514 - val_accuracy: 0.9643\n",
      "Epoch 2/3\n",
      "115/115 [==============================] - 35s 308ms/step - loss: 0.1296 - accuracy: 0.9728 - val_loss: 0.1110 - val_accuracy: 0.9732\n",
      "Epoch 3/3\n",
      "115/115 [==============================] - 35s 301ms/step - loss: 0.0684 - accuracy: 0.9842 - val_loss: 0.0806 - val_accuracy: 0.9777\n"
     ]
    }
   ],
   "source": [
    "\n",
    "history = model.fit(train_dataset, epochs=3, validation_data=test_dataset)\n"
   ]
  },
  {
   "cell_type": "markdown",
   "id": "c8946dbc",
   "metadata": {},
   "source": [
    "## 📈 第 8 部分：訓練過程視覺化"
   ]
  },
  {
   "cell_type": "code",
   "execution_count": 9,
   "id": "ef6beeef",
   "metadata": {},
   "outputs": [
    {
     "name": "stderr",
     "output_type": "stream",
     "text": [
      "d:\\文大專題\\program\\Lingspam\\.venv\\lib\\site-packages\\IPython\\core\\pylabtools.py:152: UserWarning: Glyph 35347 (\\N{CJK UNIFIED IDEOGRAPH-8A13}) missing from current font.\n",
      "  fig.canvas.print_figure(bytes_io, **kw)\n",
      "d:\\文大專題\\program\\Lingspam\\.venv\\lib\\site-packages\\IPython\\core\\pylabtools.py:152: UserWarning: Glyph 32244 (\\N{CJK UNIFIED IDEOGRAPH-7DF4}) missing from current font.\n",
      "  fig.canvas.print_figure(bytes_io, **kw)\n",
      "d:\\文大專題\\program\\Lingspam\\.venv\\lib\\site-packages\\IPython\\core\\pylabtools.py:152: UserWarning: Glyph 36942 (\\N{CJK UNIFIED IDEOGRAPH-904E}) missing from current font.\n",
      "  fig.canvas.print_figure(bytes_io, **kw)\n",
      "d:\\文大專題\\program\\Lingspam\\.venv\\lib\\site-packages\\IPython\\core\\pylabtools.py:152: UserWarning: Glyph 31243 (\\N{CJK UNIFIED IDEOGRAPH-7A0B}) missing from current font.\n",
      "  fig.canvas.print_figure(bytes_io, **kw)\n",
      "d:\\文大專題\\program\\Lingspam\\.venv\\lib\\site-packages\\IPython\\core\\pylabtools.py:152: UserWarning: Glyph 65288 (\\N{FULLWIDTH LEFT PARENTHESIS}) missing from current font.\n",
      "  fig.canvas.print_figure(bytes_io, **kw)\n",
      "d:\\文大專題\\program\\Lingspam\\.venv\\lib\\site-packages\\IPython\\core\\pylabtools.py:152: UserWarning: Glyph 28310 (\\N{CJK UNIFIED IDEOGRAPH-6E96}) missing from current font.\n",
      "  fig.canvas.print_figure(bytes_io, **kw)\n",
      "d:\\文大專題\\program\\Lingspam\\.venv\\lib\\site-packages\\IPython\\core\\pylabtools.py:152: UserWarning: Glyph 30906 (\\N{CJK UNIFIED IDEOGRAPH-78BA}) missing from current font.\n",
      "  fig.canvas.print_figure(bytes_io, **kw)\n",
      "d:\\文大專題\\program\\Lingspam\\.venv\\lib\\site-packages\\IPython\\core\\pylabtools.py:152: UserWarning: Glyph 29575 (\\N{CJK UNIFIED IDEOGRAPH-7387}) missing from current font.\n",
      "  fig.canvas.print_figure(bytes_io, **kw)\n",
      "d:\\文大專題\\program\\Lingspam\\.venv\\lib\\site-packages\\IPython\\core\\pylabtools.py:152: UserWarning: Glyph 25613 (\\N{CJK UNIFIED IDEOGRAPH-640D}) missing from current font.\n",
      "  fig.canvas.print_figure(bytes_io, **kw)\n",
      "d:\\文大專題\\program\\Lingspam\\.venv\\lib\\site-packages\\IPython\\core\\pylabtools.py:152: UserWarning: Glyph 22833 (\\N{CJK UNIFIED IDEOGRAPH-5931}) missing from current font.\n",
      "  fig.canvas.print_figure(bytes_io, **kw)\n",
      "d:\\文大專題\\program\\Lingspam\\.venv\\lib\\site-packages\\IPython\\core\\pylabtools.py:152: UserWarning: Glyph 65289 (\\N{FULLWIDTH RIGHT PARENTHESIS}) missing from current font.\n",
      "  fig.canvas.print_figure(bytes_io, **kw)\n",
      "d:\\文大專題\\program\\Lingspam\\.venv\\lib\\site-packages\\IPython\\core\\pylabtools.py:152: UserWarning: Glyph 20540 (\\N{CJK UNIFIED IDEOGRAPH-503C}) missing from current font.\n",
      "  fig.canvas.print_figure(bytes_io, **kw)\n"
     ]
    },
    {
     "data": {
      "image/png": "[encoded data removed]",
      "text/plain": [
       "<Figure size 640x480 with 1 Axes>"
      ]
     },
     "metadata": {},
     "output_type": "display_data"
    }
   ],
   "source": [
    "\n",
    "plt.plot(history.history['accuracy'], label='Train Acc')\n",
    "plt.plot(history.history['val_accuracy'], label='Val Acc')\n",
    "plt.plot(history.history['loss'], label='Train Loss')\n",
    "plt.plot(history.history['val_loss'], label='Val Loss')\n",
    "plt.title(\"訓練過程（準確率 / 損失）\")\n",
    "plt.xlabel(\"Epoch\")\n",
    "plt.ylabel(\"值\")\n",
    "plt.legend()\n",
    "plt.grid(True)\n",
    "plt.show()\n"
   ]
  },
  {
   "cell_type": "markdown",
   "id": "3d351d43",
   "metadata": {},
   "source": [
    "## 📊 第 9 部分：模型評估與混淆矩陣"
   ]
  },
  {
   "cell_type": "code",
   "execution_count": 10,
   "id": "9c1d476d",
   "metadata": {},
   "outputs": [
    {
     "name": "stdout",
     "output_type": "stream",
     "text": [
      "28/28 [==============================] - 3s 87ms/step\n",
      "              precision    recall  f1-score   support\n",
      "\n",
      "           0     1.0000    0.9500    0.9744        60\n",
      "           1     1.0000    0.9091    0.9524        11\n",
      "           2     0.9878    0.9643    0.9759        84\n",
      "           3     1.0000    1.0000    1.0000       113\n",
      "           4     0.9888    0.9888    0.9888        89\n",
      "           5     0.9500    1.0000    0.9744        57\n",
      "           6     0.8649    0.9412    0.9014        34\n",
      "\n",
      "    accuracy                         0.9777       448\n",
      "   macro avg     0.9702    0.9648    0.9667       448\n",
      "weighted avg     0.9789    0.9777    0.9779       448\n",
      "\n"
     ]
    },
    {
     "name": "stderr",
     "output_type": "stream",
     "text": [
      "d:\\文大專題\\program\\Lingspam\\.venv\\lib\\site-packages\\IPython\\core\\pylabtools.py:152: UserWarning: Glyph 28151 (\\N{CJK UNIFIED IDEOGRAPH-6DF7}) missing from current font.\n",
      "  fig.canvas.print_figure(bytes_io, **kw)\n",
      "d:\\文大專題\\program\\Lingspam\\.venv\\lib\\site-packages\\IPython\\core\\pylabtools.py:152: UserWarning: Glyph 28102 (\\N{CJK UNIFIED IDEOGRAPH-6DC6}) missing from current font.\n",
      "  fig.canvas.print_figure(bytes_io, **kw)\n",
      "d:\\文大專題\\program\\Lingspam\\.venv\\lib\\site-packages\\IPython\\core\\pylabtools.py:152: UserWarning: Glyph 30697 (\\N{CJK UNIFIED IDEOGRAPH-77E9}) missing from current font.\n",
      "  fig.canvas.print_figure(bytes_io, **kw)\n",
      "d:\\文大專題\\program\\Lingspam\\.venv\\lib\\site-packages\\IPython\\core\\pylabtools.py:152: UserWarning: Glyph 38499 (\\N{CJK UNIFIED IDEOGRAPH-9663}) missing from current font.\n",
      "  fig.canvas.print_figure(bytes_io, **kw)\n",
      "d:\\文大專題\\program\\Lingspam\\.venv\\lib\\site-packages\\IPython\\core\\pylabtools.py:152: UserWarning: Glyph 38928 (\\N{CJK UNIFIED IDEOGRAPH-9810}) missing from current font.\n",
      "  fig.canvas.print_figure(bytes_io, **kw)\n",
      "d:\\文大專題\\program\\Lingspam\\.venv\\lib\\site-packages\\IPython\\core\\pylabtools.py:152: UserWarning: Glyph 28204 (\\N{CJK UNIFIED IDEOGRAPH-6E2C}) missing from current font.\n",
      "  fig.canvas.print_figure(bytes_io, **kw)\n",
      "d:\\文大專題\\program\\Lingspam\\.venv\\lib\\site-packages\\IPython\\core\\pylabtools.py:152: UserWarning: Glyph 20540 (\\N{CJK UNIFIED IDEOGRAPH-503C}) missing from current font.\n",
      "  fig.canvas.print_figure(bytes_io, **kw)\n",
      "d:\\文大專題\\program\\Lingspam\\.venv\\lib\\site-packages\\IPython\\core\\pylabtools.py:152: UserWarning: Glyph 23526 (\\N{CJK UNIFIED IDEOGRAPH-5BE6}) missing from current font.\n",
      "  fig.canvas.print_figure(bytes_io, **kw)\n",
      "d:\\文大專題\\program\\Lingspam\\.venv\\lib\\site-packages\\IPython\\core\\pylabtools.py:152: UserWarning: Glyph 38555 (\\N{CJK UNIFIED IDEOGRAPH-969B}) missing from current font.\n",
      "  fig.canvas.print_figure(bytes_io, **kw)\n"
     ]
    },
    {
     "data": {
      "image/png": "[encoded data removed]",
      "text/plain": [
       "<Figure size 800x600 with 2 Axes>"
      ]
     },
     "metadata": {},
     "output_type": "display_data"
    }
   ],
   "source": [
    "\n",
    "y_pred_logits = model.predict(test_dataset).logits\n",
    "y_pred = tf.argmax(y_pred_logits, axis=1).numpy()\n",
    "y_true = tf.concat([y for _, y in test_dataset], axis=0)\n",
    "y_true = tf.argmax(y_true, axis=1).numpy()\n",
    "\n",
    "print(classification_report(y_true, y_pred, digits=4))\n",
    "\n",
    "cm = confusion_matrix(y_true, y_pred)\n",
    "plt.figure(figsize=(8,6))\n",
    "sns.heatmap(cm, annot=True, fmt='d', cmap=\"Blues\")\n",
    "plt.title(\"混淆矩陣\")\n",
    "plt.xlabel(\"預測值\")\n",
    "plt.ylabel(\"實際值\")\n",
    "plt.show()\n"
   ]
  }
 ],
 "metadata": {
  "kernelspec": {
   "display_name": ".venv",
   "language": "python",
   "name": "python3"
  },
  "language_info": {
   "codemirror_mode": {
    "name": "ipython",
    "version": 3
   },
   "file_extension": ".py",
   "mimetype": "text/x-python",
   "name": "python",
   "nbconvert_exporter": "python",
   "pygments_lexer": "ipython3",
   "version": "3.9.2"
  }
 },
 "nbformat": 4,
 "nbformat_minor": 5
}
