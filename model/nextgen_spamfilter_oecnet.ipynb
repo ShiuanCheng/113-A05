{
 "cells": [
  {
   "cell_type": "markdown",
   "id": "6a9ddda6",
   "metadata": {},
   "source": [
    "# 📌 Next-Generation Spam Filter — OEC-Net \n",
    "- 使用 TF-IDF + PCA\n",
    "- PSO 特徵選擇（含交叉驗證）\n",
    "- CNN 結構同期刊設計\n",
    "- 中文繁體 `test.csv` 多類分類任務"
   ]
  },
  {
   "cell_type": "code",
   "execution_count": 25,
   "id": "172721bd",
   "metadata": {},
   "outputs": [
    {
     "name": "stderr",
     "output_type": "stream",
     "text": [
      "[nltk_data] Downloading package stopwords to\n",
      "[nltk_data]     C:\\Users\\user\\AppData\\Roaming\\nltk_data...\n",
      "[nltk_data]   Package stopwords is already up-to-date!\n"
     ]
    },
    {
     "data": {
      "text/html": [
       "<div>\n",
       "<style scoped>\n",
       "    .dataframe tbody tr th:only-of-type {\n",
       "        vertical-align: middle;\n",
       "    }\n",
       "\n",
       "    .dataframe tbody tr th {\n",
       "        vertical-align: top;\n",
       "    }\n",
       "\n",
       "    .dataframe thead th {\n",
       "        text-align: right;\n",
       "    }\n",
       "</style>\n",
       "<table border=\"1\" class=\"dataframe\">\n",
       "  <thead>\n",
       "    <tr style=\"text-align: right;\">\n",
       "      <th></th>\n",
       "      <th>subject</th>\n",
       "      <th>message</th>\n",
       "      <th>label</th>\n",
       "      <th>text</th>\n",
       "      <th>clean_text</th>\n",
       "    </tr>\n",
       "  </thead>\n",
       "  <tbody>\n",
       "    <tr>\n",
       "      <th>0</th>\n",
       "      <td>The FuelCell Rebel</td>\n",
       "      <td>全新顏色\\n\\nNew Balance\\nhttps://link.email.newbal...</td>\n",
       "      <td>5</td>\n",
       "      <td>The FuelCell Rebel 全新顏色\\n\\nNew Balance\\nhttps:...</td>\n",
       "      <td>The FuelCell Rebel 全新 顏色 New Balance 男裝 女裝 兒童 ...</td>\n",
       "    </tr>\n",
       "    <tr>\n",
       "      <th>1</th>\n",
       "      <td>1111人力銀行推薦 -【桃園台茂店【涮乃葉】兼職人員及大專院校實習】</td>\n",
       "      <td>\\n    \\n    轉寄履歷-簡式版\\n\\n    \\n        \\n      ...</td>\n",
       "      <td>3</td>\n",
       "      <td>1111人力銀行推薦 -【桃園台茂店【涮乃葉】兼職人員及大專院校實習】 \\n    \\n  ...</td>\n",
       "      <td>1111 人力 銀行 推薦 桃園 台茂店 乃葉 兼職 人員及 大專 院校 實習 轉寄履歷 簡...</td>\n",
       "    </tr>\n",
       "    <tr>\n",
       "      <th>2</th>\n",
       "      <td>陳任璿-2025/03/16 履歷職缺配對通知</td>\n",
       "      <td>\\n  職缺配對                  \\n                  ...</td>\n",
       "      <td>3</td>\n",
       "      <td>陳任璿-2025/03/16 履歷職缺配對通知 \\n  職缺配對              ...</td>\n",
       "      <td>2025 03 16 履歷職 缺配 通知 職缺配 寄送 期待 配對 職缺 這些 職位 符合 ...</td>\n",
       "    </tr>\n",
       "    <tr>\n",
       "      <th>3</th>\n",
       "      <td>你的 Apple 開立發票通知</td>\n",
       "      <td>\\n \\n開立發票通知\\n\\n\\n            APPLE 帳號dana43261...</td>\n",
       "      <td>2</td>\n",
       "      <td>你的 Apple 開立發票通知 \\n \\n開立發票通知\\n\\n\\n            A...</td>\n",
       "      <td>Apple 開立 發票 通知 開立 發票 通知 APPLE 帳號 dana4326172 g...</td>\n",
       "    </tr>\n",
       "    <tr>\n",
       "      <th>4</th>\n",
       "      <td>大谷翔平，準備好續集</td>\n",
       "      <td>The Ohtani Signature Collection\\n\\nNew Balance...</td>\n",
       "      <td>5</td>\n",
       "      <td>大谷翔平，準備好續集 The Ohtani Signature Collection\\n\\n...</td>\n",
       "      <td>大谷 翔平 準備 好續 The Ohtani Signature Collection Ne...</td>\n",
       "    </tr>\n",
       "  </tbody>\n",
       "</table>\n",
       "</div>"
      ],
      "text/plain": [
       "                               subject  \\\n",
       "0                   The FuelCell Rebel   \n",
       "1  1111人力銀行推薦 -【桃園台茂店【涮乃葉】兼職人員及大專院校實習】   \n",
       "2              陳任璿-2025/03/16 履歷職缺配對通知   \n",
       "3                      你的 Apple 開立發票通知   \n",
       "4                           大谷翔平，準備好續集   \n",
       "\n",
       "                                             message  label  \\\n",
       "0  全新顏色\\n\\nNew Balance\\nhttps://link.email.newbal...      5   \n",
       "1  \\n    \\n    轉寄履歷-簡式版\\n\\n    \\n        \\n      ...      3   \n",
       "2  \\n  職缺配對                  \\n                  ...      3   \n",
       "3  \\n \\n開立發票通知\\n\\n\\n            APPLE 帳號dana43261...      2   \n",
       "4  The Ohtani Signature Collection\\n\\nNew Balance...      5   \n",
       "\n",
       "                                                text  \\\n",
       "0  The FuelCell Rebel 全新顏色\\n\\nNew Balance\\nhttps:...   \n",
       "1  1111人力銀行推薦 -【桃園台茂店【涮乃葉】兼職人員及大專院校實習】 \\n    \\n  ...   \n",
       "2  陳任璿-2025/03/16 履歷職缺配對通知 \\n  職缺配對              ...   \n",
       "3  你的 Apple 開立發票通知 \\n \\n開立發票通知\\n\\n\\n            A...   \n",
       "4  大谷翔平，準備好續集 The Ohtani Signature Collection\\n\\n...   \n",
       "\n",
       "                                          clean_text  \n",
       "0  The FuelCell Rebel 全新 顏色 New Balance 男裝 女裝 兒童 ...  \n",
       "1  1111 人力 銀行 推薦 桃園 台茂店 乃葉 兼職 人員及 大專 院校 實習 轉寄履歷 簡...  \n",
       "2  2025 03 16 履歷職 缺配 通知 職缺配 寄送 期待 配對 職缺 這些 職位 符合 ...  \n",
       "3  Apple 開立 發票 通知 開立 發票 通知 APPLE 帳號 dana4326172 g...  \n",
       "4  大谷 翔平 準備 好續 The Ohtani Signature Collection Ne...  "
      ]
     },
     "execution_count": 25,
     "metadata": {},
     "output_type": "execute_result"
    }
   ],
   "source": [
    "import pandas as pd\n",
    "import re\n",
    "import jieba\n",
    "import nltk\n",
    "nltk.download('stopwords')\n",
    "from nltk.corpus import stopwords\n",
    "\n",
    "df = pd.read_csv(\"test.csv\")\n",
    "df['text'] = df['subject'].fillna('') + ' ' + df['message'].fillna('')\n",
    "\n",
    "stop_words = set(stopwords.words('english'))  # 可自定義中文停用詞集\n",
    "\n",
    "def clean_text(text):\n",
    "    text = re.sub(r'https?://\\S+|www\\.\\S+', '', text)\n",
    "    text = re.sub(r'[^\\u4e00-\\u9fa5a-zA-Z0-9]', ' ', text)# 保留中英文與數字\n",
    "    words = jieba.lcut(text)\n",
    "    return ' '.join([w for w in words if w not in stop_words and len(w) > 1])\n",
    "\n",
    "df['clean_text'] = df['text'].apply(clean_text)\n",
    "df.head()\n"
   ]
  },
  {
   "cell_type": "code",
   "execution_count": 26,
   "id": "c3c89835",
   "metadata": {},
   "outputs": [
    {
     "name": "stdout",
     "output_type": "stream",
     "text": [
      "訓練集 各類別數量：\n",
      "類別 0：240 筆\n",
      "類別 1：44 筆\n",
      "類別 2：338 筆\n",
      "類別 3：469 筆\n",
      "類別 4：361 筆\n",
      "類別 5：243 筆\n",
      "類別 6：145 筆\n",
      "\n",
      "驗證集 各類別數量：\n",
      "類別 0：60 筆\n",
      "類別 1：11 筆\n",
      "類別 2：84 筆\n",
      "類別 3：117 筆\n",
      "類別 4：91 筆\n",
      "類別 5：61 筆\n",
      "類別 6：36 筆\n"
     ]
    }
   ],
   "source": [
    "# 對每封信件進行斷詞、去除網址與停用詞，並建立清洗後的新欄位\n",
    "from sklearn.model_selection import train_test_split\n",
    "from collections import Counter\n",
    "\n",
    "# 切分資料（80% 訓練，20% 驗證），並保留 label 分布比例\n",
    "X_train, X_test, y_train, y_test = train_test_split(\n",
    "    df['clean_text'], df['label'], test_size=0.2, stratify=df['label'], random_state=42)\n",
    "\n",
    "# 顯示各類別數量\n",
    "def print_label_counts(title, y):\n",
    "    counter = Counter(y)\n",
    "    print(f\"{title}：\")\n",
    "    for label in sorted(counter):\n",
    "        print(f\"類別 {label}：{counter[label]} 筆\")\n",
    "\n",
    "print_label_counts(\"訓練集 各類別數量\", y_train)\n",
    "print()\n",
    "print_label_counts(\"驗證集 各類別數量\", y_test)\n"
   ]
  },
  {
   "cell_type": "code",
   "execution_count": 27,
   "id": "0421347a",
   "metadata": {},
   "outputs": [],
   "source": [
    "from sklearn.feature_extraction.text import TfidfVectorizer\n",
    "from sklearn.decomposition import PCA\n",
    "\n",
    "# 使用 TfidfVectorizer 將文字轉為 5000 維向量\n",
    "vectorizer = TfidfVectorizer(max_features=5000)\n",
    "X_train_tfidf = vectorizer.fit_transform(X_train).toarray()\n",
    "X_test_tfidf = vectorizer.transform(X_test).toarray()\n",
    "\n",
    "# 降維到 100 維（PCA 主成分分析\n",
    "pca = PCA(n_components=100, random_state=42)\n",
    "X_train_pca = pca.fit_transform(X_train_tfidf)\n",
    "X_test_pca = pca.transform(X_test_tfidf)\n"
   ]
  },
  {
   "cell_type": "code",
   "execution_count": 22,
   "id": "72842d0d",
   "metadata": {},
   "outputs": [
    {
     "name": "stdout",
     "output_type": "stream",
     "text": [
      "✅ 選出特徵數量： 63\n"
     ]
    }
   ],
   "source": [
    "from sklearn.linear_model import LogisticRegression\n",
    "from sklearn.model_selection import cross_val_score\n",
    "import numpy as np\n",
    "\n",
    "# 定義 sigmoid 函式\n",
    "def sigmoid(x):\n",
    "    return 1 / (1 + np.exp(-x))\n",
    "\n",
    "# 定義模型評估函式：使用邏輯迴歸進行交叉驗證\n",
    "def evaluate(X_sub, y):\n",
    "    clf = LogisticRegression(max_iter=500)\n",
    "    scores = cross_val_score(clf, X_sub, y, cv=3, scoring='accuracy')\n",
    "    return np.mean(scores)\n",
    "\n",
    "# 粒子群最佳化演算法：挑選表現最好的特徵組合\n",
    "def pso_feature_selection(X, y, num_particles=20, max_iter=10):\n",
    "    n_features = X.shape[1]\n",
    "    particles = np.random.randint(0, 2, (num_particles, n_features))\n",
    "    velocities = np.random.uniform(-1, 1, (num_particles, n_features))\n",
    "    p_best = particles.copy()\n",
    "    p_best_scores = np.array([evaluate(X[:, p == 1], y) for p in particles])\n",
    "    g_best = p_best[np.argmax(p_best_scores)]\n",
    "\n",
    "    for _ in range(max_iter):\n",
    "        for i in range(num_particles):\n",
    "            r1, r2 = np.random.rand(n_features), np.random.rand(n_features)\n",
    "            velocities[i] = 0.7 * velocities[i] + 1.5 * r1 * (p_best[i] - particles[i]) + 1.5 * r2 * (g_best - particles[i])\n",
    "            particles[i] = np.where(np.random.rand(n_features) < sigmoid(velocities[i]), 1, 0)\n",
    "            if np.sum(particles[i]) == 0:\n",
    "                particles[i, np.random.randint(0, n_features)] = 1\n",
    "            score = evaluate(X[:, particles[i] == 1], y)\n",
    "            if score > p_best_scores[i]:\n",
    "                p_best[i] = particles[i]\n",
    "                p_best_scores[i] = score\n",
    "        g_best = p_best[np.argmax(p_best_scores)]\n",
    "    return np.where(g_best == 1)[0]\n",
    "\n",
    "selected_idx = pso_feature_selection(X_train_pca, y_train)\n",
    "X_train_sel = X_train_pca[:, selected_idx]\n",
    "X_test_sel = X_test_pca[:, selected_idx]\n",
    "print(\"✅ 選出特徵數量：\", len(selected_idx))\n"
   ]
  },
  {
   "cell_type": "code",
   "execution_count": 23,
   "id": "27fec3a7",
   "metadata": {},
   "outputs": [
    {
     "name": "stdout",
     "output_type": "stream",
     "text": [
      "Epoch 1/15\n",
      "58/58 [==============================] - 1s 8ms/step - loss: 1.7564 - accuracy: 0.2946 - val_loss: 1.5478 - val_accuracy: 0.4022\n",
      "Epoch 2/15\n",
      "58/58 [==============================] - 0s 5ms/step - loss: 1.2643 - accuracy: 0.5424 - val_loss: 0.9983 - val_accuracy: 0.6717\n",
      "Epoch 3/15\n",
      "58/58 [==============================] - 0s 5ms/step - loss: 0.8791 - accuracy: 0.7245 - val_loss: 0.7871 - val_accuracy: 0.7326\n",
      "Epoch 4/15\n",
      "58/58 [==============================] - 0s 5ms/step - loss: 0.7395 - accuracy: 0.7522 - val_loss: 0.6774 - val_accuracy: 0.7652\n",
      "Epoch 5/15\n",
      "58/58 [==============================] - 0s 5ms/step - loss: 0.6488 - accuracy: 0.7848 - val_loss: 0.6304 - val_accuracy: 0.7848\n",
      "Epoch 6/15\n",
      "58/58 [==============================] - 0s 5ms/step - loss: 0.6003 - accuracy: 0.8005 - val_loss: 0.6006 - val_accuracy: 0.7891\n",
      "Epoch 7/15\n",
      "58/58 [==============================] - 0s 5ms/step - loss: 0.5569 - accuracy: 0.8174 - val_loss: 0.5424 - val_accuracy: 0.8109\n",
      "Epoch 8/15\n",
      "58/58 [==============================] - 0s 5ms/step - loss: 0.5141 - accuracy: 0.8359 - val_loss: 0.5510 - val_accuracy: 0.8239\n",
      "Epoch 9/15\n",
      "58/58 [==============================] - 0s 5ms/step - loss: 0.4689 - accuracy: 0.8435 - val_loss: 0.5083 - val_accuracy: 0.8239\n",
      "Epoch 10/15\n",
      "58/58 [==============================] - 0s 5ms/step - loss: 0.4325 - accuracy: 0.8543 - val_loss: 0.4857 - val_accuracy: 0.8326\n",
      "Epoch 11/15\n",
      "58/58 [==============================] - 0s 5ms/step - loss: 0.3984 - accuracy: 0.8745 - val_loss: 0.4289 - val_accuracy: 0.8587\n",
      "Epoch 12/15\n",
      "58/58 [==============================] - 0s 5ms/step - loss: 0.3797 - accuracy: 0.8707 - val_loss: 0.3949 - val_accuracy: 0.8739\n",
      "Epoch 13/15\n",
      "58/58 [==============================] - 0s 5ms/step - loss: 0.3379 - accuracy: 0.8973 - val_loss: 0.3784 - val_accuracy: 0.8739\n",
      "Epoch 14/15\n",
      "58/58 [==============================] - 0s 5ms/step - loss: 0.3028 - accuracy: 0.9114 - val_loss: 0.3565 - val_accuracy: 0.8870\n",
      "Epoch 15/15\n",
      "58/58 [==============================] - 0s 4ms/step - loss: 0.2952 - accuracy: 0.9125 - val_loss: 0.3475 - val_accuracy: 0.8826\n"
     ]
    }
   ],
   "source": [
    "import tensorflow as tf\n",
    "from tensorflow import keras\n",
    "from tensorflow.keras import layers\n",
    "import numpy as np\n",
    "\n",
    "model = keras.Sequential([\n",
    "    layers.Input(shape=(X_train_sel.shape[1], 1)),\n",
    "    layers.Conv1D(64, 3, activation='relu'),\n",
    "    layers.MaxPooling1D(2),\n",
    "    layers.Conv1D(128, 3, activation='relu'),\n",
    "    layers.GlobalMaxPooling1D(),\n",
    "    layers.Dense(128, activation='relu'),\n",
    "    layers.Dense(7, activation='softmax')\n",
    "])\n",
    "\n",
    "model.compile(optimizer='adam',\n",
    "              loss='sparse_categorical_crossentropy',\n",
    "              metrics=['accuracy'])\n",
    "\n",
    "X_train_final = np.expand_dims(X_train_sel, axis=-1)\n",
    "X_test_final = np.expand_dims(X_test_sel, axis=-1)\n",
    "\n",
    "history = model.fit(\n",
    "    X_train_final, y_train,\n",
    "    validation_data=(X_test_final, y_test),\n",
    "    epochs=15,\n",
    "    batch_size=32\n",
    ")\n"
   ]
  },
  {
   "cell_type": "code",
   "execution_count": 24,
   "id": "ee0c3f34",
   "metadata": {},
   "outputs": [
    {
     "data": {
      "image/png": "[encoded data removed]",
      "text/plain": [
       "<Figure size 640x480 with 1 Axes>"
      ]
     },
     "metadata": {},
     "output_type": "display_data"
    },
    {
     "name": "stdout",
     "output_type": "stream",
     "text": [
      "15/15 [==============================] - 0s 957us/step\n"
     ]
    },
    {
     "data": {
      "image/png": "[encoded data removed]",
      "text/plain": [
       "<Figure size 640x480 with 2 Axes>"
      ]
     },
     "metadata": {},
     "output_type": "display_data"
    },
    {
     "name": "stdout",
     "output_type": "stream",
     "text": [
      "              precision    recall  f1-score   support\n",
      "\n",
      "           0       0.68      1.00      0.81        60\n",
      "           1       1.00      0.82      0.90        11\n",
      "           2       0.97      0.85      0.90        84\n",
      "           3       1.00      0.99      1.00       117\n",
      "           4       0.81      0.89      0.85        91\n",
      "           5       0.91      0.79      0.84        61\n",
      "           6       1.00      0.58      0.74        36\n",
      "\n",
      "    accuracy                           0.88       460\n",
      "   macro avg       0.91      0.85      0.86       460\n",
      "weighted avg       0.90      0.88      0.88       460\n",
      "\n"
     ]
    }
   ],
   "source": [
    "import matplotlib.pyplot as plt\n",
    "import seaborn as sns\n",
    "from sklearn.metrics import classification_report, confusion_matrix\n",
    "\n",
    "plt.plot(history.history['accuracy'], label='Train Acc')\n",
    "plt.plot(history.history['val_accuracy'], label='Val Acc')\n",
    "plt.xlabel('Epoch')\n",
    "plt.ylabel('Accuracy')\n",
    "plt.legend()\n",
    "plt.title('Accuracy Curve')\n",
    "plt.show()\n",
    "\n",
    "y_pred = model.predict(X_test_final)\n",
    "y_pred_labels = np.argmax(y_pred, axis=1)\n",
    "\n",
    "cm = confusion_matrix(y_test, y_pred_labels)\n",
    "sns.heatmap(cm, annot=True, fmt='d', cmap='Blues')\n",
    "plt.title(\"Confusion Matrix\")\n",
    "plt.xlabel(\"Predicted\")\n",
    "plt.ylabel(\"True\")\n",
    "plt.show()\n",
    "\n",
    "print(classification_report(y_test, y_pred_labels))\n"
   ]
  }
 ],
 "metadata": {
  "kernelspec": {
   "display_name": ".venv",
   "language": "python",
   "name": "python3"
  },
  "language_info": {
   "codemirror_mode": {
    "name": "ipython",
    "version": 3
   },
   "file_extension": ".py",
   "mimetype": "text/x-python",
   "name": "python",
   "nbconvert_exporter": "python",
   "pygments_lexer": "ipython3",
   "version": "3.9.2"
  }
 },
 "nbformat": 4,
 "nbformat_minor": 5
}
