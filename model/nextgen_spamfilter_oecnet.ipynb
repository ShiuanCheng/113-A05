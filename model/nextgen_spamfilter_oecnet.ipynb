{
 "cells": [
  {
   "cell_type": "markdown",
   "id": "6a9ddda6",
   "metadata": {},
   "source": [
    "# 📌 Next-Generation Spam Filter — OEC-Net \n",
    "- 使用 TF-IDF + PCA\n",
    "- PSO 特徵選擇（含交叉驗證）\n",
    "- CNN 結構同期刊設計\n",
    "- 中文繁體 `test.csv` 多類分類任務"
   ]
  },
  {
   "cell_type": "code",
   "execution_count": 1,
   "id": "172721bd",
   "metadata": {},
   "outputs": [
    {
     "name": "stderr",
     "output_type": "stream",
     "text": [
      "[nltk_data] Downloading package stopwords to\n",
      "[nltk_data]     C:\\Users\\user\\AppData\\Roaming\\nltk_data...\n",
      "[nltk_data]   Package stopwords is already up-to-date!\n",
      "Building prefix dict from the default dictionary ...\n",
      "Loading model from cache C:\\Users\\user\\AppData\\Local\\Temp\\jieba.cache\n",
      "Loading model cost 0.327 seconds.\n",
      "Prefix dict has been built successfully.\n"
     ]
    },
    {
     "data": {
      "text/html": [
       "<div>\n",
       "<style scoped>\n",
       "    .dataframe tbody tr th:only-of-type {\n",
       "        vertical-align: middle;\n",
       "    }\n",
       "\n",
       "    .dataframe tbody tr th {\n",
       "        vertical-align: top;\n",
       "    }\n",
       "\n",
       "    .dataframe thead th {\n",
       "        text-align: right;\n",
       "    }\n",
       "</style>\n",
       "<table border=\"1\" class=\"dataframe\">\n",
       "  <thead>\n",
       "    <tr style=\"text-align: right;\">\n",
       "      <th></th>\n",
       "      <th>subject</th>\n",
       "      <th>message</th>\n",
       "      <th>label</th>\n",
       "      <th>text</th>\n",
       "      <th>clean_text</th>\n",
       "    </tr>\n",
       "  </thead>\n",
       "  <tbody>\n",
       "    <tr>\n",
       "      <th>0</th>\n",
       "      <td>The FuelCell Rebel</td>\n",
       "      <td>全新顏色\\n\\nNew Balance\\nhttps://link.email.newbal...</td>\n",
       "      <td>5</td>\n",
       "      <td>The FuelCell Rebel 全新顏色\\n\\nNew Balance\\nhttps:...</td>\n",
       "      <td>全新 色男 裝女 裝兒童 專為 速度 打造 跑步 補充 能量 立即 選購 立即 選購 會員 ...</td>\n",
       "    </tr>\n",
       "    <tr>\n",
       "      <th>1</th>\n",
       "      <td>1111人力銀行推薦 -【桃園台茂店【涮乃葉】兼職人員及大專院校實習】</td>\n",
       "      <td>\\n    \\n    轉寄履歷-簡式版\\n\\n    \\n        \\n      ...</td>\n",
       "      <td>3</td>\n",
       "      <td>1111人力銀行推薦 -【桃園台茂店【涮乃葉】兼職人員及大專院校實習】 \\n    \\n  ...</td>\n",
       "      <td>人力 銀行 推薦 桃園 台茂店 乃葉 職人員及 大專 院校 實習 轉寄履歷 簡式 版本 信無...</td>\n",
       "    </tr>\n",
       "    <tr>\n",
       "      <th>2</th>\n",
       "      <td>陳任璿-2025/03/16 履歷職缺配對通知</td>\n",
       "      <td>\\n  職缺配對                  \\n                  ...</td>\n",
       "      <td>3</td>\n",
       "      <td>陳任璿-2025/03/16 履歷職缺配對通知 \\n  職缺配對              ...</td>\n",
       "      <td>履歷職 缺配 通知 職缺配 寄送 期待 配對 職缺 這些 職位 符合 履歷 大部分 期望 條...</td>\n",
       "    </tr>\n",
       "    <tr>\n",
       "      <th>3</th>\n",
       "      <td>你的 Apple 開立發票通知</td>\n",
       "      <td>\\n \\n開立發票通知\\n\\n\\n            APPLE 帳號dana43261...</td>\n",
       "      <td>2</td>\n",
       "      <td>你的 Apple 開立發票通知 \\n \\n開立發票通知\\n\\n\\n            A...</td>\n",
       "      <td>開立 發票 通知 開立 發票 通知 帳號 付款 方遠 傳電信 南平 日期 年月日 訂單 文件...</td>\n",
       "    </tr>\n",
       "    <tr>\n",
       "      <th>4</th>\n",
       "      <td>大谷翔平，準備好續集</td>\n",
       "      <td>The Ohtani Signature Collection\\n\\nNew Balance...</td>\n",
       "      <td>5</td>\n",
       "      <td>大谷翔平，準備好續集 The Ohtani Signature Collection\\n\\n...</td>\n",
       "      <td>大谷 翔平 準備 好續 集男裝 女裝兒 童展現 大谷 翔平 打擊 投球 雙重 這個 精心 設...</td>\n",
       "    </tr>\n",
       "  </tbody>\n",
       "</table>\n",
       "</div>"
      ],
      "text/plain": [
       "                               subject  \\\n",
       "0                   The FuelCell Rebel   \n",
       "1  1111人力銀行推薦 -【桃園台茂店【涮乃葉】兼職人員及大專院校實習】   \n",
       "2              陳任璿-2025/03/16 履歷職缺配對通知   \n",
       "3                      你的 Apple 開立發票通知   \n",
       "4                           大谷翔平，準備好續集   \n",
       "\n",
       "                                             message  label  \\\n",
       "0  全新顏色\\n\\nNew Balance\\nhttps://link.email.newbal...      5   \n",
       "1  \\n    \\n    轉寄履歷-簡式版\\n\\n    \\n        \\n      ...      3   \n",
       "2  \\n  職缺配對                  \\n                  ...      3   \n",
       "3  \\n \\n開立發票通知\\n\\n\\n            APPLE 帳號dana43261...      2   \n",
       "4  The Ohtani Signature Collection\\n\\nNew Balance...      5   \n",
       "\n",
       "                                                text  \\\n",
       "0  The FuelCell Rebel 全新顏色\\n\\nNew Balance\\nhttps:...   \n",
       "1  1111人力銀行推薦 -【桃園台茂店【涮乃葉】兼職人員及大專院校實習】 \\n    \\n  ...   \n",
       "2  陳任璿-2025/03/16 履歷職缺配對通知 \\n  職缺配對              ...   \n",
       "3  你的 Apple 開立發票通知 \\n \\n開立發票通知\\n\\n\\n            A...   \n",
       "4  大谷翔平，準備好續集 The Ohtani Signature Collection\\n\\n...   \n",
       "\n",
       "                                          clean_text  \n",
       "0  全新 色男 裝女 裝兒童 專為 速度 打造 跑步 補充 能量 立即 選購 立即 選購 會員 ...  \n",
       "1  人力 銀行 推薦 桃園 台茂店 乃葉 職人員及 大專 院校 實習 轉寄履歷 簡式 版本 信無...  \n",
       "2  履歷職 缺配 通知 職缺配 寄送 期待 配對 職缺 這些 職位 符合 履歷 大部分 期望 條...  \n",
       "3  開立 發票 通知 開立 發票 通知 帳號 付款 方遠 傳電信 南平 日期 年月日 訂單 文件...  \n",
       "4  大谷 翔平 準備 好續 集男裝 女裝兒 童展現 大谷 翔平 打擊 投球 雙重 這個 精心 設...  "
      ]
     },
     "execution_count": 1,
     "metadata": {},
     "output_type": "execute_result"
    }
   ],
   "source": [
    "import pandas as pd\n",
    "import re\n",
    "import jieba\n",
    "import nltk\n",
    "nltk.download('stopwords')\n",
    "from nltk.corpus import stopwords\n",
    "\n",
    "df = pd.read_csv(\"test.csv\")\n",
    "df['text'] = df['subject'].fillna('') + ' ' + df['message'].fillna('')\n",
    "\n",
    "stop_words = set(stopwords.words('english'))  # 可自定義中文停用詞集\n",
    "\n",
    "def clean_text(text):\n",
    "    text = re.sub(r'https?://\\S+|www\\.\\S+', '', text)\n",
    "    text = re.sub(r'[^\\u4e00-\\u9fa5]', '', text)\n",
    "    words = jieba.lcut(text)\n",
    "    return ' '.join([w for w in words if w not in stop_words and len(w) > 1])\n",
    "\n",
    "df['clean_text'] = df['text'].apply(clean_text)\n",
    "df.head()\n"
   ]
  },
  {
   "cell_type": "code",
   "execution_count": 2,
   "id": "c3c89835",
   "metadata": {},
   "outputs": [
    {
     "name": "stdout",
     "output_type": "stream",
     "text": [
      "訓練集 各類別數量：\n",
      "類別 0：240 筆\n",
      "類別 1：44 筆\n",
      "類別 2：338 筆\n",
      "類別 3：469 筆\n",
      "類別 4：361 筆\n",
      "類別 5：243 筆\n",
      "類別 6：145 筆\n",
      "\n",
      "驗證集 各類別數量：\n",
      "類別 0：60 筆\n",
      "類別 1：11 筆\n",
      "類別 2：84 筆\n",
      "類別 3：117 筆\n",
      "類別 4：91 筆\n",
      "類別 5：61 筆\n",
      "類別 6：36 筆\n"
     ]
    }
   ],
   "source": [
    "# 對每封信件進行斷詞、去除網址與停用詞，並建立清洗後的新欄位\n",
    "from sklearn.model_selection import train_test_split\n",
    "from collections import Counter\n",
    "\n",
    "# 切分資料（80% 訓練，20% 驗證），並保留 label 分布比例\n",
    "X_train, X_test, y_train, y_test = train_test_split(\n",
    "    df['clean_text'], df['label'], test_size=0.2, stratify=df['label'], random_state=42)\n",
    "\n",
    "# 顯示各類別數量\n",
    "def print_label_counts(title, y):\n",
    "    counter = Counter(y)\n",
    "    print(f\"{title}：\")\n",
    "    for label in sorted(counter):\n",
    "        print(f\"類別 {label}：{counter[label]} 筆\")\n",
    "\n",
    "print_label_counts(\"訓練集 各類別數量\", y_train)\n",
    "print()\n",
    "print_label_counts(\"驗證集 各類別數量\", y_test)\n"
   ]
  },
  {
   "cell_type": "code",
   "execution_count": null,
   "id": "0421347a",
   "metadata": {},
   "outputs": [],
   "source": [
    "from sklearn.feature_extraction.text import TfidfVectorizer\n",
    "from sklearn.decomposition import PCA\n",
    "\n",
    "# 使用 TfidfVectorizer 將文字轉為 5000 維向量\n",
    "vectorizer = TfidfVectorizer(max_features=5000)\n",
    "X_train_tfidf = vectorizer.fit_transform(X_train).toarray()\n",
    "X_test_tfidf = vectorizer.transform(X_test).toarray()\n",
    "\n",
    "# 降維到 100 維（PCA 主成分分析\n",
    "pca = PCA(n_components=100, random_state=42)\n",
    "X_train_pca = pca.fit_transform(X_train_tfidf)\n",
    "X_test_pca = pca.transform(X_test_tfidf)\n"
   ]
  },
  {
   "cell_type": "code",
   "execution_count": null,
   "id": "72842d0d",
   "metadata": {},
   "outputs": [
    {
     "name": "stdout",
     "output_type": "stream",
     "text": [
      "✅ 選出特徵數量： 51\n"
     ]
    }
   ],
   "source": [
    "from sklearn.linear_model import LogisticRegression\n",
    "from sklearn.model_selection import cross_val_score\n",
    "import numpy as np\n",
    "\n",
    "# 定義 sigmoid 函式\n",
    "def sigmoid(x):\n",
    "    return 1 / (1 + np.exp(-x))\n",
    "\n",
    "# 定義模型評估函式：使用邏輯迴歸進行交叉驗證\n",
    "def evaluate(X_sub, y):\n",
    "    clf = LogisticRegression(max_iter=500)\n",
    "    scores = cross_val_score(clf, X_sub, y, cv=3, scoring='accuracy')\n",
    "    return np.mean(scores)\n",
    "\n",
    "# 粒子群最佳化演算法：挑選表現最好的特徵組合\n",
    "def pso_feature_selection(X, y, num_particles=20, max_iter=10):\n",
    "    n_features = X.shape[1]\n",
    "    particles = np.random.randint(0, 2, (num_particles, n_features))\n",
    "    velocities = np.random.uniform(-1, 1, (num_particles, n_features))\n",
    "    p_best = particles.copy()\n",
    "    p_best_scores = np.array([evaluate(X[:, p == 1], y) for p in particles])\n",
    "    g_best = p_best[np.argmax(p_best_scores)]\n",
    "\n",
    "    for _ in range(max_iter):\n",
    "        for i in range(num_particles):\n",
    "            r1, r2 = np.random.rand(n_features), np.random.rand(n_features)\n",
    "            velocities[i] = 0.7 * velocities[i] + 1.5 * r1 * (p_best[i] - particles[i]) + 1.5 * r2 * (g_best - particles[i])\n",
    "            particles[i] = np.where(np.random.rand(n_features) < sigmoid(velocities[i]), 1, 0)\n",
    "            if np.sum(particles[i]) == 0:\n",
    "                particles[i, np.random.randint(0, n_features)] = 1\n",
    "            score = evaluate(X[:, particles[i] == 1], y)\n",
    "            if score > p_best_scores[i]:\n",
    "                p_best[i] = particles[i]\n",
    "                p_best_scores[i] = score\n",
    "        g_best = p_best[np.argmax(p_best_scores)]\n",
    "    return np.where(g_best == 1)[0]\n",
    "\n",
    "selected_idx = pso_feature_selection(X_train_pca, y_train)\n",
    "X_train_sel = X_train_pca[:, selected_idx]\n",
    "X_test_sel = X_test_pca[:, selected_idx]\n",
    "print(\"✅ 選出特徵數量：\", len(selected_idx))\n"
   ]
  },
  {
   "cell_type": "code",
   "execution_count": 5,
   "id": "27fec3a7",
   "metadata": {},
   "outputs": [
    {
     "name": "stdout",
     "output_type": "stream",
     "text": [
      "Epoch 1/15\n",
      "58/58 [==============================] - 4s 5ms/step - loss: 1.7263 - accuracy: 0.3788 - val_loss: 1.5089 - val_accuracy: 0.4761\n",
      "Epoch 2/15\n",
      "58/58 [==============================] - 0s 3ms/step - loss: 1.2653 - accuracy: 0.5630 - val_loss: 1.0919 - val_accuracy: 0.6543\n",
      "Epoch 3/15\n",
      "58/58 [==============================] - 0s 3ms/step - loss: 0.9355 - accuracy: 0.7060 - val_loss: 0.7805 - val_accuracy: 0.7630\n",
      "Epoch 4/15\n",
      "58/58 [==============================] - 0s 3ms/step - loss: 0.7109 - accuracy: 0.7793 - val_loss: 0.6343 - val_accuracy: 0.7826\n",
      "Epoch 5/15\n",
      "58/58 [==============================] - 0s 3ms/step - loss: 0.5851 - accuracy: 0.8109 - val_loss: 0.5062 - val_accuracy: 0.8391\n",
      "Epoch 6/15\n",
      "58/58 [==============================] - 0s 5ms/step - loss: 0.5029 - accuracy: 0.8332 - val_loss: 0.4486 - val_accuracy: 0.8587\n",
      "Epoch 7/15\n",
      "58/58 [==============================] - 0s 3ms/step - loss: 0.4601 - accuracy: 0.8576 - val_loss: 0.4110 - val_accuracy: 0.8457\n",
      "Epoch 8/15\n",
      "58/58 [==============================] - 0s 3ms/step - loss: 0.4199 - accuracy: 0.8641 - val_loss: 0.3772 - val_accuracy: 0.8826\n",
      "Epoch 9/15\n",
      "58/58 [==============================] - 0s 3ms/step - loss: 0.3832 - accuracy: 0.8739 - val_loss: 0.3375 - val_accuracy: 0.8935\n",
      "Epoch 10/15\n",
      "58/58 [==============================] - 0s 3ms/step - loss: 0.3492 - accuracy: 0.8946 - val_loss: 0.3304 - val_accuracy: 0.8913\n",
      "Epoch 11/15\n",
      "58/58 [==============================] - 0s 3ms/step - loss: 0.3159 - accuracy: 0.9005 - val_loss: 0.3069 - val_accuracy: 0.9043\n",
      "Epoch 12/15\n",
      "58/58 [==============================] - 0s 3ms/step - loss: 0.2969 - accuracy: 0.9076 - val_loss: 0.2963 - val_accuracy: 0.9130\n",
      "Epoch 13/15\n",
      "58/58 [==============================] - 0s 3ms/step - loss: 0.2959 - accuracy: 0.9087 - val_loss: 0.2848 - val_accuracy: 0.9065\n",
      "Epoch 14/15\n",
      "58/58 [==============================] - 0s 3ms/step - loss: 0.2685 - accuracy: 0.9239 - val_loss: 0.3189 - val_accuracy: 0.8848\n",
      "Epoch 15/15\n",
      "58/58 [==============================] - 0s 3ms/step - loss: 0.2501 - accuracy: 0.9234 - val_loss: 0.2601 - val_accuracy: 0.9174\n"
     ]
    }
   ],
   "source": [
    "import tensorflow as tf\n",
    "from tensorflow import keras\n",
    "from tensorflow.keras import layers\n",
    "import numpy as np\n",
    "\n",
    "model = keras.Sequential([\n",
    "    layers.Input(shape=(X_train_sel.shape[1], 1)),\n",
    "    layers.Conv1D(64, 3, activation='relu'),\n",
    "    layers.MaxPooling1D(2),\n",
    "    layers.Conv1D(128, 3, activation='relu'),\n",
    "    layers.GlobalMaxPooling1D(),\n",
    "    layers.Dense(128, activation='relu'),\n",
    "    layers.Dense(7, activation='softmax')\n",
    "])\n",
    "\n",
    "model.compile(optimizer='adam',\n",
    "              loss='sparse_categorical_crossentropy',\n",
    "              metrics=['accuracy'])\n",
    "\n",
    "X_train_final = np.expand_dims(X_train_sel, axis=-1)\n",
    "X_test_final = np.expand_dims(X_test_sel, axis=-1)\n",
    "\n",
    "history = model.fit(\n",
    "    X_train_final, y_train,\n",
    "    validation_data=(X_test_final, y_test),\n",
    "    epochs=15,\n",
    "    batch_size=32\n",
    ")\n"
   ]
  },
  {
   "cell_type": "code",
   "execution_count": 6,
   "id": "ee0c3f34",
   "metadata": {},
   "outputs": [
    {
     "data": {
      "image/png": "[encoded data removed]",
      "text/plain": [
       "<Figure size 640x480 with 1 Axes>"
      ]
     },
     "metadata": {},
     "output_type": "display_data"
    },
    {
     "name": "stdout",
     "output_type": "stream",
     "text": [
      "15/15 [==============================] - 0s 794us/step\n"
     ]
    },
    {
     "data": {
      "image/png": "[encoded data removed]",
      "text/plain": [
       "<Figure size 640x480 with 2 Axes>"
      ]
     },
     "metadata": {},
     "output_type": "display_data"
    },
    {
     "name": "stdout",
     "output_type": "stream",
     "text": [
      "              precision    recall  f1-score   support\n",
      "\n",
      "           0       0.86      0.95      0.90        60\n",
      "           1       1.00      0.82      0.90        11\n",
      "           2       0.95      0.90      0.93        84\n",
      "           3       1.00      1.00      1.00       117\n",
      "           4       0.87      0.97      0.92        91\n",
      "           5       0.86      0.82      0.84        61\n",
      "           6       0.86      0.69      0.77        36\n",
      "\n",
      "    accuracy                           0.92       460\n",
      "   macro avg       0.92      0.88      0.89       460\n",
      "weighted avg       0.92      0.92      0.92       460\n",
      "\n"
     ]
    }
   ],
   "source": [
    "import matplotlib.pyplot as plt\n",
    "import seaborn as sns\n",
    "from sklearn.metrics import classification_report, confusion_matrix\n",
    "\n",
    "plt.plot(history.history['accuracy'], label='Train Acc')\n",
    "plt.plot(history.history['val_accuracy'], label='Val Acc')\n",
    "plt.xlabel('Epoch')\n",
    "plt.ylabel('Accuracy')\n",
    "plt.legend()\n",
    "plt.title('Accuracy Curve')\n",
    "plt.show()\n",
    "\n",
    "y_pred = model.predict(X_test_final)\n",
    "y_pred_labels = np.argmax(y_pred, axis=1)\n",
    "\n",
    "cm = confusion_matrix(y_test, y_pred_labels)\n",
    "sns.heatmap(cm, annot=True, fmt='d', cmap='Blues')\n",
    "plt.title(\"Confusion Matrix\")\n",
    "plt.xlabel(\"Predicted\")\n",
    "plt.ylabel(\"True\")\n",
    "plt.show()\n",
    "\n",
    "print(classification_report(y_test, y_pred_labels))\n"
   ]
  }
 ],
 "metadata": {
  "kernelspec": {
   "display_name": ".venv",
   "language": "python",
   "name": "python3"
  },
  "language_info": {
   "codemirror_mode": {
    "name": "ipython",
    "version": 3
   },
   "file_extension": ".py",
   "mimetype": "text/x-python",
   "name": "python",
   "nbconvert_exporter": "python",
   "pygments_lexer": "ipython3",
   "version": "3.9.2"
  }
 },
 "nbformat": 4,
 "nbformat_minor": 5
}
