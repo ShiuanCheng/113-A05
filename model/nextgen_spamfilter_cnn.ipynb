{
 "cells": [
  {
   "cell_type": "markdown",
   "id": "fa92275c",
   "metadata": {},
   "source": [
    "# 📘 Next-Generation Spam Filtering - CNN 中文分類模型（最終版）\n",
    "本模型使用 TF-IDF 特徵搭配改良後的中文分詞（使用 jieba 分詞、停用詞過濾、保留空格）以提升準確率，\n",
    "CNN 架構包含兩層卷積 + Global MaxPooling + Dense 層，支援七類中文垃圾郵件分類。"
   ]
  },
  {
   "cell_type": "markdown",
   "id": "454120c6",
   "metadata": {},
   "source": [
    "# 📘 Next-Generation Spam Filtering - CNN 中文分類模型\n",
    "使用 `jieba` 分詞與 TF-IDF 特徵向量，搭配 CNN 進行七類分類。"
   ]
  },
  {
   "cell_type": "markdown",
   "id": "f3c3bf1e",
   "metadata": {},
   "source": [
    "## 📦 第 1 部分：匯入必要套件"
   ]
  },
  {
   "cell_type": "code",
   "execution_count": 1,
   "id": "a222769c",
   "metadata": {},
   "outputs": [],
   "source": [
    "\n",
    "import pandas as pd\n",
    "import re\n",
    "import jieba\n",
    "import numpy as np\n",
    "import tensorflow as tf\n",
    "from collections import Counter\n",
    "from sklearn.model_selection import train_test_split\n",
    "from sklearn.feature_extraction.text import TfidfVectorizer\n",
    "from sklearn.preprocessing import LabelEncoder\n",
    "from sklearn.metrics import classification_report, confusion_matrix\n",
    "import matplotlib.pyplot as plt\n",
    "import seaborn as sns\n"
   ]
  },
  {
   "cell_type": "markdown",
   "id": "4288e145",
   "metadata": {},
   "source": [
    "## 📑 第 2 部分：讀取與預處理資料"
   ]
  },
  {
   "cell_type": "code",
   "execution_count": 2,
   "id": "9713d77f",
   "metadata": {},
   "outputs": [
    {
     "name": "stderr",
     "output_type": "stream",
     "text": [
      "[nltk_data] Downloading package stopwords to\n",
      "[nltk_data]     C:\\Users\\user\\AppData\\Roaming\\nltk_data...\n",
      "[nltk_data]   Package stopwords is already up-to-date!\n",
      "Building prefix dict from the default dictionary ...\n",
      "Loading model from cache C:\\Users\\user\\AppData\\Local\\Temp\\jieba.cache\n",
      "Loading model cost 0.301 seconds.\n",
      "Prefix dict has been built successfully.\n"
     ]
    },
    {
     "data": {
      "text/html": [
       "<div>\n",
       "<style scoped>\n",
       "    .dataframe tbody tr th:only-of-type {\n",
       "        vertical-align: middle;\n",
       "    }\n",
       "\n",
       "    .dataframe tbody tr th {\n",
       "        vertical-align: top;\n",
       "    }\n",
       "\n",
       "    .dataframe thead th {\n",
       "        text-align: right;\n",
       "    }\n",
       "</style>\n",
       "<table border=\"1\" class=\"dataframe\">\n",
       "  <thead>\n",
       "    <tr style=\"text-align: right;\">\n",
       "      <th></th>\n",
       "      <th>subject</th>\n",
       "      <th>message</th>\n",
       "      <th>label</th>\n",
       "      <th>text</th>\n",
       "      <th>clean_text</th>\n",
       "    </tr>\n",
       "  </thead>\n",
       "  <tbody>\n",
       "    <tr>\n",
       "      <th>0</th>\n",
       "      <td>The FuelCell Rebel</td>\n",
       "      <td>全新顏色\\n\\nNew Balance\\nhttps://link.email.newbal...</td>\n",
       "      <td>5</td>\n",
       "      <td>The FuelCell Rebel 全新顏色\\n\\nNew Balance\\nhttps:...</td>\n",
       "      <td>The FuelCell Rebel 全新 顏色 New Balance 男裝 女裝 兒童 ...</td>\n",
       "    </tr>\n",
       "    <tr>\n",
       "      <th>1</th>\n",
       "      <td>1111人力銀行推薦 -【桃園台茂店【涮乃葉】兼職人員及大專院校實習】</td>\n",
       "      <td>\\n    \\n    轉寄履歷-簡式版\\n\\n    \\n        \\n      ...</td>\n",
       "      <td>3</td>\n",
       "      <td>1111人力銀行推薦 -【桃園台茂店【涮乃葉】兼職人員及大專院校實習】 \\n    \\n  ...</td>\n",
       "      <td>1111 人力 銀行 推薦 桃園 台茂店 乃葉 兼職 人員及 大專 院校 實習 轉寄履歷 簡...</td>\n",
       "    </tr>\n",
       "    <tr>\n",
       "      <th>2</th>\n",
       "      <td>陳任璿-2025/03/16 履歷職缺配對通知</td>\n",
       "      <td>\\n  職缺配對                  \\n                  ...</td>\n",
       "      <td>3</td>\n",
       "      <td>陳任璿-2025/03/16 履歷職缺配對通知 \\n  職缺配對              ...</td>\n",
       "      <td>2025 03 16 履歷職 缺配 通知 職缺配 寄送 期待 配對 職缺 這些 職位 符合 ...</td>\n",
       "    </tr>\n",
       "    <tr>\n",
       "      <th>3</th>\n",
       "      <td>你的 Apple 開立發票通知</td>\n",
       "      <td>\\n \\n開立發票通知\\n\\n\\n            APPLE 帳號dana43261...</td>\n",
       "      <td>2</td>\n",
       "      <td>你的 Apple 開立發票通知 \\n \\n開立發票通知\\n\\n\\n            A...</td>\n",
       "      <td>Apple 開立 發票 通知 開立 發票 通知 APPLE 帳號 dana4326172 g...</td>\n",
       "    </tr>\n",
       "    <tr>\n",
       "      <th>4</th>\n",
       "      <td>大谷翔平，準備好續集</td>\n",
       "      <td>The Ohtani Signature Collection\\n\\nNew Balance...</td>\n",
       "      <td>5</td>\n",
       "      <td>大谷翔平，準備好續集 The Ohtani Signature Collection\\n\\n...</td>\n",
       "      <td>大谷 翔平 準備 好續 The Ohtani Signature Collection Ne...</td>\n",
       "    </tr>\n",
       "  </tbody>\n",
       "</table>\n",
       "</div>"
      ],
      "text/plain": [
       "                               subject  \\\n",
       "0                   The FuelCell Rebel   \n",
       "1  1111人力銀行推薦 -【桃園台茂店【涮乃葉】兼職人員及大專院校實習】   \n",
       "2              陳任璿-2025/03/16 履歷職缺配對通知   \n",
       "3                      你的 Apple 開立發票通知   \n",
       "4                           大谷翔平，準備好續集   \n",
       "\n",
       "                                             message  label  \\\n",
       "0  全新顏色\\n\\nNew Balance\\nhttps://link.email.newbal...      5   \n",
       "1  \\n    \\n    轉寄履歷-簡式版\\n\\n    \\n        \\n      ...      3   \n",
       "2  \\n  職缺配對                  \\n                  ...      3   \n",
       "3  \\n \\n開立發票通知\\n\\n\\n            APPLE 帳號dana43261...      2   \n",
       "4  The Ohtani Signature Collection\\n\\nNew Balance...      5   \n",
       "\n",
       "                                                text  \\\n",
       "0  The FuelCell Rebel 全新顏色\\n\\nNew Balance\\nhttps:...   \n",
       "1  1111人力銀行推薦 -【桃園台茂店【涮乃葉】兼職人員及大專院校實習】 \\n    \\n  ...   \n",
       "2  陳任璿-2025/03/16 履歷職缺配對通知 \\n  職缺配對              ...   \n",
       "3  你的 Apple 開立發票通知 \\n \\n開立發票通知\\n\\n\\n            A...   \n",
       "4  大谷翔平，準備好續集 The Ohtani Signature Collection\\n\\n...   \n",
       "\n",
       "                                          clean_text  \n",
       "0  The FuelCell Rebel 全新 顏色 New Balance 男裝 女裝 兒童 ...  \n",
       "1  1111 人力 銀行 推薦 桃園 台茂店 乃葉 兼職 人員及 大專 院校 實習 轉寄履歷 簡...  \n",
       "2  2025 03 16 履歷職 缺配 通知 職缺配 寄送 期待 配對 職缺 這些 職位 符合 ...  \n",
       "3  Apple 開立 發票 通知 開立 發票 通知 APPLE 帳號 dana4326172 g...  \n",
       "4  大谷 翔平 準備 好續 The Ohtani Signature Collection Ne...  "
      ]
     },
     "execution_count": 2,
     "metadata": {},
     "output_type": "execute_result"
    }
   ],
   "source": [
    "import pandas as pd\n",
    "import re\n",
    "import jieba\n",
    "import nltk\n",
    "nltk.download('stopwords')\n",
    "from nltk.corpus import stopwords\n",
    "\n",
    "df = pd.read_csv(\"test.csv\")\n",
    "df['text'] = df['subject'].fillna('') + ' ' + df['message'].fillna('')\n",
    "\n",
    "stop_words = set(stopwords.words('english'))  # 可自定義中文停用詞集\n",
    "\n",
    "def clean_text(text):\n",
    "    text = re.sub(r'https?://\\S+|www\\.\\S+', '', text)\n",
    "    text = re.sub(r'[^\\u4e00-\\u9fa5a-zA-Z0-9]', ' ', text)# 保留中英文與數字\n",
    "    words = jieba.lcut(text)\n",
    "    return ' '.join([w for w in words if w not in stop_words and len(w) > 1])\n",
    "\n",
    "df['clean_text'] = df['text'].apply(clean_text)\n",
    "df.head()"
   ]
  },
  {
   "cell_type": "markdown",
   "id": "d61aee92",
   "metadata": {},
   "source": [
    "## 📊 第 3 部分：類別統計與可視化"
   ]
  },
  {
   "cell_type": "code",
   "execution_count": 3,
   "id": "dc73563b",
   "metadata": {},
   "outputs": [
    {
     "name": "stdout",
     "output_type": "stream",
     "text": [
      "訓練集 各類別數量：\n",
      "類別 0：240 筆\n",
      "類別 1：44 筆\n",
      "類別 2：338 筆\n",
      "類別 3：469 筆\n",
      "類別 4：361 筆\n",
      "類別 5：243 筆\n",
      "類別 6：145 筆\n",
      "\n",
      "驗證集 各類別數量：\n",
      "類別 0：60 筆\n",
      "類別 1：11 筆\n",
      "類別 2：84 筆\n",
      "類別 3：117 筆\n",
      "類別 4：91 筆\n",
      "類別 5：61 筆\n",
      "類別 6：36 筆\n"
     ]
    }
   ],
   "source": [
    "# 對每封信件進行斷詞、去除網址與停用詞，並建立清洗後的新欄位\n",
    "from sklearn.model_selection import train_test_split\n",
    "from collections import Counter\n",
    "\n",
    "# 切分資料（80% 訓練，20% 驗證），並保留 label 分布比例\n",
    "X_train, X_test, y_train, y_test = train_test_split(\n",
    "    df['clean_text'], df['label'], test_size=0.2, stratify=df['label'], random_state=42)\n",
    "\n",
    "# 顯示各類別數量\n",
    "def print_label_counts(title, y):\n",
    "    counter = Counter(y)\n",
    "    print(f\"{title}：\")\n",
    "    for label in sorted(counter):\n",
    "        print(f\"類別 {label}：{counter[label]} 筆\")\n",
    "\n",
    "print_label_counts(\"訓練集 各類別數量\", y_train)\n",
    "print()\n",
    "print_label_counts(\"驗證集 各類別數量\", y_test)\n"
   ]
  },
  {
   "cell_type": "markdown",
   "id": "1d151855",
   "metadata": {},
   "source": [
    "## ✂️ 第 4 部分：分詞、特徵抽取與資料分割"
   ]
  },
  {
   "cell_type": "code",
   "execution_count": 4,
   "id": "82833d22",
   "metadata": {},
   "outputs": [],
   "source": [
    "from sklearn.feature_extraction.text import TfidfVectorizer\n",
    "from sklearn.decomposition import PCA\n",
    "\n",
    "# 使用 TfidfVectorizer 將文字轉為 5000 維向量\n",
    "vectorizer = TfidfVectorizer(max_features=5000)\n",
    "X_train_tfidf = vectorizer.fit_transform(X_train).toarray()\n",
    "X_test_tfidf = vectorizer.transform(X_test).toarray()"
   ]
  },
  {
   "cell_type": "markdown",
   "id": "7c927fc8",
   "metadata": {},
   "source": [
    "## 🧠 第 5 部分：建立 CNN 模型"
   ]
  },
  {
   "cell_type": "code",
   "execution_count": 5,
   "id": "d93c56ff",
   "metadata": {},
   "outputs": [
    {
     "name": "stdout",
     "output_type": "stream",
     "text": [
      "Model: \"sequential\"\n",
      "_________________________________________________________________\n",
      " Layer (type)                Output Shape              Param #   \n",
      "=================================================================\n",
      " conv1d (Conv1D)             (None, 4998, 64)          256       \n",
      "                                                                 \n",
      " max_pooling1d (MaxPooling1D  (None, 2499, 64)         0         \n",
      " )                                                               \n",
      "                                                                 \n",
      " conv1d_1 (Conv1D)           (None, 2497, 128)         24704     \n",
      "                                                                 \n",
      " global_max_pooling1d (Globa  (None, 128)              0         \n",
      " lMaxPooling1D)                                                  \n",
      "                                                                 \n",
      " dense (Dense)               (None, 128)               16512     \n",
      "                                                                 \n",
      " dense_1 (Dense)             (None, 7)                 903       \n",
      "                                                                 \n",
      "=================================================================\n",
      "Total params: 42,375\n",
      "Trainable params: 42,375\n",
      "Non-trainable params: 0\n",
      "_________________________________________________________________\n"
     ]
    }
   ],
   "source": [
    "\n",
    "from tensorflow import keras\n",
    "from tensorflow.keras import layers\n",
    "\n",
    "model = keras.Sequential([\n",
    "    layers.Input(shape=(X_train_tfidf.shape[1], 1)),\n",
    "    layers.Conv1D(64, 3, activation='relu'),\n",
    "    layers.MaxPooling1D(2),\n",
    "    layers.Conv1D(128, 3, activation='relu'),\n",
    "    layers.GlobalMaxPooling1D(),\n",
    "    layers.Dense(128, activation='relu'),\n",
    "    layers.Dense(7, activation='softmax')\n",
    "])\n",
    "\n",
    "model.compile(optimizer='adam', loss='sparse_categorical_crossentropy', metrics=['accuracy'])\n",
    "model.summary()\n",
    "        "
   ]
  },
  {
   "cell_type": "markdown",
   "id": "748d776d",
   "metadata": {},
   "source": [
    "## 🔁 第 6 部分：模型訓練"
   ]
  },
  {
   "cell_type": "code",
   "execution_count": 6,
   "id": "43ba27a4",
   "metadata": {},
   "outputs": [
    {
     "name": "stdout",
     "output_type": "stream",
     "text": [
      "Epoch 1/10\n",
      "58/58 [==============================] - 5s 25ms/step - loss: 1.8387 - accuracy: 0.2837 - val_loss: 1.7751 - val_accuracy: 0.3870\n",
      "Epoch 2/10\n",
      "58/58 [==============================] - 1s 23ms/step - loss: 1.6864 - accuracy: 0.3880 - val_loss: 1.5532 - val_accuracy: 0.3783\n",
      "Epoch 3/10\n",
      "58/58 [==============================] - 1s 23ms/step - loss: 1.5326 - accuracy: 0.4179 - val_loss: 1.4741 - val_accuracy: 0.4674\n",
      "Epoch 4/10\n",
      "58/58 [==============================] - 1s 22ms/step - loss: 1.5004 - accuracy: 0.4266 - val_loss: 1.4504 - val_accuracy: 0.4196\n",
      "Epoch 5/10\n",
      "58/58 [==============================] - 1s 22ms/step - loss: 1.4815 - accuracy: 0.4484 - val_loss: 1.4538 - val_accuracy: 0.4196\n",
      "Epoch 6/10\n",
      "58/58 [==============================] - 1s 23ms/step - loss: 1.4717 - accuracy: 0.4658 - val_loss: 1.4206 - val_accuracy: 0.4739\n",
      "Epoch 7/10\n",
      "58/58 [==============================] - 1s 22ms/step - loss: 1.4436 - accuracy: 0.4821 - val_loss: 1.4051 - val_accuracy: 0.4674\n",
      "Epoch 8/10\n",
      "58/58 [==============================] - 1s 21ms/step - loss: 1.4224 - accuracy: 0.4913 - val_loss: 1.3817 - val_accuracy: 0.4304\n",
      "Epoch 9/10\n",
      "58/58 [==============================] - 1s 21ms/step - loss: 1.3933 - accuracy: 0.4957 - val_loss: 1.3398 - val_accuracy: 0.4978\n",
      "Epoch 10/10\n",
      "58/58 [==============================] - 1s 24ms/step - loss: 1.3606 - accuracy: 0.5185 - val_loss: 1.3300 - val_accuracy: 0.5152\n"
     ]
    }
   ],
   "source": [
    "\n",
    "history = model.fit(X_train_tfidf, y_train, validation_data=(X_test_tfidf, y_test), epochs=10, batch_size=32)\n"
   ]
  },
  {
   "cell_type": "markdown",
   "id": "83706fd6",
   "metadata": {},
   "source": [
    "## 📈 第 7 部分：訓練過程視覺化"
   ]
  },
  {
   "cell_type": "code",
   "execution_count": 7,
   "id": "03d0d056",
   "metadata": {},
   "outputs": [
    {
     "name": "stderr",
     "output_type": "stream",
     "text": [
      "d:\\文大專題\\program\\Lingspam\\.venv\\lib\\site-packages\\IPython\\core\\pylabtools.py:152: UserWarning: Glyph 35347 (\\N{CJK UNIFIED IDEOGRAPH-8A13}) missing from current font.\n",
      "  fig.canvas.print_figure(bytes_io, **kw)\n",
      "d:\\文大專題\\program\\Lingspam\\.venv\\lib\\site-packages\\IPython\\core\\pylabtools.py:152: UserWarning: Glyph 32244 (\\N{CJK UNIFIED IDEOGRAPH-7DF4}) missing from current font.\n",
      "  fig.canvas.print_figure(bytes_io, **kw)\n",
      "d:\\文大專題\\program\\Lingspam\\.venv\\lib\\site-packages\\IPython\\core\\pylabtools.py:152: UserWarning: Glyph 36942 (\\N{CJK UNIFIED IDEOGRAPH-904E}) missing from current font.\n",
      "  fig.canvas.print_figure(bytes_io, **kw)\n",
      "d:\\文大專題\\program\\Lingspam\\.venv\\lib\\site-packages\\IPython\\core\\pylabtools.py:152: UserWarning: Glyph 31243 (\\N{CJK UNIFIED IDEOGRAPH-7A0B}) missing from current font.\n",
      "  fig.canvas.print_figure(bytes_io, **kw)\n",
      "d:\\文大專題\\program\\Lingspam\\.venv\\lib\\site-packages\\IPython\\core\\pylabtools.py:152: UserWarning: Glyph 65288 (\\N{FULLWIDTH LEFT PARENTHESIS}) missing from current font.\n",
      "  fig.canvas.print_figure(bytes_io, **kw)\n",
      "d:\\文大專題\\program\\Lingspam\\.venv\\lib\\site-packages\\IPython\\core\\pylabtools.py:152: UserWarning: Glyph 28310 (\\N{CJK UNIFIED IDEOGRAPH-6E96}) missing from current font.\n",
      "  fig.canvas.print_figure(bytes_io, **kw)\n",
      "d:\\文大專題\\program\\Lingspam\\.venv\\lib\\site-packages\\IPython\\core\\pylabtools.py:152: UserWarning: Glyph 30906 (\\N{CJK UNIFIED IDEOGRAPH-78BA}) missing from current font.\n",
      "  fig.canvas.print_figure(bytes_io, **kw)\n",
      "d:\\文大專題\\program\\Lingspam\\.venv\\lib\\site-packages\\IPython\\core\\pylabtools.py:152: UserWarning: Glyph 29575 (\\N{CJK UNIFIED IDEOGRAPH-7387}) missing from current font.\n",
      "  fig.canvas.print_figure(bytes_io, **kw)\n",
      "d:\\文大專題\\program\\Lingspam\\.venv\\lib\\site-packages\\IPython\\core\\pylabtools.py:152: UserWarning: Glyph 25613 (\\N{CJK UNIFIED IDEOGRAPH-640D}) missing from current font.\n",
      "  fig.canvas.print_figure(bytes_io, **kw)\n",
      "d:\\文大專題\\program\\Lingspam\\.venv\\lib\\site-packages\\IPython\\core\\pylabtools.py:152: UserWarning: Glyph 22833 (\\N{CJK UNIFIED IDEOGRAPH-5931}) missing from current font.\n",
      "  fig.canvas.print_figure(bytes_io, **kw)\n",
      "d:\\文大專題\\program\\Lingspam\\.venv\\lib\\site-packages\\IPython\\core\\pylabtools.py:152: UserWarning: Glyph 65289 (\\N{FULLWIDTH RIGHT PARENTHESIS}) missing from current font.\n",
      "  fig.canvas.print_figure(bytes_io, **kw)\n",
      "d:\\文大專題\\program\\Lingspam\\.venv\\lib\\site-packages\\IPython\\core\\pylabtools.py:152: UserWarning: Glyph 20540 (\\N{CJK UNIFIED IDEOGRAPH-503C}) missing from current font.\n",
      "  fig.canvas.print_figure(bytes_io, **kw)\n"
     ]
    },
    {
     "data": {
      "image/png": "[encoded data removed]",
      "text/plain": [
       "<Figure size 640x480 with 1 Axes>"
      ]
     },
     "metadata": {},
     "output_type": "display_data"
    }
   ],
   "source": [
    "\n",
    "plt.plot(history.history['accuracy'], label='Train Acc')\n",
    "plt.plot(history.history['val_accuracy'], label='Val Acc')\n",
    "plt.plot(history.history['loss'], label='Train Loss')\n",
    "plt.plot(history.history['val_loss'], label='Val Loss')\n",
    "plt.title(\"訓練過程（準確率 / 損失）\")\n",
    "plt.xlabel(\"Epoch\")\n",
    "plt.ylabel(\"值\")\n",
    "plt.legend()\n",
    "plt.grid(True)\n",
    "plt.show()\n"
   ]
  },
  {
   "cell_type": "markdown",
   "id": "2a7b1dc0",
   "metadata": {},
   "source": [
    "## 📊 第 8 部分：模型評估與混淆矩陣"
   ]
  },
  {
   "cell_type": "code",
   "execution_count": 8,
   "id": "b65f3107",
   "metadata": {},
   "outputs": [
    {
     "name": "stdout",
     "output_type": "stream",
     "text": [
      "15/15 [==============================] - 0s 6ms/step\n",
      "              precision    recall  f1-score   support\n",
      "\n",
      "           0     0.5652    0.2167    0.3133        60\n",
      "           1     0.0000    0.0000    0.0000        11\n",
      "           2     0.4326    0.7262    0.5422        84\n",
      "           3     0.7429    0.8889    0.8093       117\n",
      "           4     0.3766    0.6374    0.4735        91\n",
      "           5     0.5000    0.0164    0.0317        61\n",
      "           6     0.0000    0.0000    0.0000        36\n",
      "\n",
      "    accuracy                         0.5152       460\n",
      "   macro avg     0.3739    0.3551    0.3100       460\n",
      "weighted avg     0.4825    0.5152    0.4436       460\n",
      "\n"
     ]
    },
    {
     "name": "stderr",
     "output_type": "stream",
     "text": [
      "d:\\文大專題\\program\\Lingspam\\.venv\\lib\\site-packages\\sklearn\\metrics\\_classification.py:1344: UndefinedMetricWarning: Precision and F-score are ill-defined and being set to 0.0 in labels with no predicted samples. Use `zero_division` parameter to control this behavior.\n",
      "  _warn_prf(average, modifier, msg_start, len(result))\n",
      "d:\\文大專題\\program\\Lingspam\\.venv\\lib\\site-packages\\sklearn\\metrics\\_classification.py:1344: UndefinedMetricWarning: Precision and F-score are ill-defined and being set to 0.0 in labels with no predicted samples. Use `zero_division` parameter to control this behavior.\n",
      "  _warn_prf(average, modifier, msg_start, len(result))\n",
      "d:\\文大專題\\program\\Lingspam\\.venv\\lib\\site-packages\\sklearn\\metrics\\_classification.py:1344: UndefinedMetricWarning: Precision and F-score are ill-defined and being set to 0.0 in labels with no predicted samples. Use `zero_division` parameter to control this behavior.\n",
      "  _warn_prf(average, modifier, msg_start, len(result))\n",
      "d:\\文大專題\\program\\Lingspam\\.venv\\lib\\site-packages\\IPython\\core\\pylabtools.py:152: UserWarning: Glyph 28151 (\\N{CJK UNIFIED IDEOGRAPH-6DF7}) missing from current font.\n",
      "  fig.canvas.print_figure(bytes_io, **kw)\n",
      "d:\\文大專題\\program\\Lingspam\\.venv\\lib\\site-packages\\IPython\\core\\pylabtools.py:152: UserWarning: Glyph 28102 (\\N{CJK UNIFIED IDEOGRAPH-6DC6}) missing from current font.\n",
      "  fig.canvas.print_figure(bytes_io, **kw)\n",
      "d:\\文大專題\\program\\Lingspam\\.venv\\lib\\site-packages\\IPython\\core\\pylabtools.py:152: UserWarning: Glyph 30697 (\\N{CJK UNIFIED IDEOGRAPH-77E9}) missing from current font.\n",
      "  fig.canvas.print_figure(bytes_io, **kw)\n",
      "d:\\文大專題\\program\\Lingspam\\.venv\\lib\\site-packages\\IPython\\core\\pylabtools.py:152: UserWarning: Glyph 38499 (\\N{CJK UNIFIED IDEOGRAPH-9663}) missing from current font.\n",
      "  fig.canvas.print_figure(bytes_io, **kw)\n",
      "d:\\文大專題\\program\\Lingspam\\.venv\\lib\\site-packages\\IPython\\core\\pylabtools.py:152: UserWarning: Glyph 38928 (\\N{CJK UNIFIED IDEOGRAPH-9810}) missing from current font.\n",
      "  fig.canvas.print_figure(bytes_io, **kw)\n",
      "d:\\文大專題\\program\\Lingspam\\.venv\\lib\\site-packages\\IPython\\core\\pylabtools.py:152: UserWarning: Glyph 28204 (\\N{CJK UNIFIED IDEOGRAPH-6E2C}) missing from current font.\n",
      "  fig.canvas.print_figure(bytes_io, **kw)\n",
      "d:\\文大專題\\program\\Lingspam\\.venv\\lib\\site-packages\\IPython\\core\\pylabtools.py:152: UserWarning: Glyph 20540 (\\N{CJK UNIFIED IDEOGRAPH-503C}) missing from current font.\n",
      "  fig.canvas.print_figure(bytes_io, **kw)\n",
      "d:\\文大專題\\program\\Lingspam\\.venv\\lib\\site-packages\\IPython\\core\\pylabtools.py:152: UserWarning: Glyph 23526 (\\N{CJK UNIFIED IDEOGRAPH-5BE6}) missing from current font.\n",
      "  fig.canvas.print_figure(bytes_io, **kw)\n",
      "d:\\文大專題\\program\\Lingspam\\.venv\\lib\\site-packages\\IPython\\core\\pylabtools.py:152: UserWarning: Glyph 38555 (\\N{CJK UNIFIED IDEOGRAPH-969B}) missing from current font.\n",
      "  fig.canvas.print_figure(bytes_io, **kw)\n"
     ]
    },
    {
     "data": {
      "image/png": "[encoded data removed]",
      "text/plain": [
       "<Figure size 800x600 with 2 Axes>"
      ]
     },
     "metadata": {},
     "output_type": "display_data"
    }
   ],
   "source": [
    "\n",
    "y_pred = model.predict(X_test_tfidf)\n",
    "y_pred_labels = np.argmax(y_pred, axis=1)\n",
    "\n",
    "print(classification_report(y_test, y_pred_labels, digits=4))\n",
    "\n",
    "cm = confusion_matrix(y_test, y_pred_labels)\n",
    "plt.figure(figsize=(8,6))\n",
    "sns.heatmap(cm, annot=True, fmt='d', cmap=\"Blues\")\n",
    "plt.title(\"混淆矩陣\")\n",
    "plt.xlabel(\"預測值\")\n",
    "plt.ylabel(\"實際值\")\n",
    "plt.show()\n"
   ]
  },
  {
   "cell_type": "markdown",
   "id": "ba7e1748",
   "metadata": {},
   "source": [
    "## 🔍 附加：單句預測測試"
   ]
  },
  {
   "cell_type": "code",
   "execution_count": 9,
   "id": "60c64324",
   "metadata": {},
   "outputs": [
    {
     "ename": "TypeError",
     "evalue": "argument of type 'WordListCorpusReader' is not iterable",
     "output_type": "error",
     "traceback": [
      "\u001b[1;31m---------------------------------------------------------------------------\u001b[0m",
      "\u001b[1;31mTypeError\u001b[0m                                 Traceback (most recent call last)",
      "Cell \u001b[1;32mIn[9], line 13\u001b[0m\n\u001b[0;32m     10\u001b[0m     \u001b[38;5;28mprint\u001b[39m(\u001b[38;5;124mf\u001b[39m\u001b[38;5;124m\"\u001b[39m\u001b[38;5;124m預測類別：\u001b[39m\u001b[38;5;132;01m{\u001b[39;00mlabel\u001b[38;5;132;01m}\u001b[39;00m\u001b[38;5;124m（信心值：\u001b[39m\u001b[38;5;132;01m{\u001b[39;00mpred[\u001b[38;5;241m0\u001b[39m][label]\u001b[38;5;132;01m:\u001b[39;00m\u001b[38;5;124m.4f\u001b[39m\u001b[38;5;132;01m}\u001b[39;00m\u001b[38;5;124m）\u001b[39m\u001b[38;5;124m\"\u001b[39m)\n\u001b[0;32m     12\u001b[0m \u001b[38;5;66;03m# 範例\u001b[39;00m\n\u001b[1;32m---> 13\u001b[0m \u001b[43mpredict_text\u001b[49m\u001b[43m(\u001b[49m\u001b[38;5;124;43m\"\u001b[39;49m\u001b[38;5;124;43m您好，您的驗證碼是123456，請勿告訴他人。\u001b[39;49m\u001b[38;5;124;43m\"\u001b[39;49m\u001b[43m)\u001b[49m\n",
      "Cell \u001b[1;32mIn[9], line 5\u001b[0m, in \u001b[0;36mpredict_text\u001b[1;34m(text)\u001b[0m\n\u001b[0;32m      3\u001b[0m text_clean \u001b[38;5;241m=\u001b[39m re\u001b[38;5;241m.\u001b[39msub(\u001b[38;5;124mr\u001b[39m\u001b[38;5;124m'\u001b[39m\u001b[38;5;124m[^\u001b[39m\u001b[38;5;124m\\\u001b[39m\u001b[38;5;124mu4e00-\u001b[39m\u001b[38;5;124m\\\u001b[39m\u001b[38;5;124mu9fa5a-zA-Z0-9\u001b[39m\u001b[38;5;124m\\\u001b[39m\u001b[38;5;124ms]\u001b[39m\u001b[38;5;124m'\u001b[39m, \u001b[38;5;124m'\u001b[39m\u001b[38;5;124m \u001b[39m\u001b[38;5;124m'\u001b[39m, text_clean)\u001b[38;5;241m.\u001b[39mlower()\n\u001b[0;32m      4\u001b[0m words \u001b[38;5;241m=\u001b[39m jieba\u001b[38;5;241m.\u001b[39mcut(text_clean)\n\u001b[1;32m----> 5\u001b[0m tokens \u001b[38;5;241m=\u001b[39m \u001b[38;5;124;43m\"\u001b[39;49m\u001b[38;5;124;43m \u001b[39;49m\u001b[38;5;124;43m\"\u001b[39;49m\u001b[38;5;241;43m.\u001b[39;49m\u001b[43mjoin\u001b[49m\u001b[43m(\u001b[49m\u001b[43mw\u001b[49m\u001b[43m \u001b[49m\u001b[38;5;28;43;01mfor\u001b[39;49;00m\u001b[43m \u001b[49m\u001b[43mw\u001b[49m\u001b[43m \u001b[49m\u001b[38;5;129;43;01min\u001b[39;49;00m\u001b[43m \u001b[49m\u001b[43mwords\u001b[49m\u001b[43m \u001b[49m\u001b[38;5;28;43;01mif\u001b[39;49;00m\u001b[43m \u001b[49m\u001b[38;5;28;43mlen\u001b[39;49m\u001b[43m(\u001b[49m\u001b[43mw\u001b[49m\u001b[43m)\u001b[49m\u001b[43m \u001b[49m\u001b[38;5;241;43m>\u001b[39;49m\u001b[43m \u001b[49m\u001b[38;5;241;43m1\u001b[39;49m\u001b[43m \u001b[49m\u001b[38;5;129;43;01mand\u001b[39;49;00m\u001b[43m \u001b[49m\u001b[43mw\u001b[49m\u001b[43m \u001b[49m\u001b[38;5;129;43;01mnot\u001b[39;49;00m\u001b[43m \u001b[49m\u001b[38;5;129;43;01min\u001b[39;49;00m\u001b[43m \u001b[49m\u001b[43mstopwords\u001b[49m\u001b[43m)\u001b[49m\n\u001b[0;32m      6\u001b[0m vec \u001b[38;5;241m=\u001b[39m vectorizer\u001b[38;5;241m.\u001b[39mtransform([tokens])\u001b[38;5;241m.\u001b[39mtoarray()\n\u001b[0;32m      7\u001b[0m vec \u001b[38;5;241m=\u001b[39m vec\u001b[38;5;241m.\u001b[39mreshape((\u001b[38;5;241m1\u001b[39m, vec\u001b[38;5;241m.\u001b[39mshape[\u001b[38;5;241m1\u001b[39m]))\n",
      "Cell \u001b[1;32mIn[9], line 5\u001b[0m, in \u001b[0;36m<genexpr>\u001b[1;34m(.0)\u001b[0m\n\u001b[0;32m      3\u001b[0m text_clean \u001b[38;5;241m=\u001b[39m re\u001b[38;5;241m.\u001b[39msub(\u001b[38;5;124mr\u001b[39m\u001b[38;5;124m'\u001b[39m\u001b[38;5;124m[^\u001b[39m\u001b[38;5;124m\\\u001b[39m\u001b[38;5;124mu4e00-\u001b[39m\u001b[38;5;124m\\\u001b[39m\u001b[38;5;124mu9fa5a-zA-Z0-9\u001b[39m\u001b[38;5;124m\\\u001b[39m\u001b[38;5;124ms]\u001b[39m\u001b[38;5;124m'\u001b[39m, \u001b[38;5;124m'\u001b[39m\u001b[38;5;124m \u001b[39m\u001b[38;5;124m'\u001b[39m, text_clean)\u001b[38;5;241m.\u001b[39mlower()\n\u001b[0;32m      4\u001b[0m words \u001b[38;5;241m=\u001b[39m jieba\u001b[38;5;241m.\u001b[39mcut(text_clean)\n\u001b[1;32m----> 5\u001b[0m tokens \u001b[38;5;241m=\u001b[39m \u001b[38;5;124m\"\u001b[39m\u001b[38;5;124m \u001b[39m\u001b[38;5;124m\"\u001b[39m\u001b[38;5;241m.\u001b[39mjoin(w \u001b[38;5;28;01mfor\u001b[39;00m w \u001b[38;5;129;01min\u001b[39;00m words \u001b[38;5;28;01mif\u001b[39;00m \u001b[38;5;28mlen\u001b[39m(w) \u001b[38;5;241m>\u001b[39m \u001b[38;5;241m1\u001b[39m \u001b[38;5;129;01mand\u001b[39;00m \u001b[43mw\u001b[49m\u001b[43m \u001b[49m\u001b[38;5;129;43;01mnot\u001b[39;49;00m\u001b[43m \u001b[49m\u001b[38;5;129;43;01min\u001b[39;49;00m\u001b[43m \u001b[49m\u001b[43mstopwords\u001b[49m)\n\u001b[0;32m      6\u001b[0m vec \u001b[38;5;241m=\u001b[39m vectorizer\u001b[38;5;241m.\u001b[39mtransform([tokens])\u001b[38;5;241m.\u001b[39mtoarray()\n\u001b[0;32m      7\u001b[0m vec \u001b[38;5;241m=\u001b[39m vec\u001b[38;5;241m.\u001b[39mreshape((\u001b[38;5;241m1\u001b[39m, vec\u001b[38;5;241m.\u001b[39mshape[\u001b[38;5;241m1\u001b[39m]))\n",
      "\u001b[1;31mTypeError\u001b[0m: argument of type 'WordListCorpusReader' is not iterable"
     ]
    }
   ],
   "source": [
    "\n",
    "def predict_text(text):\n",
    "    text_clean = re.sub(r'https?://\\S+', '', text)\n",
    "    text_clean = re.sub(r'[^\\u4e00-\\u9fa5a-zA-Z0-9\\s]', ' ', text_clean).lower()\n",
    "    words = jieba.cut(text_clean)\n",
    "    tokens = \" \".join(w for w in words if len(w) > 1 and w not in stopwords)\n",
    "    vec = vectorizer.transform([tokens]).toarray()\n",
    "    vec = vec.reshape((1, vec.shape[1]))\n",
    "    pred = model.predict(vec)\n",
    "    label = np.argmax(pred)\n",
    "    print(f\"預測類別：{label}（信心值：{pred[0][label]:.4f}）\")\n",
    "\n",
    "# 範例\n",
    "predict_text(\"您好，您的驗證碼是123456，請勿告訴他人。\")\n"
   ]
  }
 ],
 "metadata": {
  "kernelspec": {
   "display_name": ".venv",
   "language": "python",
   "name": "python3"
  },
  "language_info": {
   "codemirror_mode": {
    "name": "ipython",
    "version": 3
   },
   "file_extension": ".py",
   "mimetype": "text/x-python",
   "name": "python",
   "nbconvert_exporter": "python",
   "pygments_lexer": "ipython3",
   "version": "3.9.2"
  }
 },
 "nbformat": 4,
 "nbformat_minor": 5
}
