{
 "cells": [
  {
   "cell_type": "markdown",
   "id": "454120c6",
   "metadata": {},
   "source": [
    "# 📘 Next-Generation Spam Filtering - CNN 中文分類模型\n",
    "使用 `jieba` 分詞與 TF-IDF 特徵向量，搭配 CNN 進行七類分類。"
   ]
  },
  {
   "cell_type": "markdown",
   "id": "f3c3bf1e",
   "metadata": {},
   "source": [
    "## 📦 第 1 部分：匯入必要套件"
   ]
  },
  {
   "cell_type": "code",
   "execution_count": 1,
   "id": "a222769c",
   "metadata": {},
   "outputs": [],
   "source": [
    "\n",
    "import pandas as pd\n",
    "import re\n",
    "import jieba\n",
    "import numpy as np\n",
    "import tensorflow as tf\n",
    "from collections import Counter\n",
    "from sklearn.model_selection import train_test_split\n",
    "from sklearn.feature_extraction.text import TfidfVectorizer\n",
    "from sklearn.preprocessing import LabelEncoder\n",
    "from sklearn.metrics import classification_report, confusion_matrix\n",
    "import matplotlib.pyplot as plt\n",
    "import seaborn as sns\n"
   ]
  },
  {
   "cell_type": "markdown",
   "id": "4288e145",
   "metadata": {},
   "source": [
    "## 📑 第 2 部分：讀取與預處理資料"
   ]
  },
  {
   "cell_type": "code",
   "execution_count": 2,
   "id": "9713d77f",
   "metadata": {},
   "outputs": [
    {
     "data": {
      "text/html": [
       "<div>\n",
       "<style scoped>\n",
       "    .dataframe tbody tr th:only-of-type {\n",
       "        vertical-align: middle;\n",
       "    }\n",
       "\n",
       "    .dataframe tbody tr th {\n",
       "        vertical-align: top;\n",
       "    }\n",
       "\n",
       "    .dataframe thead th {\n",
       "        text-align: right;\n",
       "    }\n",
       "</style>\n",
       "<table border=\"1\" class=\"dataframe\">\n",
       "  <thead>\n",
       "    <tr style=\"text-align: right;\">\n",
       "      <th></th>\n",
       "      <th>text</th>\n",
       "      <th>text_clean</th>\n",
       "    </tr>\n",
       "  </thead>\n",
       "  <tbody>\n",
       "    <tr>\n",
       "      <th>0</th>\n",
       "      <td>The FuelCell Rebel 全新顏色\\n\\nNew Balance\\nhttps:...</td>\n",
       "      <td>the fuelcell rebel 全新顏色\\n\\nnew balance\\n\\n\\n\\n...</td>\n",
       "    </tr>\n",
       "    <tr>\n",
       "      <th>1</th>\n",
       "      <td>1111人力銀行推薦 -【桃園台茂店【涮乃葉】兼職人員及大專院校實習】 \\n    \\n  ...</td>\n",
       "      <td>1111人力銀行推薦 桃園台茂店涮乃葉兼職人員及大專院校實習 \\n    \\n    轉寄履...</td>\n",
       "    </tr>\n",
       "    <tr>\n",
       "      <th>2</th>\n",
       "      <td>陳任璿-2025/03/16 履歷職缺配對通知 \\n  職缺配對              ...</td>\n",
       "      <td>陳任璿20250316 履歷職缺配對通知 \\n  職缺配對                 ...</td>\n",
       "    </tr>\n",
       "    <tr>\n",
       "      <th>3</th>\n",
       "      <td>你的 Apple 開立發票通知 \\n \\n開立發票通知\\n\\n\\n            A...</td>\n",
       "      <td>你的 apple 開立發票通知 \\n \\n開立發票通知\\n\\n\\n            a...</td>\n",
       "    </tr>\n",
       "    <tr>\n",
       "      <th>4</th>\n",
       "      <td>大谷翔平，準備好續集 The Ohtani Signature Collection\\n\\n...</td>\n",
       "      <td>大谷翔平準備好續集 the ohtani signature collection\\n\\nn...</td>\n",
       "    </tr>\n",
       "  </tbody>\n",
       "</table>\n",
       "</div>"
      ],
      "text/plain": [
       "                                                text  \\\n",
       "0  The FuelCell Rebel 全新顏色\\n\\nNew Balance\\nhttps:...   \n",
       "1  1111人力銀行推薦 -【桃園台茂店【涮乃葉】兼職人員及大專院校實習】 \\n    \\n  ...   \n",
       "2  陳任璿-2025/03/16 履歷職缺配對通知 \\n  職缺配對              ...   \n",
       "3  你的 Apple 開立發票通知 \\n \\n開立發票通知\\n\\n\\n            A...   \n",
       "4  大谷翔平，準備好續集 The Ohtani Signature Collection\\n\\n...   \n",
       "\n",
       "                                          text_clean  \n",
       "0  the fuelcell rebel 全新顏色\\n\\nnew balance\\n\\n\\n\\n...  \n",
       "1  1111人力銀行推薦 桃園台茂店涮乃葉兼職人員及大專院校實習 \\n    \\n    轉寄履...  \n",
       "2  陳任璿20250316 履歷職缺配對通知 \\n  職缺配對                 ...  \n",
       "3  你的 apple 開立發票通知 \\n \\n開立發票通知\\n\\n\\n            a...  \n",
       "4  大谷翔平準備好續集 the ohtani signature collection\\n\\nn...  "
      ]
     },
     "execution_count": 2,
     "metadata": {},
     "output_type": "execute_result"
    }
   ],
   "source": [
    "\n",
    "df = pd.read_csv(\"test.csv\")\n",
    "df[\"text\"] = df[\"subject\"].fillna('') + \" \" + df[\"message\"].fillna('')\n",
    "\n",
    "def clean_text(text):\n",
    "    text = re.sub(r'https?://\\S+', '', text)\n",
    "    text = re.sub(r'[^\\u4e00-\\u9fa5a-zA-Z0-9\\s]', '', text)\n",
    "    return text.lower().strip()\n",
    "\n",
    "df[\"text_clean\"] = df[\"text\"].apply(clean_text)\n",
    "df[[\"text\", \"text_clean\"]].head()\n"
   ]
  },
  {
   "cell_type": "markdown",
   "id": "d61aee92",
   "metadata": {},
   "source": [
    "## 📊 第 3 部分：類別統計與可視化"
   ]
  },
  {
   "cell_type": "code",
   "execution_count": 3,
   "id": "dc73563b",
   "metadata": {},
   "outputs": [
    {
     "name": "stderr",
     "output_type": "stream",
     "text": [
      "C:\\Users\\user\\AppData\\Local\\Temp\\ipykernel_40176\\824136342.py:9: UserWarning: Glyph 20998 (\\N{CJK UNIFIED IDEOGRAPH-5206}) missing from current font.\n",
      "  plt.tight_layout()\n",
      "C:\\Users\\user\\AppData\\Local\\Temp\\ipykernel_40176\\824136342.py:9: UserWarning: Glyph 24067 (\\N{CJK UNIFIED IDEOGRAPH-5E03}) missing from current font.\n",
      "  plt.tight_layout()\n",
      "C:\\Users\\user\\AppData\\Local\\Temp\\ipykernel_40176\\824136342.py:9: UserWarning: Glyph 65288 (\\N{FULLWIDTH LEFT PARENTHESIS}) missing from current font.\n",
      "  plt.tight_layout()\n",
      "C:\\Users\\user\\AppData\\Local\\Temp\\ipykernel_40176\\824136342.py:9: UserWarning: Glyph 65289 (\\N{FULLWIDTH RIGHT PARENTHESIS}) missing from current font.\n",
      "  plt.tight_layout()\n",
      "d:\\文大專題\\program\\Lingspam\\.venv\\lib\\site-packages\\IPython\\core\\pylabtools.py:152: UserWarning: Glyph 20998 (\\N{CJK UNIFIED IDEOGRAPH-5206}) missing from current font.\n",
      "  fig.canvas.print_figure(bytes_io, **kw)\n",
      "d:\\文大專題\\program\\Lingspam\\.venv\\lib\\site-packages\\IPython\\core\\pylabtools.py:152: UserWarning: Glyph 24067 (\\N{CJK UNIFIED IDEOGRAPH-5E03}) missing from current font.\n",
      "  fig.canvas.print_figure(bytes_io, **kw)\n",
      "d:\\文大專題\\program\\Lingspam\\.venv\\lib\\site-packages\\IPython\\core\\pylabtools.py:152: UserWarning: Glyph 65288 (\\N{FULLWIDTH LEFT PARENTHESIS}) missing from current font.\n",
      "  fig.canvas.print_figure(bytes_io, **kw)\n",
      "d:\\文大專題\\program\\Lingspam\\.venv\\lib\\site-packages\\IPython\\core\\pylabtools.py:152: UserWarning: Glyph 65289 (\\N{FULLWIDTH RIGHT PARENTHESIS}) missing from current font.\n",
      "  fig.canvas.print_figure(bytes_io, **kw)\n"
     ]
    },
    {
     "data": {
      "image/png": "[encoded data removed]",
      "text/plain": [
       "<Figure size 800x500 with 1 Axes>"
      ]
     },
     "metadata": {},
     "output_type": "display_data"
    }
   ],
   "source": [
    "\n",
    "label_counts = df[\"label\"].value_counts().sort_index()\n",
    "plt.figure(figsize=(8,5))\n",
    "label_counts.plot(kind=\"bar\", color=\"green\")\n",
    "plt.title(\"Label 分布（0~6）\")\n",
    "plt.xlabel(\"Label\")\n",
    "plt.ylabel(\"Count\")\n",
    "plt.grid(axis=\"y\")\n",
    "plt.xticks(rotation=0)\n",
    "plt.tight_layout()\n",
    "plt.show()\n"
   ]
  },
  {
   "cell_type": "markdown",
   "id": "1d151855",
   "metadata": {},
   "source": [
    "## ✂️ 第 4 部分：分詞、特徵抽取與資料分割"
   ]
  },
  {
   "cell_type": "code",
   "execution_count": 4,
   "id": "82833d22",
   "metadata": {},
   "outputs": [
    {
     "name": "stderr",
     "output_type": "stream",
     "text": [
      "Building prefix dict from the default dictionary ...\n",
      "Loading model from cache C:\\Users\\user\\AppData\\Local\\Temp\\jieba.cache\n",
      "Loading model cost 0.285 seconds.\n",
      "Prefix dict has been built successfully.\n"
     ]
    },
    {
     "name": "stdout",
     "output_type": "stream",
     "text": [
      "全體資料集 各類別數量：\n",
      "類別 0：300 筆\n",
      "類別 1：55 筆\n",
      "類別 2：422 筆\n",
      "類別 3：586 筆\n",
      "類別 4：452 筆\n",
      "類別 5：304 筆\n",
      "類別 6：181 筆\n",
      "\n",
      "訓練集 各類別數量：\n",
      "類別 0：240 筆\n",
      "類別 1：44 筆\n",
      "類別 2：338 筆\n",
      "類別 3：469 筆\n",
      "類別 4：361 筆\n",
      "類別 5：243 筆\n",
      "類別 6：145 筆\n",
      "\n",
      "驗證集 各類別數量：\n",
      "類別 0：60 筆\n",
      "類別 1：11 筆\n",
      "類別 2：84 筆\n",
      "類別 3：117 筆\n",
      "類別 4：91 筆\n",
      "類別 5：61 筆\n",
      "類別 6：36 筆\n",
      "\n"
     ]
    }
   ],
   "source": [
    "\n",
    "# 分詞\n",
    "def tokenize(text):\n",
    "    return \" \".join(jieba.cut(text))\n",
    "\n",
    "df[\"tokens\"] = df[\"text_clean\"].apply(tokenize)\n",
    "\n",
    "# 標籤編碼\n",
    "label_encoder = LabelEncoder()\n",
    "df[\"encoded_label\"] = label_encoder.fit_transform(df[\"label\"])\n",
    "\n",
    "# 切割資料集\n",
    "X_train, X_test, y_train, y_test = train_test_split(\n",
    "    df[\"tokens\"], df[\"encoded_label\"], test_size=0.2, random_state=42, stratify=df[\"encoded_label\"]\n",
    ")\n",
    "\n",
    "# 顯示類別統計\n",
    "def print_counter(title, counter_dict):\n",
    "    print(f\"{title} 各類別數量：\")\n",
    "    for k in sorted(counter_dict):\n",
    "        print(f\"類別 {k}：{counter_dict[k]} 筆\")\n",
    "    print()\n",
    "\n",
    "print_counter(\"全體資料集\", Counter(df[\"label\"]))\n",
    "print_counter(\"訓練集\", Counter(y_train))\n",
    "print_counter(\"驗證集\", Counter(y_test))\n"
   ]
  },
  {
   "cell_type": "markdown",
   "id": "23a73340",
   "metadata": {},
   "source": [
    "## 🔍 第 5 部分：TF-IDF 特徵抽取"
   ]
  },
  {
   "cell_type": "code",
   "execution_count": 5,
   "id": "ea8b98d2",
   "metadata": {},
   "outputs": [
    {
     "name": "stdout",
     "output_type": "stream",
     "text": [
      "TF-IDF 特徵維度： 5000\n"
     ]
    }
   ],
   "source": [
    "\n",
    "vectorizer = TfidfVectorizer(max_features=5000)\n",
    "X_train_tfidf = vectorizer.fit_transform(X_train).toarray()\n",
    "X_test_tfidf = vectorizer.transform(X_test).toarray()\n",
    "\n",
    "print(\"TF-IDF 特徵維度：\", X_train_tfidf.shape[1])\n"
   ]
  },
  {
   "cell_type": "markdown",
   "id": "7c927fc8",
   "metadata": {},
   "source": [
    "## 🧠 第 6 部分：建立 CNN 模型"
   ]
  },
  {
   "cell_type": "code",
   "execution_count": 6,
   "id": "d93c56ff",
   "metadata": {},
   "outputs": [
    {
     "name": "stdout",
     "output_type": "stream",
     "text": [
      "Model: \"sequential\"\n",
      "_________________________________________________________________\n",
      " Layer (type)                Output Shape              Param #   \n",
      "=================================================================\n",
      " reshape (Reshape)           (None, 5000, 1)           0         \n",
      "                                                                 \n",
      " conv1d (Conv1D)             (None, 4996, 128)         768       \n",
      "                                                                 \n",
      " max_pooling1d (MaxPooling1D  (None, 2498, 128)        0         \n",
      " )                                                               \n",
      "                                                                 \n",
      " conv1d_1 (Conv1D)           (None, 2496, 64)          24640     \n",
      "                                                                 \n",
      " global_max_pooling1d (Globa  (None, 64)               0         \n",
      " lMaxPooling1D)                                                  \n",
      "                                                                 \n",
      " dense (Dense)               (None, 64)                4160      \n",
      "                                                                 \n",
      " dropout (Dropout)           (None, 64)                0         \n",
      "                                                                 \n",
      " dense_1 (Dense)             (None, 7)                 455       \n",
      "                                                                 \n",
      "=================================================================\n",
      "Total params: 30,023\n",
      "Trainable params: 30,023\n",
      "Non-trainable params: 0\n",
      "_________________________________________________________________\n"
     ]
    }
   ],
   "source": [
    "\n",
    "model = tf.keras.Sequential([\n",
    "    tf.keras.layers.Reshape((X_train_tfidf.shape[1], 1), input_shape=(X_train_tfidf.shape[1],)),\n",
    "    tf.keras.layers.Conv1D(128, 5, activation='relu'),\n",
    "    tf.keras.layers.MaxPooling1D(pool_size=2),\n",
    "    tf.keras.layers.Conv1D(64, 3, activation='relu'),\n",
    "    tf.keras.layers.GlobalMaxPooling1D(),\n",
    "    tf.keras.layers.Dense(64, activation='relu'),\n",
    "    tf.keras.layers.Dropout(0.5),\n",
    "    tf.keras.layers.Dense(7, activation='softmax')\n",
    "])\n",
    "\n",
    "model.compile(optimizer='adam', loss='sparse_categorical_crossentropy', metrics=['accuracy'])\n",
    "model.summary()\n"
   ]
  },
  {
   "cell_type": "markdown",
   "id": "748d776d",
   "metadata": {},
   "source": [
    "## 🔁 第 7 部分：模型訓練"
   ]
  },
  {
   "cell_type": "code",
   "execution_count": 7,
   "id": "43ba27a4",
   "metadata": {},
   "outputs": [
    {
     "name": "stdout",
     "output_type": "stream",
     "text": [
      "Epoch 1/10\n",
      "58/58 [==============================] - 20s 220ms/step - loss: 1.8703 - accuracy: 0.2255 - val_loss: 1.8017 - val_accuracy: 0.2935\n",
      "Epoch 2/10\n",
      "58/58 [==============================] - 8s 135ms/step - loss: 1.8086 - accuracy: 0.2957 - val_loss: 1.7561 - val_accuracy: 0.4457\n",
      "Epoch 3/10\n",
      "58/58 [==============================] - 3s 50ms/step - loss: 1.7400 - accuracy: 0.3582 - val_loss: 1.6442 - val_accuracy: 0.4043\n",
      "Epoch 4/10\n",
      "58/58 [==============================] - 7s 115ms/step - loss: 1.6334 - accuracy: 0.4000 - val_loss: 1.5545 - val_accuracy: 0.4674\n",
      "Epoch 5/10\n",
      "58/58 [==============================] - 7s 112ms/step - loss: 1.5924 - accuracy: 0.4103 - val_loss: 1.4905 - val_accuracy: 0.4826\n",
      "Epoch 6/10\n",
      "58/58 [==============================] - 4s 69ms/step - loss: 1.5487 - accuracy: 0.4272 - val_loss: 1.4778 - val_accuracy: 0.4457\n",
      "Epoch 7/10\n",
      "58/58 [==============================] - 4s 75ms/step - loss: 1.5387 - accuracy: 0.4359 - val_loss: 1.4946 - val_accuracy: 0.4283\n",
      "Epoch 8/10\n",
      "58/58 [==============================] - 5s 77ms/step - loss: 1.5154 - accuracy: 0.4511 - val_loss: 1.4469 - val_accuracy: 0.4435\n",
      "Epoch 9/10\n",
      "58/58 [==============================] - 4s 74ms/step - loss: 1.5242 - accuracy: 0.4446 - val_loss: 1.4229 - val_accuracy: 0.4783\n",
      "Epoch 10/10\n",
      "58/58 [==============================] - 6s 108ms/step - loss: 1.4797 - accuracy: 0.4630 - val_loss: 1.3992 - val_accuracy: 0.5065\n"
     ]
    }
   ],
   "source": [
    "\n",
    "history = model.fit(X_train_tfidf, y_train, validation_data=(X_test_tfidf, y_test), epochs=10, batch_size=32)\n"
   ]
  },
  {
   "cell_type": "markdown",
   "id": "83706fd6",
   "metadata": {},
   "source": [
    "## 📈 第 8 部分：訓練過程視覺化"
   ]
  },
  {
   "cell_type": "code",
   "execution_count": 8,
   "id": "03d0d056",
   "metadata": {},
   "outputs": [
    {
     "name": "stderr",
     "output_type": "stream",
     "text": [
      "d:\\文大專題\\program\\Lingspam\\.venv\\lib\\site-packages\\IPython\\core\\pylabtools.py:152: UserWarning: Glyph 35347 (\\N{CJK UNIFIED IDEOGRAPH-8A13}) missing from current font.\n",
      "  fig.canvas.print_figure(bytes_io, **kw)\n",
      "d:\\文大專題\\program\\Lingspam\\.venv\\lib\\site-packages\\IPython\\core\\pylabtools.py:152: UserWarning: Glyph 32244 (\\N{CJK UNIFIED IDEOGRAPH-7DF4}) missing from current font.\n",
      "  fig.canvas.print_figure(bytes_io, **kw)\n",
      "d:\\文大專題\\program\\Lingspam\\.venv\\lib\\site-packages\\IPython\\core\\pylabtools.py:152: UserWarning: Glyph 36942 (\\N{CJK UNIFIED IDEOGRAPH-904E}) missing from current font.\n",
      "  fig.canvas.print_figure(bytes_io, **kw)\n",
      "d:\\文大專題\\program\\Lingspam\\.venv\\lib\\site-packages\\IPython\\core\\pylabtools.py:152: UserWarning: Glyph 31243 (\\N{CJK UNIFIED IDEOGRAPH-7A0B}) missing from current font.\n",
      "  fig.canvas.print_figure(bytes_io, **kw)\n",
      "d:\\文大專題\\program\\Lingspam\\.venv\\lib\\site-packages\\IPython\\core\\pylabtools.py:152: UserWarning: Glyph 65288 (\\N{FULLWIDTH LEFT PARENTHESIS}) missing from current font.\n",
      "  fig.canvas.print_figure(bytes_io, **kw)\n",
      "d:\\文大專題\\program\\Lingspam\\.venv\\lib\\site-packages\\IPython\\core\\pylabtools.py:152: UserWarning: Glyph 28310 (\\N{CJK UNIFIED IDEOGRAPH-6E96}) missing from current font.\n",
      "  fig.canvas.print_figure(bytes_io, **kw)\n",
      "d:\\文大專題\\program\\Lingspam\\.venv\\lib\\site-packages\\IPython\\core\\pylabtools.py:152: UserWarning: Glyph 30906 (\\N{CJK UNIFIED IDEOGRAPH-78BA}) missing from current font.\n",
      "  fig.canvas.print_figure(bytes_io, **kw)\n",
      "d:\\文大專題\\program\\Lingspam\\.venv\\lib\\site-packages\\IPython\\core\\pylabtools.py:152: UserWarning: Glyph 29575 (\\N{CJK UNIFIED IDEOGRAPH-7387}) missing from current font.\n",
      "  fig.canvas.print_figure(bytes_io, **kw)\n",
      "d:\\文大專題\\program\\Lingspam\\.venv\\lib\\site-packages\\IPython\\core\\pylabtools.py:152: UserWarning: Glyph 25613 (\\N{CJK UNIFIED IDEOGRAPH-640D}) missing from current font.\n",
      "  fig.canvas.print_figure(bytes_io, **kw)\n",
      "d:\\文大專題\\program\\Lingspam\\.venv\\lib\\site-packages\\IPython\\core\\pylabtools.py:152: UserWarning: Glyph 22833 (\\N{CJK UNIFIED IDEOGRAPH-5931}) missing from current font.\n",
      "  fig.canvas.print_figure(bytes_io, **kw)\n",
      "d:\\文大專題\\program\\Lingspam\\.venv\\lib\\site-packages\\IPython\\core\\pylabtools.py:152: UserWarning: Glyph 65289 (\\N{FULLWIDTH RIGHT PARENTHESIS}) missing from current font.\n",
      "  fig.canvas.print_figure(bytes_io, **kw)\n",
      "d:\\文大專題\\program\\Lingspam\\.venv\\lib\\site-packages\\IPython\\core\\pylabtools.py:152: UserWarning: Glyph 20540 (\\N{CJK UNIFIED IDEOGRAPH-503C}) missing from current font.\n",
      "  fig.canvas.print_figure(bytes_io, **kw)\n"
     ]
    },
    {
     "data": {
      "image/png": "[encoded data removed]",
      "text/plain": [
       "<Figure size 640x480 with 1 Axes>"
      ]
     },
     "metadata": {},
     "output_type": "display_data"
    }
   ],
   "source": [
    "\n",
    "plt.plot(history.history['accuracy'], label='Train Acc')\n",
    "plt.plot(history.history['val_accuracy'], label='Val Acc')\n",
    "plt.plot(history.history['loss'], label='Train Loss')\n",
    "plt.plot(history.history['val_loss'], label='Val Loss')\n",
    "plt.title(\"訓練過程（準確率 / 損失）\")\n",
    "plt.xlabel(\"Epoch\")\n",
    "plt.ylabel(\"值\")\n",
    "plt.legend()\n",
    "plt.grid(True)\n",
    "plt.show()\n"
   ]
  },
  {
   "cell_type": "markdown",
   "id": "2a7b1dc0",
   "metadata": {},
   "source": [
    "## 📊 第 9 部分：模型評估與混淆矩陣"
   ]
  },
  {
   "cell_type": "code",
   "execution_count": 9,
   "id": "b65f3107",
   "metadata": {},
   "outputs": [
    {
     "name": "stdout",
     "output_type": "stream",
     "text": [
      "15/15 [==============================] - 1s 38ms/step\n",
      "              precision    recall  f1-score   support\n",
      "\n",
      "           0     0.0000    0.0000    0.0000        60\n",
      "           1     0.0000    0.0000    0.0000        11\n",
      "           2     0.4632    0.7500    0.5727        84\n",
      "           3     0.6543    0.9060    0.7599       117\n",
      "           4     0.4412    0.6593    0.5286        91\n",
      "           5     0.1538    0.0656    0.0920        61\n",
      "           6     0.0000    0.0000    0.0000        36\n",
      "\n",
      "    accuracy                         0.5065       460\n",
      "   macro avg     0.2447    0.3401    0.2790       460\n",
      "weighted avg     0.3587    0.5065    0.4146       460\n",
      "\n"
     ]
    },
    {
     "name": "stderr",
     "output_type": "stream",
     "text": [
      "d:\\文大專題\\program\\Lingspam\\.venv\\lib\\site-packages\\sklearn\\metrics\\_classification.py:1344: UndefinedMetricWarning: Precision and F-score are ill-defined and being set to 0.0 in labels with no predicted samples. Use `zero_division` parameter to control this behavior.\n",
      "  _warn_prf(average, modifier, msg_start, len(result))\n",
      "d:\\文大專題\\program\\Lingspam\\.venv\\lib\\site-packages\\sklearn\\metrics\\_classification.py:1344: UndefinedMetricWarning: Precision and F-score are ill-defined and being set to 0.0 in labels with no predicted samples. Use `zero_division` parameter to control this behavior.\n",
      "  _warn_prf(average, modifier, msg_start, len(result))\n",
      "d:\\文大專題\\program\\Lingspam\\.venv\\lib\\site-packages\\sklearn\\metrics\\_classification.py:1344: UndefinedMetricWarning: Precision and F-score are ill-defined and being set to 0.0 in labels with no predicted samples. Use `zero_division` parameter to control this behavior.\n",
      "  _warn_prf(average, modifier, msg_start, len(result))\n",
      "d:\\文大專題\\program\\Lingspam\\.venv\\lib\\site-packages\\IPython\\core\\pylabtools.py:152: UserWarning: Glyph 28151 (\\N{CJK UNIFIED IDEOGRAPH-6DF7}) missing from current font.\n",
      "  fig.canvas.print_figure(bytes_io, **kw)\n",
      "d:\\文大專題\\program\\Lingspam\\.venv\\lib\\site-packages\\IPython\\core\\pylabtools.py:152: UserWarning: Glyph 28102 (\\N{CJK UNIFIED IDEOGRAPH-6DC6}) missing from current font.\n",
      "  fig.canvas.print_figure(bytes_io, **kw)\n",
      "d:\\文大專題\\program\\Lingspam\\.venv\\lib\\site-packages\\IPython\\core\\pylabtools.py:152: UserWarning: Glyph 30697 (\\N{CJK UNIFIED IDEOGRAPH-77E9}) missing from current font.\n",
      "  fig.canvas.print_figure(bytes_io, **kw)\n",
      "d:\\文大專題\\program\\Lingspam\\.venv\\lib\\site-packages\\IPython\\core\\pylabtools.py:152: UserWarning: Glyph 38499 (\\N{CJK UNIFIED IDEOGRAPH-9663}) missing from current font.\n",
      "  fig.canvas.print_figure(bytes_io, **kw)\n",
      "d:\\文大專題\\program\\Lingspam\\.venv\\lib\\site-packages\\IPython\\core\\pylabtools.py:152: UserWarning: Glyph 38928 (\\N{CJK UNIFIED IDEOGRAPH-9810}) missing from current font.\n",
      "  fig.canvas.print_figure(bytes_io, **kw)\n",
      "d:\\文大專題\\program\\Lingspam\\.venv\\lib\\site-packages\\IPython\\core\\pylabtools.py:152: UserWarning: Glyph 28204 (\\N{CJK UNIFIED IDEOGRAPH-6E2C}) missing from current font.\n",
      "  fig.canvas.print_figure(bytes_io, **kw)\n",
      "d:\\文大專題\\program\\Lingspam\\.venv\\lib\\site-packages\\IPython\\core\\pylabtools.py:152: UserWarning: Glyph 20540 (\\N{CJK UNIFIED IDEOGRAPH-503C}) missing from current font.\n",
      "  fig.canvas.print_figure(bytes_io, **kw)\n",
      "d:\\文大專題\\program\\Lingspam\\.venv\\lib\\site-packages\\IPython\\core\\pylabtools.py:152: UserWarning: Glyph 23526 (\\N{CJK UNIFIED IDEOGRAPH-5BE6}) missing from current font.\n",
      "  fig.canvas.print_figure(bytes_io, **kw)\n",
      "d:\\文大專題\\program\\Lingspam\\.venv\\lib\\site-packages\\IPython\\core\\pylabtools.py:152: UserWarning: Glyph 38555 (\\N{CJK UNIFIED IDEOGRAPH-969B}) missing from current font.\n",
      "  fig.canvas.print_figure(bytes_io, **kw)\n"
     ]
    },
    {
     "data": {
      "image/png": "[encoded data removed]",
      "text/plain": [
       "<Figure size 800x600 with 2 Axes>"
      ]
     },
     "metadata": {},
     "output_type": "display_data"
    }
   ],
   "source": [
    "\n",
    "y_pred = model.predict(X_test_tfidf)\n",
    "y_pred_labels = np.argmax(y_pred, axis=1)\n",
    "\n",
    "print(classification_report(y_test, y_pred_labels, digits=4))\n",
    "\n",
    "cm = confusion_matrix(y_test, y_pred_labels)\n",
    "plt.figure(figsize=(8,6))\n",
    "sns.heatmap(cm, annot=True, fmt='d', cmap=\"Blues\")\n",
    "plt.title(\"混淆矩陣\")\n",
    "plt.xlabel(\"預測值\")\n",
    "plt.ylabel(\"實際值\")\n",
    "plt.show()\n"
   ]
  }
 ],
 "metadata": {
  "kernelspec": {
   "display_name": ".venv",
   "language": "python",
   "name": "python3"
  },
  "language_info": {
   "codemirror_mode": {
    "name": "ipython",
    "version": 3
   },
   "file_extension": ".py",
   "mimetype": "text/x-python",
   "name": "python",
   "nbconvert_exporter": "python",
   "pygments_lexer": "ipython3",
   "version": "3.9.2"
  }
 },
 "nbformat": 4,
 "nbformat_minor": 5
}
